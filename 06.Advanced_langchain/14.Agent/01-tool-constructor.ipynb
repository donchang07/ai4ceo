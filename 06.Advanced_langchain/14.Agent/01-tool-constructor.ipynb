{
 "cells": [
  {
   "cell_type": "code",
   "execution_count": 1,
   "metadata": {},
   "outputs": [
    {
     "data": {
      "text/plain": [
       "True"
      ]
     },
     "execution_count": 1,
     "metadata": {},
     "output_type": "execute_result"
    }
   ],
   "source": [
    "# Docs: https://python.langchain.com/v0.1/docs/modules/tools/custom_tools/\n",
    "\n",
    "# Import necessary libraries\n",
    "from langchain import hub\n",
    "from langchain.agents import AgentExecutor, create_tool_calling_agent\n",
    "from langchain.pydantic_v1 import BaseModel, Field\n",
    "from langchain_core.tools import StructuredTool, Tool\n",
    "from langchain_openai import ChatOpenAI\n",
    "from dotenv import load_dotenv\n",
    "import os\n",
    "load_dotenv()"
   ]
  },
  {
   "cell_type": "code",
   "execution_count": 2,
   "metadata": {},
   "outputs": [],
   "source": [
    "# Functions for the tools\n",
    "def greet_user(name: str) -> str:\n",
    "    \"\"\"Greets the user by name.\"\"\"\n",
    "    return f\"Hello, {name}!\"\n",
    "\n",
    "\n",
    "def reverse_string(text: str) -> str:\n",
    "    \"\"\"Reverses the given string.\"\"\"\n",
    "    return text[::-1]\n",
    "\n",
    "\n",
    "def concatenate_strings(a: str, b: str) -> str:\n",
    "    \"\"\"Concatenates two strings.\"\"\"\n",
    "    return a + b\n",
    "\n",
    "\n",
    "# Pydantic model for tool arguments\n",
    "class ConcatenateStringsArgs(BaseModel):\n",
    "    a: str = Field(description=\"First string\")\n",
    "    b: str = Field(description=\"Second string\")"
   ]
  },
  {
   "cell_type": "code",
   "execution_count": 3,
   "metadata": {},
   "outputs": [],
   "source": [
    "\n",
    "# Create tools using the Tool and StructuredTool constructor approach\n",
    "tools = [\n",
    "    # Use Tool for simpler functions with a single input parameter.\n",
    "    # This is straightforward and doesn't require an input schema.\n",
    "    Tool(\n",
    "        name=\"GreetUser\",  # Name of the tool\n",
    "        func=greet_user,  # Function to execute\n",
    "        description=\"Greets the user by name.\",  # Description of the tool\n",
    "    ),\n",
    "    # Use Tool for another simple function with a single input parameter.\n",
    "    Tool(\n",
    "        name=\"ReverseString\",  # Name of the tool\n",
    "        func=reverse_string,  # Function to execute\n",
    "        description=\"Reverses the given string.\",  # Description of the tool\n",
    "    ),\n",
    "    # Use StructuredTool for more complex functions that require multiple input parameters.\n",
    "    # StructuredTool allows us to define an input schema using Pydantic, ensuring proper validation and description.\n",
    "    StructuredTool.from_function(\n",
    "        func=concatenate_strings,  # Function to execute\n",
    "        name=\"ConcatenateStrings\",  # Name of the tool\n",
    "        description=\"Concatenates two strings.\",  # Description of the tool\n",
    "        args_schema=ConcatenateStringsArgs,  # Schema defining the tool's input arguments\n",
    "    ),\n",
    "]"
   ]
  },
  {
   "cell_type": "code",
   "execution_count": 4,
   "metadata": {},
   "outputs": [],
   "source": [
    "\n",
    "\n",
    "# Initialize a ChatOpenAI model\n",
    "llm = ChatOpenAI(model=\"gpt-4o\")\n",
    "\n",
    "# Pull the prompt template from the hub\n",
    "prompt = hub.pull(\"hwchase17/openai-tools-agent\")\n",
    "\n",
    "# Create the ReAct agent using the create_tool_calling_agent function\n",
    "agent = create_tool_calling_agent(\n",
    "    llm=llm,  # Language model to use\n",
    "    tools=tools,  # List of tools available to the agent\n",
    "    prompt=prompt,  # Prompt template to guide the agent's responses\n",
    ")\n",
    "\n",
    "# Create the agent executor\n",
    "agent_executor = AgentExecutor.from_agent_and_tools(\n",
    "    agent=agent,  # The agent to execute\n",
    "    tools=tools,  # List of tools available to the agent\n",
    "    verbose=True,  # Enable verbose logging\n",
    "    handle_parsing_errors=True,  # Handle parsing errors gracefully\n",
    ")\n",
    "\n"
   ]
  },
  {
   "cell_type": "code",
   "execution_count": 6,
   "metadata": {},
   "outputs": [
    {
     "name": "stdout",
     "output_type": "stream",
     "text": [
      "\n",
      "\n",
      "\u001b[1m> Entering new AgentExecutor chain...\u001b[0m\n",
      "\u001b[32;1m\u001b[1;3m\n",
      "Invoking: `ReverseString` with `hello`\n",
      "\n",
      "\n",
      "\u001b[0m\u001b[33;1m\u001b[1;3molleh\u001b[0m\u001b[32;1m\u001b[1;3mThe reverse of the string 'hello' is 'olleh'.\u001b[0m\n",
      "\n",
      "\u001b[1m> Finished chain.\u001b[0m\n",
      "Response for 'Reverse the string hello': The reverse of the string 'hello' is 'olleh'.\n"
     ]
    }
   ],
   "source": [
    "response = agent_executor.invoke({\"input\": \"Reverse the string 'hello'\"})\n",
    "print(\"Response for 'Reverse the string hello':\", response[\"output\"])\n",
    "\n"
   ]
  },
  {
   "cell_type": "code",
   "execution_count": 7,
   "metadata": {},
   "outputs": [
    {
     "name": "stdout",
     "output_type": "stream",
     "text": [
      "\n",
      "\n",
      "\u001b[1m> Entering new AgentExecutor chain...\u001b[0m\n",
      "\u001b[32;1m\u001b[1;3m\n",
      "Invoking: `GreetUser` with `Alice`\n",
      "\n",
      "\n",
      "\u001b[0m\u001b[36;1m\u001b[1;3mHello, Alice!\u001b[0m\u001b[32;1m\u001b[1;3mHello, Alice!\u001b[0m\n",
      "\n",
      "\u001b[1m> Finished chain.\u001b[0m\n",
      "Response for 'Greet Alice': Hello, Alice!\n"
     ]
    }
   ],
   "source": [
    "\n",
    "# Test the agent with sample queries\n",
    "response = agent_executor.invoke({\"input\": \"Greet Alice\"})\n",
    "print(\"Response for 'Greet Alice':\", response[\"output\"])\n",
    "\n"
   ]
  },
  {
   "cell_type": "code",
   "execution_count": 8,
   "metadata": {},
   "outputs": [
    {
     "name": "stdout",
     "output_type": "stream",
     "text": [
      "\n",
      "\n",
      "\u001b[1m> Entering new AgentExecutor chain...\u001b[0m\n",
      "\u001b[32;1m\u001b[1;3m\n",
      "Invoking: `ConcatenateStrings` with `{'a': 'hello', 'b': 'world'}`\n",
      "\n",
      "\n",
      "\u001b[0m\u001b[38;5;200m\u001b[1;3mhelloworld\u001b[0m\u001b[32;1m\u001b[1;3mThe concatenated result is: **helloworld**\u001b[0m\n",
      "\n",
      "\u001b[1m> Finished chain.\u001b[0m\n",
      "Response for 'Concatenate hello and world': The concatenated result is: **helloworld**\n"
     ]
    }
   ],
   "source": [
    "response = agent_executor.invoke({\"input\": \"Concatenate 'hello' and 'world'\"})\n",
    "print(\"Response for 'Concatenate hello and world':\", response[\"output\"])"
   ]
  }
 ],
 "metadata": {
  "kernelspec": {
   "display_name": "base",
   "language": "python",
   "name": "python3"
  },
  "language_info": {
   "codemirror_mode": {
    "name": "ipython",
    "version": 3
   },
   "file_extension": ".py",
   "mimetype": "text/x-python",
   "name": "python",
   "nbconvert_exporter": "python",
   "pygments_lexer": "ipython3",
   "version": "3.11.9"
  }
 },
 "nbformat": 4,
 "nbformat_minor": 2
}
