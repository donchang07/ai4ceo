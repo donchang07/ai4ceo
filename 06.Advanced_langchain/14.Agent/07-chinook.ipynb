{
 "cells": [
  {
   "cell_type": "code",
   "execution_count": 2,
   "metadata": {},
   "outputs": [
    {
     "data": {
      "text/plain": [
       "True"
      ]
     },
     "execution_count": 2,
     "metadata": {},
     "output_type": "execute_result"
    }
   ],
   "source": [
    "from dotenv import load_dotenv\n",
    "load_dotenv()"
   ]
  },
  {
   "cell_type": "markdown",
   "metadata": {},
   "source": [
    "https://www.sqlitetutorial.net/sqlite-sample-database/"
   ]
  },
  {
   "cell_type": "code",
   "execution_count": 3,
   "metadata": {},
   "outputs": [
    {
     "name": "stdout",
     "output_type": "stream",
     "text": [
      "Database dialect: sqlite\n",
      "Usable table names: ['albums', 'artists', 'customers', 'employees', 'genres', 'invoice_items', 'invoices', 'media_types', 'playlist_track', 'playlists', 'tracks']\n",
      "Query result: [(1, 'Adams', 'Andrew', 'General Manager', None, '1962-02-18 00:00:00', '2002-08-14 00:00:00', '11120 Jasper Ave NW', 'Edmonton', 'AB', 'Canada', 'T5K 2N1', '+1 (780) 428-9482', '+1 (780) 428-3457', 'andrew@chinookcorp.com'), (2, 'Edwards', 'Nancy', 'Sales Manager', 1, '1958-12-08 00:00:00', '2002-05-01 00:00:00', '825 8 Ave SW', 'Calgary', 'AB', 'Canada', 'T2P 2T3', '+1 (403) 262-3443', '+1 (403) 262-3322', 'nancy@chinookcorp.com'), (3, 'Peacock', 'Jane', 'Sales Support Agent', 2, '1973-08-29 00:00:00', '2002-04-01 00:00:00', '1111 6 Ave SW', 'Calgary', 'AB', 'Canada', 'T2P 5M5', '+1 (403) 262-3443', '+1 (403) 262-6712', 'jane@chinookcorp.com'), (4, 'Park', 'Margaret', 'Sales Support Agent', 2, '1947-09-19 00:00:00', '2003-05-03 00:00:00', '683 10 Street SW', 'Calgary', 'AB', 'Canada', 'T2P 5G3', '+1 (403) 263-4423', '+1 (403) 263-4289', 'margaret@chinookcorp.com'), (5, 'Johnson', 'Steve', 'Sales Support Agent', 2, '1965-03-03 00:00:00', '2003-10-17 00:00:00', '7727B 41 Ave', 'Calgary', 'AB', 'Canada', 'T3B 1Y7', '1 (780) 836-9987', '1 (780) 836-9543', 'steve@chinookcorp.com'), (6, 'Mitchell', 'Michael', 'IT Manager', 1, '1973-07-01 00:00:00', '2003-10-17 00:00:00', '5827 Bowness Road NW', 'Calgary', 'AB', 'Canada', 'T3B 0C5', '+1 (403) 246-9887', '+1 (403) 246-9899', 'michael@chinookcorp.com'), (7, 'King', 'Robert', 'IT Staff', 6, '1970-05-29 00:00:00', '2004-01-02 00:00:00', '590 Columbia Boulevard West', 'Lethbridge', 'AB', 'Canada', 'T1K 5N8', '+1 (403) 456-9986', '+1 (403) 456-8485', 'robert@chinookcorp.com'), (8, 'Callahan', 'Laura', 'IT Staff', 6, '1968-01-09 00:00:00', '2004-03-04 00:00:00', '923 7 ST NW', 'Lethbridge', 'AB', 'Canada', 'T1H 1Y8', '+1 (403) 467-3351', '+1 (403) 467-8772', 'laura@chinookcorp.com')]\n"
     ]
    }
   ],
   "source": [
    "import os\n",
    "from langchain_community.utilities import SQLDatabase\n",
    "\n",
    "# 현재 작업 디렉토리를 사용합니다.\n",
    "current_dir = os.getcwd()\n",
    "\n",
    "# chinook.db 파일의 전체 경로를 생성합니다.\n",
    "db_path = os.path.join(current_dir, \"chinook.db\")\n",
    "\n",
    "# SQLite 데이터베이스 URI를 생성합니다.\n",
    "db_uri = f\"sqlite:///{db_path}\"\n",
    "\n",
    "# 데이터베이스 연결을 생성합니다.\n",
    "db = SQLDatabase.from_uri(db_uri)\n",
    "\n",
    "# 데이터베이스 방언(dialect)을 출력합니다.\n",
    "print(\"Database dialect:\", db.dialect)\n",
    "\n",
    "# 사용 가능한 테이블 이름을 출력합니다.\n",
    "print(\"Usable table names:\", db.get_usable_table_names())\n",
    "\n",
    "# employees 테이블에서 모든 데이터를 조회합니다.\n",
    "result = db.run(\"SELECT * FROM employees;\")\n",
    "print(\"Query result:\", result)"
   ]
  },
  {
   "cell_type": "code",
   "execution_count": 4,
   "metadata": {},
   "outputs": [
    {
     "data": {
      "text/plain": [
       "'SELECT \"FirstName\", \"LastName\" \\nFROM employees \\nLIMIT 10;'"
      ]
     },
     "execution_count": 4,
     "metadata": {},
     "output_type": "execute_result"
    }
   ],
   "source": [
    "from langchain.chains import create_sql_query_chain\n",
    "from langchain_openai import ChatOpenAI\n",
    "\n",
    "llm = ChatOpenAI(temperature=0)\n",
    "chain = create_sql_query_chain(llm, db)\n",
    "response = chain.invoke({\"question\":\"처음 10명의 직원의 이름을 표시해줘\"})\n",
    "response"
   ]
  },
  {
   "cell_type": "code",
   "execution_count": 5,
   "metadata": {},
   "outputs": [
    {
     "data": {
      "text/plain": [
       "\"[('Andrew', 'Adams'), ('Nancy', 'Edwards'), ('Jane', 'Peacock'), ('Margaret', 'Park'), ('Steve', 'Johnson'), ('Michael', 'Mitchell'), ('Robert', 'King'), ('Laura', 'Callahan')]\""
      ]
     },
     "execution_count": 5,
     "metadata": {},
     "output_type": "execute_result"
    }
   ],
   "source": [
    "db.run(response)"
   ]
  },
  {
   "cell_type": "code",
   "execution_count": 6,
   "metadata": {},
   "outputs": [
    {
     "data": {
      "text/plain": [
       "'[(8,)]'"
      ]
     },
     "execution_count": 6,
     "metadata": {},
     "output_type": "execute_result"
    }
   ],
   "source": [
    "response = chain.invoke({\"question\":\"직원은 모두 몇명이야\"})\n",
    "db.run(response)"
   ]
  },
  {
   "cell_type": "code",
   "execution_count": 7,
   "metadata": {},
   "outputs": [
    {
     "data": {
      "text/plain": [
       "'[(8,)]'"
      ]
     },
     "execution_count": 7,
     "metadata": {},
     "output_type": "execute_result"
    }
   ],
   "source": [
    "# 실제 DB에 query를 직접 실행하기 위한 도구를 임포트합니다\n",
    "from langchain_community.tools.sql_database.tool import QuerySQLDataBaseTool\n",
    "\n",
    "# DB에 직접 쿼리를 실행할 수 있는 도구를 생성합니다\n",
    "execute_query = QuerySQLDataBaseTool(db=db)\n",
    "\n",
    "# LLM을 사용하여 자연어 질문을 SQL 쿼리로 변환하는 체인을 생성합니다\n",
    "write_query = create_sql_query_chain(llm, db)\n",
    "\n",
    "# SQL 쿼리 생성과 실행을 연결하는 체인을 생성합니다\n",
    "chain = write_query | execute_query\n",
    "\n",
    "# 생성된 체인을 사용하여 자연어 질문을 처리하고 결과를 반환합니다\n",
    "# 이 경우 \"직원은 모두 몇명이야\"라는 질문에 대한 답을 구합니다\n",
    "chain.invoke({\"question\":\"직원은 모두 몇명이야\"})"
   ]
  },
  {
   "cell_type": "code",
   "execution_count": 8,
   "metadata": {},
   "outputs": [],
   "source": [
    "# LangChain agent를 활용해서 SQL query를 실행하고 결과를 출력하는 코드\n",
    "\n",
    "# SQL 데이터베이스와 상호작용할 수 있는 agent를 생성하는 함수를 임포트합니다\n",
    "from langchain_community.agent_toolkits import create_sql_agent\n",
    "\n",
    "# SQL agent를 생성합니다\n",
    "agent_executor = create_sql_agent(\n",
    "    llm,                    # 언어 모델 (Large Language Model)\n",
    "    db=db,                  # 연결할 데이터베이스\n",
    "    agent_type=\"openai-tools\",  # agent 유형을 OpenAI 도구로 지정\n",
    "    verbose=False           # 상세한 출력을 비활성화\n",
    ")"
   ]
  },
  {
   "cell_type": "code",
   "execution_count": 9,
   "metadata": {},
   "outputs": [
    {
     "name": "stdout",
     "output_type": "stream",
     "text": [
      "직원은 총 8명입니다.\n"
     ]
    }
   ],
   "source": [
    "response =  agent_executor.invoke(\"직원은 모두 몇명이야\")[\"output\"]\n",
    "print(response)"
   ]
  },
  {
   "cell_type": "code",
   "execution_count": 10,
   "metadata": {},
   "outputs": [
    {
     "name": "stdout",
     "output_type": "stream",
     "text": [
      "The top 10 customers who made the most purchases along with their total purchase amounts are:\n",
      "\n",
      "1. Helena Holý - $49.62\n",
      "2. Richard Cunningham - $47.62\n",
      "3. Luis Rojas - $46.62\n",
      "4. Ladislav Kovács - $45.62\n",
      "5. Hugh O'Reilly - $45.62\n",
      "6. Frank Ralston - $43.62\n",
      "7. Julia Barnett - $43.62\n",
      "8. Fynn Zimmermann - $43.62\n",
      "9. Astrid Gruber - $42.62\n",
      "10. Victor Stevens - $42.62\n"
     ]
    }
   ],
   "source": [
    "response =  agent_executor.invoke(\"고객중에서 가장 구매를 많이한 top 10명과 각각 구매액을 표시해줘\")[\"output\"]\n",
    "print(response)"
   ]
  },
  {
   "cell_type": "code",
   "execution_count": 11,
   "metadata": {},
   "outputs": [
    {
     "name": "stdout",
     "output_type": "stream",
     "text": [
      "가장 많이 팔린 곡 5개는 다음과 같습니다:\n",
      "1. Wrathchild - 5회 판매\n",
      "2. The Trooper - 5회 판매\n",
      "3. The Number Of The Beast - 5회 판매\n",
      "4. Iron Maiden - 5회 판매\n",
      "5. Hallowed Be Thy Name - 5회 판매\n"
     ]
    }
   ],
   "source": [
    "response =  agent_executor.invoke(\"가장 많이 팔린 곡 5개는\")[\"output\"]\n",
    "print(response)"
   ]
  },
  {
   "cell_type": "code",
   "execution_count": 12,
   "metadata": {},
   "outputs": [
    {
     "name": "stdout",
     "output_type": "stream",
     "text": [
      "The genre that has sold the most is \"Rock\" with a total of 835 sales.\n"
     ]
    }
   ],
   "source": [
    "response =  agent_executor.invoke(\"가장 많이 팔린 장르는\")[\"output\"]\n",
    "print(response)"
   ]
  },
  {
   "cell_type": "code",
   "execution_count": null,
   "metadata": {},
   "outputs": [],
   "source": []
  }
 ],
 "metadata": {
  "kernelspec": {
   "display_name": "base",
   "language": "python",
   "name": "python3"
  },
  "language_info": {
   "codemirror_mode": {
    "name": "ipython",
    "version": 3
   },
   "file_extension": ".py",
   "mimetype": "text/x-python",
   "name": "python",
   "nbconvert_exporter": "python",
   "pygments_lexer": "ipython3",
   "version": "3.11.9"
  }
 },
 "nbformat": 4,
 "nbformat_minor": 2
}
