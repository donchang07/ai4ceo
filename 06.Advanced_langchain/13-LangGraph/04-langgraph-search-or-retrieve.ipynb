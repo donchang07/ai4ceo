{
 "cells": [
  {
   "cell_type": "markdown",
   "id": "6fa6fb7f",
   "metadata": {},
   "source": [
    "# 부족한 정보를 검색하여 Context 보강\n",
    "\n",
    "**절차**\n",
    "\n",
    "1. 전통적인 RAG 를 수행\n",
    "2. 검색된 문서에 답변에 필요한 정보가 부족한 경우 -> “웹 검색”을 위한 쿼리 재작성\n",
    "3. “웹 검색” 으로 보충된 정보로 답변 도출 시도\n",
    "4. 새로운 답변으로 관련성 체크 후 재조정/종료 진행\n",
    "\n",
    "![](image/retrieve-and-search.jpeg)"
   ]
  },
  {
   "cell_type": "code",
   "execution_count": 32,
   "id": "064d5c8c",
   "metadata": {},
   "outputs": [
    {
     "data": {
      "text/plain": [
       "True"
      ]
     },
     "execution_count": 32,
     "metadata": {},
     "output_type": "execute_result"
    }
   ],
   "source": [
    "# api key\n",
    "from dotenv import load_dotenv\n",
    "\n",
    "load_dotenv()"
   ]
  },
  {
   "cell_type": "code",
   "execution_count": 33,
   "id": "562b0043",
   "metadata": {},
   "outputs": [
    {
     "name": "stdout",
     "output_type": "stream",
     "text": [
      "LangSmith 추적을 시작합니다.\n",
      "[프로젝트명]\n",
      "CH17-LANGGRAPH\n"
     ]
    }
   ],
   "source": [
    "# LangSmith 추적을 설정합니다. https://smith.langchain.com\n",
    "# !pip install -qU langchain-teddynote\n",
    "from langchain_teddynote import logging\n",
    "\n",
    "# 프로젝트 이름을 입력합니다.\n",
    "logging.langsmith(\"CH17-LANGGRAPH\")"
   ]
  },
  {
   "cell_type": "code",
   "execution_count": 34,
   "id": "f905df18",
   "metadata": {},
   "outputs": [],
   "source": [
    "from rag.pdf import PDFRetrievalChain\n",
    "\n",
    "pdf = PDFRetrievalChain([\"E:\\course\\data\\SPRI_AI_Brief_2023년12월호.pdf\"]).create_chain()\n",
    "pdf_retriever = pdf.retriever\n",
    "pdf_chain = pdf.chain"
   ]
  },
  {
   "cell_type": "markdown",
   "id": "d047f938",
   "metadata": {},
   "source": [
    "## GraphState\n",
    "\n",
    "각 노드에서 다음 노드로 전달되는 상태를 저장합니다."
   ]
  },
  {
   "cell_type": "code",
   "execution_count": 35,
   "id": "f19a3df5",
   "metadata": {},
   "outputs": [],
   "source": [
    "from typing import TypedDict\n",
    "\n",
    "\n",
    "# GraphState 상태를 저장하는 용도로 사용합니다.\n",
    "class GraphState(TypedDict):\n",
    "    question: str  # 질문\n",
    "    context: str  # 문서의 검색 결과\n",
    "    answer: str  # 답변\n",
    "    relevance: str  # 답변의 문서에 대한 관련성"
   ]
  },
  {
   "cell_type": "markdown",
   "id": "c56d4095",
   "metadata": {},
   "source": [
    "## 노드와 엣지\n",
    "\n",
    "우리는 agentic RAG 그래프를 다음과 같이 구성할 수 있습니다:\n",
    "\n",
    "- 상태는 메시지의 집합입니다\n",
    "- 각 노드는 상태를 업데이트(추가)합니다\n",
    "- 조건부 엣지는 다음에 방문할 노드를 결정합니다\n",
    "\n",
    "![](https://teddylee777.github.io/images/2024-03-06-langgraph-agentic-rag/nodes-and-edges.png)\n"
   ]
  },
  {
   "cell_type": "code",
   "execution_count": 36,
   "id": "9ef0c055",
   "metadata": {},
   "outputs": [],
   "source": [
    "from langchain_upstage import UpstageGroundednessCheck\n",
    "from langchain_core.prompts import ChatPromptTemplate\n",
    "from langchain_openai import ChatOpenAI\n",
    "from langchain_core.output_parsers import StrOutputParser\n",
    "from langchain_community.tools.tavily_search import TavilySearchResults\n",
    "from rag.utils import format_docs, format_searched_docs\n",
    "\n",
    "# 업스테이지 문서 관련성 체크 기능을 설정합니다. https://upstage.ai\n",
    "upstage_ground_checker = UpstageGroundednessCheck()\n",
    "\n",
    "\n",
    "# 문서에서 검색하여 관련성 있는 문서를 찾습니다.\n",
    "def retrieve_document(state: GraphState) -> GraphState:\n",
    "    # 문서에서 검색하여 관련성 있는 문서를 찾습니다.\n",
    "    retrieved_docs = pdf_retriever.invoke(state[\"question\"])\n",
    "\n",
    "    # 검색된 문서를 형식화합니다.\n",
    "    retrieved_docs = format_docs(retrieved_docs)\n",
    "\n",
    "    # 검색된 문서를 context 키에 저장합니다.\n",
    "    return GraphState(context=retrieved_docs)\n",
    "\n",
    "\n",
    "# LLM을 사용하여 답변을 생성합니다.\n",
    "def llm_answer(state: GraphState) -> GraphState:\n",
    "    question = state[\"question\"]\n",
    "    context = state[\"context\"]\n",
    "\n",
    "    # 체인을 호출하여 답변을 생성합니다.\n",
    "    response = pdf_chain.invoke({\"question\": question, \"context\": context})\n",
    "\n",
    "    return GraphState(answer=response)\n",
    "\n",
    "\n",
    "def rewrite(state):\n",
    "    question = state[\"question\"]\n",
    "    answer = state[\"answer\"]\n",
    "    context = state[\"context\"]\n",
    "    prompt = ChatPromptTemplate.from_messages(\n",
    "        [\n",
    "            (\n",
    "                \"system\",\n",
    "                \"You are a professional prompt rewriter. Your task is to generate the question in order to get additional information that is now shown in the context.\"\n",
    "                \"Your generated question will be searched on the web to find relevant information.\",\n",
    "            ),\n",
    "            (\n",
    "                \"human\",\n",
    "                \"Rewrite the question to get additional information to get the answer.\"\n",
    "                \"\\n\\nHere is the initial question:\\n ------- \\n{question}\\n ------- \\n\"\n",
    "                \"\\n\\nHere is the initial context:\\n ------- \\n{context}\\n ------- \\n\"\n",
    "                \"\\n\\nHere is the initial answer to the question:\\n ------- \\n{answer}\\n ------- \\n\"\n",
    "                \"\\n\\nFormulate an improved question in Korean:\",\n",
    "            ),\n",
    "        ]\n",
    "    )\n",
    "\n",
    "    # Question rewriting model\n",
    "    model = ChatOpenAI(temperature=0, model=\"gpt-4o\")\n",
    "\n",
    "    chain = prompt | model | StrOutputParser()\n",
    "    response = chain.invoke(\n",
    "        {\"question\": question, \"answer\": answer, \"context\": context}\n",
    "    )\n",
    "    return GraphState(question=response)\n",
    "\n",
    "\n",
    "def search_on_web(state: GraphState) -> GraphState:\n",
    "    # 문서에서 검색하여 관련성 있는 문서를 찾습니다.\n",
    "    search_tool = TavilySearchResults(max_results=5)\n",
    "    search_result = search_tool.invoke({\"query\": state[\"question\"]})\n",
    "\n",
    "    # 검색된 문서를 형식화합니다.\n",
    "    search_result = format_searched_docs(search_result)\n",
    "    # 검색된 문서를 context 키에 저장합니다.\n",
    "    return GraphState(\n",
    "        context=search_result,\n",
    "    )\n",
    "\n",
    "\n",
    "def relevance_check(state: GraphState) -> GraphState:\n",
    "    print(\"relevance_check\", state)\n",
    "    # 관련성 체크를 실행합니다. 결과: grounded, notGrounded, notSure\n",
    "    response = upstage_ground_checker.run(\n",
    "        {\"context\": state[\"context\"], \"answer\": state[\"answer\"]}\n",
    "    )\n",
    "    return GraphState(\n",
    "        relevance=response, question=state[\"question\"], answer=state[\"answer\"]\n",
    "    )\n",
    "\n",
    "\n",
    "def is_relevant(state: GraphState) -> GraphState:\n",
    "    return state[\"relevance\"]"
   ]
  },
  {
   "cell_type": "code",
   "execution_count": 37,
   "id": "a6015807",
   "metadata": {},
   "outputs": [],
   "source": [
    "from langgraph.graph import END, StateGraph\n",
    "from langgraph.checkpoint.memory import MemorySaver\n",
    "\n",
    "# langgraph.graph에서 StateGraph와 END를 가져옵니다.\n",
    "workflow = StateGraph(GraphState)\n",
    "\n",
    "# 노드들을 정의합니다.\n",
    "workflow.add_node(\"retrieve\", retrieve_document)  # 에이전트 노드를 추가합니다.\n",
    "workflow.add_node(\"llm_answer\", llm_answer)  # 정보 검색 노드를 추가합니다.\n",
    "workflow.add_node(\n",
    "    \"relevance_check\", relevance_check\n",
    ")  # 답변의 문서에 대한 관련성 체크 노드를 추가합니다.\n",
    "workflow.add_node(\"rewrite\", rewrite)  # 질문을 재작성하는 노드를 추가합니다.\n",
    "workflow.add_node(\"search_on_web\", search_on_web)  # 웹 검색 노드를 추가합니다.\n",
    "\n",
    "# 각 노드들을 연결합니다.\n",
    "workflow.add_edge(\"retrieve\", \"llm_answer\")  # 검색 -> 답변\n",
    "workflow.add_edge(\"llm_answer\", \"relevance_check\")  # 답변 -> 관련성 체크\n",
    "workflow.add_edge(\"rewrite\", \"search_on_web\")  # 재작성 -> 관련성 체크\n",
    "workflow.add_edge(\"search_on_web\", \"llm_answer\")  # 웹 검색 -> 답변\n",
    "\n",
    "\n",
    "# 조건부 엣지를 추가합니다.\n",
    "workflow.add_conditional_edges(\n",
    "    \"relevance_check\",  # 관련성 체크 노드에서 나온 결과를 is_relevant 함수에 전달합니다.\n",
    "    is_relevant,\n",
    "    {\n",
    "        \"grounded\": END,  # 관련성이 있으면 종료합니다.\n",
    "        \"notGrounded\": \"rewrite\",  # 관련성이 없으면 다시 답변을 생성합니다.\n",
    "        \"notSure\": \"rewrite\",  # 관련성 체크 결과가 모호하다면 다시 답변을 생성합니다.\n",
    "    },\n",
    ")\n",
    "\n",
    "\n",
    "workflow.set_entry_point(\"retrieve\")\n",
    "\n",
    "memory = MemorySaver()\n",
    "\n",
    "app = workflow.compile(checkpointer=memory)"
   ]
  },
  {
   "cell_type": "code",
   "execution_count": 38,
   "id": "2e09251d",
   "metadata": {},
   "outputs": [
    {
     "data": {
      "image/jpeg": "[encoded data removed]",
      "text/plain": [
       "<IPython.core.display.Image object>"
      ]
     },
     "metadata": {},
     "output_type": "display_data"
    }
   ],
   "source": [
    "from IPython.display import Image, display\n",
    "\n",
    "try:\n",
    "    display(\n",
    "        Image(app.get_graph(xray=True).draw_mermaid_png())\n",
    "    )  # 실행 가능한 객체의 그래프를 mermaid 형식의 PNG로 그려서 표시합니다. xray=True는 추가적인 세부 정보를 포함합니다.\n",
    "except:\n",
    "    # 이 부분은 추가적인 의존성이 필요하며 선택적으로 실행됩니다.\n",
    "    pass"
   ]
  },
  {
   "cell_type": "code",
   "execution_count": 39,
   "id": "3004f341",
   "metadata": {},
   "outputs": [
    {
     "name": "stdout",
     "output_type": "stream",
     "text": [
      "\"Output from node 'retrieve':\"\n",
      "'---'\n",
      "{ 'context': '<document><content>SPRi AI Brief |\\n'\n",
      "             '2023-12월호\\n'\n",
      "             'IDC, 2027년 AI 소프트웨어 매출 2,500억 달러 돌파 전망\\n'\n",
      "             'KEY Contents\\n'\n",
      "             'n IDC의 예측에 의하면 AI 소프트웨어 시장은 2027년 2,510억 달러로 달할 전망이며, 생성\\n'\n",
      "             'AI 플랫폼과 애플리케이션은 2027년까지 283억 달러의 매출을 창출할 전망\\n'\n",
      "             'n 2023년 기준 AI 소프트웨어 매출의 3분의 1을 차지하는 최대 시장인 AI 애플리케이션은\\n'\n",
      "             '2027년까지 21.1%의 연평균 성장률을 기록할 전망\\n'\n",
      "             '£기업들의 AI 투자 증가에 힘입어 AI 소프트웨어 시장 급성장 예상\\n'\n",
      "             'n 시장조사기관 IDC는 AI 소프트웨어 시장이 2022년 640억 달러에서 2027년 2,510억 달러로 연평\\n'\n",
      "             '균 성장률 31.4%를 기록하며 급성장할 것으로 예상\\n'\n",
      "             '∙ AI 소프트웨어 시장은 AI 플랫폼, AI 애플리케이션, AI 시스템 인프라 소프트웨어(SIS), AI '\n",
      "             '애플리케이션\\n'\n",
      "             '개발·배포(AI AD&D) 소프트웨어를 '\n",
      "             '포괄</content><source>E:\\\\course\\\\data\\\\SPRI_AI_Brief_2023년12월호.pdf</source><page>15</page></document>\\n'\n",
      "             '<document><content>∙ 삼성 가우스는 라이선스나 개인정보를 침해하지 않는 안전한 데이터를 통해 '\n",
      "             '학습되었으며,\\n'\n",
      "             '온디바이스에서 작동하도록 설계되어 외부로 사용자의 정보가 유출되지 않는 장점을 보유\\n'\n",
      "             '∙ 삼성전자는 삼성 가우스를 활용한 온디바이스 AI 기술도 소개했으며, 생성 AI 모델을 다양한 제품에\\n'\n",
      "             '단계적으로 탑재할 계획\\n'\n",
      "             'n 삼성 가우스는 △텍스트를 생성하는 언어모델 △코드를 생성하는 코드 모델 △이미지를 생성하는\\n'\n",
      "             '이미지 모델의 3개 모델로 구성\\n'\n",
      "             '∙ 언어 모델은 클라우드와 온디바이스 대상 다양한 모델로 구성되며, 메일 작성, 문서 요약, 번역 업무의\\n'\n",
      "             '처리를 지원\\n'\n",
      "             '∙ 코드 모델 기반의 AI 코딩 어시스턴트 ‘코드아이(code.i)’는 대화형 인터페이스로 서비스를 제공하며\\n'\n",
      "             '사내 소프트웨어 개발에 최적화\\n'\n",
      "             '∙ 이미지 모델은 창의적인 이미지를 생성하고 기존 이미지를 원하는 대로 바꿀 수 있도록 지원하며\\n'\n",
      "             '저해상도 이미지의 고해상도 전환도 '\n",
      "             '지원</content><source>E:\\\\course\\\\data\\\\SPRI_AI_Brief_2023년12월호.pdf</source><page>13</page></document>\\n'\n",
      "             '<document><content>SPRi AI Brief |\\n'\n",
      "             '2023-12월호\\n'\n",
      "             '미국 법원, 예술가들이 생성 AI 기업에 제기한 저작권 소송 기각\\n'\n",
      "             'KEY Contents\\n'\n",
      "             'n 미국 캘리포니아 북부지방법원은 미드저니, 스태빌리티AI, 디비언트아트를 대상으로 예술가\\n'\n",
      "             '3인이 제기한 저작권 침해 소송을 기각\\n'\n",
      "             'n 법원은 기각 이유로 고소장에 제시된 상당수 작품이 저작권청에 등록되지 않았으며, AI로\\n'\n",
      "             '생성된 이미지와 특정 작품 간 유사성을 입증하기 어렵다는 점을 제시\\n'\n",
      "             '£예술가들의 AI 저작권 침해 소송, 저작권 미등록과 증거불충분으로 기각\\n'\n",
      "             'n 미국 캘리포니아 북부지방법원의 윌리엄 오릭(William Orrick) 판사는 2023년 10월 30일 '\n",
      "             '미드저니\\n'\n",
      "             '(Midjourney), 스태빌리티AI(Stability AI), 디비언트아트(DeviantArt)에 제기된 저작권 '\n",
      "             '침해 소송을 기각\\n'\n",
      "             '∙ 2023년 1월 예술가 사라 앤더슨(Sarah Anderson), 캘리 맥커넌(Kelly McKernan), '\n",
      "             '칼라</content><source>E:\\\\course\\\\data\\\\SPRI_AI_Brief_2023년12월호.pdf</source><page>7</page></document>\\n'\n",
      "             '<document><content>1. 정책/법제 2. 기업/산업 3. 기술/연구 4. 인력/교육\\n'\n",
      "             '갈릴레오의 LLM 환각 지수 평가에서 GPT-4가 가장 우수\\n'\n",
      "             'KEY Contents\\n'\n",
      "             'n 주요 LLM의 환각 현상을 평가한 ‘LLM 환각 지수’에 따르면 GPT-4는 작업 유형과 관계없이\\n'\n",
      "             '가장 우수한 성능을 보였으며 GPT-3.5도 거의 동등한 성능을 발휘\\n'\n",
      "             'n 오픈소스 모델 중에서는 메타의 라마2가 RAG 없는 질문과 답변 및 긴 형식의 텍스트\\n'\n",
      "             '생성에서 가장 우수한 성능을 발휘\\n'\n",
      "             '£주요 LLM 중 GPT-4가 가장 환각 현상 적고 GPT-3.5 터보도 비슷한 성능 기록\\n'\n",
      "             'n 머신러닝 데이터 관리 기업 갈릴레오(Galileo)가 2023년 11월 15일 주요 LLM의 환각 현상을 '\n",
      "             '평가한\\n'\n",
      "             '‘LLM 환각 지수(LLM Hallucination Index)’를 발표\\n'\n",
      "             '∙ 생성 AI의 환각 현상은 AI 시스템이 잘못된 정보를 생성하거나, 현실과 다른 부정확한 결과를 '\n",
      "             '내놓는</content><source>E:\\\\course\\\\data\\\\SPRI_AI_Brief_2023년12월호.pdf</source><page>20</page></document>\\n'\n",
      "             '<document><content>앤스로픽에 최대 40억 달러의 투자 계획을 공개\\n'\n",
      "             '∙ 한편, 2023년 11월 8일 블룸버그 보도에 따르면 앤스로픽은 구글의 클라우드 서비스 사용을 위해\\n'\n",
      "             '4년간 30억 달러 규모의 계약을 체결\\n'\n",
      "             '∙ 오픈AI 창업자 그룹의 일원이었던 다리오(Dario Amodei)와 다니엘라 아모데이(Daniela '\n",
      "             'Amodei)\\n'\n",
      "             '남매가 2021년 설립한 앤스로픽은 챗GPT의 대항마 ‘클로드(Claude)’ LLM을 개발\\n'\n",
      "             'n 아마존과 구글의 앤스로픽 투자에 앞서, 마이크로소프트는 차세대 AI 모델의 대표 주자인 오픈\\n'\n",
      "             'AI와 협력을 확대\\n'\n",
      "             '∙ 마이크로소프트는 오픈AI에 앞서 투자한 30억 달러에 더해 2023년 1월 추가로 100억 달러를\\n'\n",
      "             '투자하기로 하면서 오픈AI의 지분 49%를 확보했으며, 오픈AI는 마이크로소프트의 애저(Azure)\\n'\n",
      "             '클라우드 플랫폼을 사용해 AI 모델을 훈련\\n'\n",
      "             '£구글, 클라우드 경쟁력 강화를 위해 생성 AI 투자 '\n",
      "             '확대</content><source>E:\\\\course\\\\data\\\\SPRI_AI_Brief_2023년12월호.pdf</source><page>14</page></document>'}\n",
      "'\\n---\\n'\n",
      "\"Output from node 'llm_answer':\"\n",
      "'---'\n",
      "{'answer': '주어진 정보에서 질문에 대한 정보를 찾을 수 없습니다.'}\n",
      "'\\n---\\n'\n",
      "relevance_check {'question': '생성형 AI 가우스를 만든 회사의 2024년1분기 매출액은 얼마인가요?', 'context': '<document><content>SPRi AI Brief |\\n2023-12월호\\nIDC, 2027년 AI 소프트웨어 매출 2,500억 달러 돌파 전망\\nKEY Contents\\nn IDC의 예측에 의하면 AI 소프트웨어 시장은 2027년 2,510억 달러로 달할 전망이며, 생성\\nAI 플랫폼과 애플리케이션은 2027년까지 283억 달러의 매출을 창출할 전망\\nn 2023년 기준 AI 소프트웨어 매출의 3분의 1을 차지하는 최대 시장인 AI 애플리케이션은\\n2027년까지 21.1%의 연평균 성장률을 기록할 전망\\n£기업들의 AI 투자 증가에 힘입어 AI 소프트웨어 시장 급성장 예상\\nn 시장조사기관 IDC는 AI 소프트웨어 시장이 2022년 640억 달러에서 2027년 2,510억 달러로 연평\\n균 성장률 31.4%를 기록하며 급성장할 것으로 예상\\n∙ AI 소프트웨어 시장은 AI 플랫폼, AI 애플리케이션, AI 시스템 인프라 소프트웨어(SIS), AI 애플리케이션\\n개발·배포(AI AD&D) 소프트웨어를 포괄</content><source>E:\\\\course\\\\data\\\\SPRI_AI_Brief_2023년12월호.pdf</source><page>15</page></document>\\n<document><content>∙ 삼성 가우스는 라이선스나 개인정보를 침해하지 않는 안전한 데이터를 통해 학습되었으며,\\n온디바이스에서 작동하도록 설계되어 외부로 사용자의 정보가 유출되지 않는 장점을 보유\\n∙ 삼성전자는 삼성 가우스를 활용한 온디바이스 AI 기술도 소개했으며, 생성 AI 모델을 다양한 제품에\\n단계적으로 탑재할 계획\\nn 삼성 가우스는 △텍스트를 생성하는 언어모델 △코드를 생성하는 코드 모델 △이미지를 생성하는\\n이미지 모델의 3개 모델로 구성\\n∙ 언어 모델은 클라우드와 온디바이스 대상 다양한 모델로 구성되며, 메일 작성, 문서 요약, 번역 업무의\\n처리를 지원\\n∙ 코드 모델 기반의 AI 코딩 어시스턴트 ‘코드아이(code.i)’는 대화형 인터페이스로 서비스를 제공하며\\n사내 소프트웨어 개발에 최적화\\n∙ 이미지 모델은 창의적인 이미지를 생성하고 기존 이미지를 원하는 대로 바꿀 수 있도록 지원하며\\n저해상도 이미지의 고해상도 전환도 지원</content><source>E:\\\\course\\\\data\\\\SPRI_AI_Brief_2023년12월호.pdf</source><page>13</page></document>\\n<document><content>SPRi AI Brief |\\n2023-12월호\\n미국 법원, 예술가들이 생성 AI 기업에 제기한 저작권 소송 기각\\nKEY Contents\\nn 미국 캘리포니아 북부지방법원은 미드저니, 스태빌리티AI, 디비언트아트를 대상으로 예술가\\n3인이 제기한 저작권 침해 소송을 기각\\nn 법원은 기각 이유로 고소장에 제시된 상당수 작품이 저작권청에 등록되지 않았으며, AI로\\n생성된 이미지와 특정 작품 간 유사성을 입증하기 어렵다는 점을 제시\\n£예술가들의 AI 저작권 침해 소송, 저작권 미등록과 증거불충분으로 기각\\nn 미국 캘리포니아 북부지방법원의 윌리엄 오릭(William Orrick) 판사는 2023년 10월 30일 미드저니\\n(Midjourney), 스태빌리티AI(Stability AI), 디비언트아트(DeviantArt)에 제기된 저작권 침해 소송을 기각\\n∙ 2023년 1월 예술가 사라 앤더슨(Sarah Anderson), 캘리 맥커넌(Kelly McKernan), 칼라</content><source>E:\\\\course\\\\data\\\\SPRI_AI_Brief_2023년12월호.pdf</source><page>7</page></document>\\n<document><content>1. 정책/법제 2. 기업/산업 3. 기술/연구 4. 인력/교육\\n갈릴레오의 LLM 환각 지수 평가에서 GPT-4가 가장 우수\\nKEY Contents\\nn 주요 LLM의 환각 현상을 평가한 ‘LLM 환각 지수’에 따르면 GPT-4는 작업 유형과 관계없이\\n가장 우수한 성능을 보였으며 GPT-3.5도 거의 동등한 성능을 발휘\\nn 오픈소스 모델 중에서는 메타의 라마2가 RAG 없는 질문과 답변 및 긴 형식의 텍스트\\n생성에서 가장 우수한 성능을 발휘\\n£주요 LLM 중 GPT-4가 가장 환각 현상 적고 GPT-3.5 터보도 비슷한 성능 기록\\nn 머신러닝 데이터 관리 기업 갈릴레오(Galileo)가 2023년 11월 15일 주요 LLM의 환각 현상을 평가한\\n‘LLM 환각 지수(LLM Hallucination Index)’를 발표\\n∙ 생성 AI의 환각 현상은 AI 시스템이 잘못된 정보를 생성하거나, 현실과 다른 부정확한 결과를 내놓는</content><source>E:\\\\course\\\\data\\\\SPRI_AI_Brief_2023년12월호.pdf</source><page>20</page></document>\\n<document><content>앤스로픽에 최대 40억 달러의 투자 계획을 공개\\n∙ 한편, 2023년 11월 8일 블룸버그 보도에 따르면 앤스로픽은 구글의 클라우드 서비스 사용을 위해\\n4년간 30억 달러 규모의 계약을 체결\\n∙ 오픈AI 창업자 그룹의 일원이었던 다리오(Dario Amodei)와 다니엘라 아모데이(Daniela Amodei)\\n남매가 2021년 설립한 앤스로픽은 챗GPT의 대항마 ‘클로드(Claude)’ LLM을 개발\\nn 아마존과 구글의 앤스로픽 투자에 앞서, 마이크로소프트는 차세대 AI 모델의 대표 주자인 오픈\\nAI와 협력을 확대\\n∙ 마이크로소프트는 오픈AI에 앞서 투자한 30억 달러에 더해 2023년 1월 추가로 100억 달러를\\n투자하기로 하면서 오픈AI의 지분 49%를 확보했으며, 오픈AI는 마이크로소프트의 애저(Azure)\\n클라우드 플랫폼을 사용해 AI 모델을 훈련\\n£구글, 클라우드 경쟁력 강화를 위해 생성 AI 투자 확대</content><source>E:\\\\course\\\\data\\\\SPRI_AI_Brief_2023년12월호.pdf</source><page>14</page></document>', 'answer': '주어진 정보에서 질문에 대한 정보를 찾을 수 없습니다.', 'relevance': None}\n",
      "\"Output from node 'relevance_check':\"\n",
      "'---'\n",
      "{ 'answer': '주어진 정보에서 질문에 대한 정보를 찾을 수 없습니다.',\n",
      "  'question': '생성형 AI 가우스를 만든 회사의 2024년1분기 매출액은 얼마인가요?',\n",
      "  'relevance': 'grounded'}\n",
      "'\\n---\\n'\n"
     ]
    }
   ],
   "source": [
    "import pprint\n",
    "from langgraph.errors import GraphRecursionError\n",
    "from langchain_core.runnables import RunnableConfig\n",
    "\n",
    "config = RunnableConfig(\n",
    "    recursion_limit=12, configurable={\"thread_id\": \"CORRECTIVE-SEARCH-RAG\"}\n",
    ")\n",
    "\n",
    "# AgentState 객체를 활용하여 질문을 입력합니다.\n",
    "inputs = GraphState(\n",
    "    question=\"생성형 AI 가우스를 만든 회사의 2024년1분기 매출액은 얼마인가요?\"\n",
    ")\n",
    "\n",
    "# app.stream을 통해 입력된 메시지에 대한 출력을 스트리밍합니다.\n",
    "try:\n",
    "    for output in app.stream(inputs, config=config):\n",
    "        # 출력된 결과에서 키와 값을 순회합니다.\n",
    "        for key, value in output.items():\n",
    "            # 노드의 이름과 해당 노드에서 나온 출력을 출력합니다.\n",
    "            pprint.pprint(f\"Output from node '{key}':\")\n",
    "            pprint.pprint(\"---\")\n",
    "            # 출력 값을 예쁘게 출력합니다.\n",
    "            pprint.pprint(value, indent=2, width=80, depth=None)\n",
    "        # 각 출력 사이에 구분선을 추가합니다.\n",
    "        pprint.pprint(\"\\n---\\n\")\n",
    "except GraphRecursionError as e:\n",
    "    pprint.pprint(f\"Recursion limit reached: {e}\")"
   ]
  },
  {
   "cell_type": "code",
   "execution_count": 40,
   "id": "4e235a78",
   "metadata": {},
   "outputs": [
    {
     "name": "stdout",
     "output_type": "stream",
     "text": [
      "생성형 AI 가우스를 만든 회사의 2024년1분기 매출액은 얼마인가요?\n",
      "주어진 정보에서 질문에 대한 정보를 찾을 수 없습니다.\n",
      "grounded\n"
     ]
    }
   ],
   "source": [
    "print(output[\"relevance_check\"][\"question\"])\n",
    "print(output[\"relevance_check\"][\"answer\"])\n",
    "print(output[\"relevance_check\"][\"relevance\"])"
   ]
  },
  {
   "cell_type": "markdown",
   "id": "17aa0e3a",
   "metadata": {},
   "source": [
    "## LangSmith 추적\n",
    "\n",
    "- 추적: https://smith.langchain.com/public/ce7b4ea8-df34-4bb6-850e-afc8d12e75e6/r"
   ]
  },
  {
   "cell_type": "markdown",
   "id": "1eabaec5",
   "metadata": {},
   "source": []
  }
 ],
 "metadata": {
  "kernelspec": {
   "display_name": "py-test",
   "language": "python",
   "name": "python3"
  },
  "language_info": {
   "codemirror_mode": {
    "name": "ipython",
    "version": 3
   },
   "file_extension": ".py",
   "mimetype": "text/x-python",
   "name": "python",
   "nbconvert_exporter": "python",
   "pygments_lexer": "ipython3",
   "version": "3.11.9"
  }
 },
 "nbformat": 4,
 "nbformat_minor": 5
}
