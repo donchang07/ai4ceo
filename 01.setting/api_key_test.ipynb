{
 "cells": [
  {
   "cell_type": "markdown",
   "metadata": {},
   "source": [
    "# API key를 테스트 "
   ]
  },
  {
   "cell_type": "code",
   "execution_count": null,
   "metadata": {},
   "outputs": [],
   "source": [
    "import os\n",
    "from dotenv import load_dotenv\n",
    "import openai\n",
    "import requests\n",
    "\n",
    "# .env 파일 로드\n",
    "load_dotenv()\n",
    "\n",
    "# 환경 변수에서 API 키 가져오기\n",
    "openai_api_key = os.getenv('OPENAI_API_KEY')\n",
    "huggingfacehub_api_token = os.getenv('HUGGINGFACEHUB_API_TOKEN')\n",
    "langchain_tracing_v2 = os.getenv('LANGCHAIN_TRACING_V2')\n",
    "langchain_endpoint = os.getenv('LANGCHAIN_ENDPOINT')\n",
    "langchain_api_key = os.getenv('LANGCHAIN_API_KEY')\n",
    "langchain_project = os.getenv('LANGCHAIN_PROJECT')\n",
    "tavily_api_key = os.getenv('TAVILY_API_KEY')\n",
    "google_api_key = os.getenv('GOOGLE_API_KEY')\n",
    "pinecone_api_key = os.getenv('PINECONE_API_KEY')\n",
    "pinecone_environment_key = os.getenv('PINECONE_ENVIRONMENT_KEY')\n",
    "serpapi_api_key = os.getenv('SERPAPI_API_KEY')\n",
    "fmp_api_key = os.getenv('FMP_API_KEY')\n",
    "together_api_key = os.getenv('TOGETHER_API_KEY')\n",
    "groq_api_key = os.getenv('GROQ_API_KEY')\n",
    "upstage_api_key = os.getenv('UPSTAGE_API_KEY')\n"
   ]
  },
  {
   "cell_type": "code",
   "execution_count": null,
   "metadata": {},
   "outputs": [],
   "source": [
    "print(openai_api_key)\n",
    "print(huggingfacehub_api_token)\n",
    "print(langchain_tracing_v2)\n",
    "print(langchain_endpoint)\n",
    "print(langchain_api_key)\n",
    "print(langchain_project)\n",
    "print(tavily_api_key)\n",
    "print(google_api_key)\n",
    "print(pinecone_api_key)\n",
    "print(pinecone_environment_key)\n",
    "print(serpapi_api_key)"
   ]
  },
  {
   "cell_type": "code",
   "execution_count": null,
   "metadata": {},
   "outputs": [],
   "source": [
    "# OpenAI API 테스트\n",
    "\n",
    "from openai import OpenAI\n",
    "client = OpenAI()\n",
    "try:\n",
    "    client.chat.completions.create(\n",
    "        model=\"gpt-4-turbo\",\n",
    "        messages=[\n",
    "        {\n",
    "            \"role\": \"system\",\n",
    "            \"content\": \"당신은 친절한 AI Assistance 입니다.\",\n",
    "        },\n",
    "        {\n",
    "            \"role\": \"user\",\n",
    "            \"content\": \"say this is test\",\n",
    "        },\n",
    "        ],\n",
    "        max_tokens=50\n",
    "    )\n",
    "    print(\"OpenAI API 성공\")\n",
    "except Exception:\n",
    "    print(\"OpenAI API 실패\")"
   ]
  },
  {
   "cell_type": "code",
   "execution_count": null,
   "metadata": {},
   "outputs": [],
   "source": [
    "# HuggingFace API 테스트\n",
    "headers = {\n",
    "    \"Authorization\": f\"Bearer {huggingfacehub_api_token}\"\n",
    "}\n",
    "try:\n",
    "    response = requests.get(\"https://api-inference.huggingface.co/models/bert-base-uncased\", headers=headers)\n",
    "    response.raise_for_status()\n",
    "    print(\"HuggingFace API 성공\")\n",
    "except Exception:\n",
    "    print(\"HuggingFace API 실패\")"
   ]
  },
  {
   "cell_type": "code",
   "execution_count": null,
   "metadata": {},
   "outputs": [],
   "source": [
    "# Tavily API 테스트 (예제 URL을 Tavily API로 대체해야 함)\n",
    "headers = {\n",
    "    \"Authorization\": f\"Bearer {tavily_api_key}\"\n",
    "}\n",
    "try:\n",
    "    response = requests.get(\"https://news.naver.com\", headers=headers)  # 예제 URL\n",
    "    response.raise_for_status()\n",
    "    print(\"Tavily API 성공\")\n",
    "except Exception:\n",
    "    print(\"Tavily API 실패\")\n"
   ]
  },
  {
   "cell_type": "code",
   "execution_count": null,
   "metadata": {},
   "outputs": [],
   "source": [
    "\n",
    "# Google API 테스트 (예제 URL을 Google API로 대체해야 함)\n",
    "try:\n",
    "    response = requests.get(f\"https://maps.googleapis.com/maps/api/place/textsearch/json?query=restaurants+in+Seoul&key={google_api_key}\")\n",
    "    response.raise_for_status()\n",
    "    print(\"Google API 성공\")\n",
    "except Exception:\n",
    "    print(\"Google API 실패\")"
   ]
  },
  {
   "cell_type": "code",
   "execution_count": null,
   "metadata": {},
   "outputs": [],
   "source": [
    "# Together API 테스트 (예제 URL을 Together API로 대체해야 함)\n",
    "headers = {\n",
    "    \"Authorization\": f\"Bearer {together_api_key}\"\n",
    "}\n",
    "try:\n",
    "    response = requests.get(\"https://news.naver.com\", headers=headers)  # 예제 URL\n",
    "    response.raise_for_status()\n",
    "    print(\"Together API 성공\")\n",
    "except Exception:\n",
    "    print(\"Together API 실패\")\n"
   ]
  },
  {
   "cell_type": "code",
   "execution_count": null,
   "metadata": {},
   "outputs": [],
   "source": [
    "\n",
    "# SERPAPI 테스트\n",
    "try:\n",
    "    response = requests.get(f\"https://serpapi.com/search?q=coffee&api_key={serpapi_api_key}\")\n",
    "    response.raise_for_status()\n",
    "    print(\"SERPAPI 성공\")\n",
    "except Exception:\n",
    "    print(\"SERPAPI 실패\")"
   ]
  },
  {
   "cell_type": "code",
   "execution_count": null,
   "metadata": {},
   "outputs": [],
   "source": []
  },
  {
   "cell_type": "code",
   "execution_count": null,
   "metadata": {},
   "outputs": [],
   "source": []
  }
 ],
 "metadata": {
  "kernelspec": {
   "display_name": "base",
   "language": "python",
   "name": "python3"
  },
  "language_info": {
   "codemirror_mode": {
    "name": "ipython",
    "version": 3
   },
   "file_extension": ".py",
   "mimetype": "text/x-python",
   "name": "python",
   "nbconvert_exporter": "python",
   "pygments_lexer": "ipython3",
   "version": "3.11.7"
  }
 },
 "nbformat": 4,
 "nbformat_minor": 2
}
