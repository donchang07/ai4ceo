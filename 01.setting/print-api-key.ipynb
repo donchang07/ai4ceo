{
 "cells": [
  {
   "cell_type": "markdown",
   "metadata": {},
   "source": [
    "# API key 프린트\n",
    "- 다음은 단순히 API key가 있는지만 테스트한다\n",
    "- API key가 잘못되었거나, expire 된 경우도 있을 수 있다\n",
    "- API key는 사용량에 따라서 과금이 되므로 남에게 알려주어서는 안된다\n",
    "- 여기에 있는 모든 API Key 다 가질 필요는 없다. 각자 알아서 추가."
   ]
  },
  {
   "cell_type": "code",
   "execution_count": null,
   "metadata": {},
   "outputs": [],
   "source": [
    "import os\n",
    "from dotenv import load_dotenv\n",
    "load_dotenv()"
   ]
  },
  {
   "cell_type": "code",
   "execution_count": null,
   "metadata": {},
   "outputs": [],
   "source": [
    "print(\"openai:\", os.getenv(\"OPENAI_API_KEY\"))\n",
    "print(\"claude:\", os.getenv(\"ANTHROPIC_API_KEY\"))\n",
    "print(\"huggingface:\", os.getenv(\"HUGGINGFACEHUB_API_TOKEN\"))\n",
    "print(\"lang trace:\", os.getenv(\"LANGCHAIN_TRACING_V2\"))\n",
    "print(\"lang end:\", os.getenv(\"LANGCHAIN_ENDPOINT\"))\n",
    "print(\"lang api:\", os.getenv(\"LANGCHAIN_API_KEY\"))\n",
    "print(\"lang project:\", os.getenv(\"LANGCHAIN_PROJECT\"))\n",
    "print(\"tavily:\", os.getenv(\"TAVILY_API_KEY\"))\n",
    "print(\"google:\", os.getenv(\"GOOGLE_API_KEY\"))\n",
    "print(\"pinecone:\", os.getenv(\"PINECONE_API_KEY\"))\n",
    "print(\"environ:\", os.getenv(\"PINECONE_ENVIRONMENT_KEY\"))\n",
    "print(\"serp:\", os.getenv(\"SERPAPI_API_KEY\"))\n",
    "print(\"upstage:\", os.getenv(\"UPSTAGE_API_KEY\"))\n",
    "print(\"deepl:\", os.getenv(\"DEEPL_API_KEY\"))\n",
    "print(\"together:\", os.getenv(\"TOGETHER_API_KEY\"))\n",
    "print(\"google app:\", os.getenv(\"GOOGLE_APPLICATION_CREDENTIALS\"))\n",
    "print(\"google cloud:\", os.getenv(\"GOOGLE_CLOUD_PROJECT\"))\n",
    "print(\"multion:\", os.getenv(\"MULTION_API_KEY\"))\n",
    "print(\"groq:\", os.getenv(\"GROQ_API_KEY\"))"
   ]
  },
  {
   "cell_type": "code",
   "execution_count": null,
   "metadata": {},
   "outputs": [],
   "source": []
  }
 ],
 "metadata": {
  "kernelspec": {
   "display_name": "base",
   "language": "python",
   "name": "python3"
  },
  "language_info": {
   "codemirror_mode": {
    "name": "ipython",
    "version": 3
   },
   "file_extension": ".py",
   "mimetype": "text/x-python",
   "name": "python",
   "nbconvert_exporter": "python",
   "pygments_lexer": "ipython3",
   "version": "3.11.7"
  }
 },
 "nbformat": 4,
 "nbformat_minor": 2
}
