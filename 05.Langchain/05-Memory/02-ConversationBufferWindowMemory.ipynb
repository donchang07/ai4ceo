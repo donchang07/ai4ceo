{
 "cells": [
  {
   "cell_type": "markdown",
   "metadata": {},
   "source": [
    "# ConversationBufferWindowMemory\n",
    "\n",
    "`ConversationBufferWindowMemory` 는 시간이 지남에 따라 대화의 상호작용 목록을 유지합니다.\n",
    "\n",
    "이때, `ConversationBufferWindowMemory` 는 모든 대화내용을 활용하는 것이 아닌 **최근 K개** 의 상호작용만 사용합니다.\n",
    "\n",
    "이는 버퍼가 너무 커지지 않도록 가장 최근 상호작용의 슬라이딩 창을 유지하는 데 유용할 수 있습니다.\n"
   ]
  },
  {
   "cell_type": "code",
   "execution_count": 1,
   "metadata": {},
   "outputs": [],
   "source": [
    "\n",
    "from langchain_openai import ChatOpenAI\n",
    "from langchain.chains import ConversationChain\n",
    "from langchain.memory import ConversationBufferWindowMemory\n",
    "\n",
    "memory = ConversationBufferWindowMemory(k=2, return_messages=True)\n",
    "chat_model = ChatOpenAI(temperature=0.5)\n",
    "\n",
    "# 대화 체인 생성\n",
    "chat = ConversationChain(\n",
    "    llm=chat_model, \n",
    "    memory=memory,\n",
    "    verbose=True\n",
    ")\n"
   ]
  },
  {
   "cell_type": "code",
   "execution_count": 2,
   "metadata": {},
   "outputs": [
    {
     "name": "stdout",
     "output_type": "stream",
     "text": [
      "\n",
      "\n",
      "\u001b[1m> Entering new ConversationChain chain...\u001b[0m\n",
      "Prompt after formatting:\n",
      "\u001b[32;1m\u001b[1;3mThe following is a friendly conversation between a human and an AI. The AI is talkative and provides lots of specific details from its context. If the AI does not know the answer to a question, it truthfully says it does not know.\n",
      "\n",
      "Current conversation:\n",
      "[]\n",
      "Human: 제주도에 대해서 설명해줘\n",
      "AI:\u001b[0m\n",
      "\n",
      "\u001b[1m> Finished chain.\u001b[0m\n",
      "제주도는 대한민국의 한 지역으로, 한반도 남쪽에 위치한 섬입니다. 제주특별자치도로도 불리며, 화산활동으로 형성된 다양한 지형과 풍부한 자연 자원을 가지고 있습니다. 제주도는 한라산이라는 대표적인 화산을 가지고 있으며, 맑은 바다와 아름다운 해변이 유명합니다. 또한, 제주도는 풍부한 역사와 문화를 갖고 있어 관광객들에게 매력적인 여행지로 손꼽힙니다.\n",
      "\n",
      "\n",
      "\u001b[1m> Entering new ConversationChain chain...\u001b[0m\n",
      "Prompt after formatting:\n",
      "\u001b[32;1m\u001b[1;3mThe following is a friendly conversation between a human and an AI. The AI is talkative and provides lots of specific details from its context. If the AI does not know the answer to a question, it truthfully says it does not know.\n",
      "\n",
      "Current conversation:\n",
      "[HumanMessage(content='제주도에 대해서 설명해줘'), AIMessage(content='제주도는 대한민국의 한 지역으로, 한반도 남쪽에 위치한 섬입니다. 제주특별자치도로도 불리며, 화산활동으로 형성된 다양한 지형과 풍부한 자연 자원을 가지고 있습니다. 제주도는 한라산이라는 대표적인 화산을 가지고 있으며, 맑은 바다와 아름다운 해변이 유명합니다. 또한, 제주도는 풍부한 역사와 문화를 갖고 있어 관광객들에게 매력적인 여행지로 손꼽힙니다.')]\n",
      "Human: 2박3일 관광하려는 데 비용을 얼마나들까.\n",
      "AI:\u001b[0m\n",
      "\n",
      "\u001b[1m> Finished chain.\u001b[0m\n",
      "제주도에서 2박3일 관광을 하려면 비용은 다양하게 변할 수 있습니다. 숙소, 식사, 교통, 관광지 입장료 등을 고려해야 합니다. 일반적으로 2박3일 관광 패키지는 50만 원부터 시작하여 200만 원 이상까지 다양합니다. 물론 숙박 시설의 등급과 위치, 식사의 종류, 활동의 종류에 따라 가격이 달라질 수 있습니다. 관광객 개개인의 취향과 예산에 맞게 계획을 세우는 것이 중요합니다.\n",
      "\n",
      "\n",
      "\u001b[1m> Entering new ConversationChain chain...\u001b[0m\n",
      "Prompt after formatting:\n",
      "\u001b[32;1m\u001b[1;3mThe following is a friendly conversation between a human and an AI. The AI is talkative and provides lots of specific details from its context. If the AI does not know the answer to a question, it truthfully says it does not know.\n",
      "\n",
      "Current conversation:\n",
      "[HumanMessage(content='제주도에 대해서 설명해줘'), AIMessage(content='제주도는 대한민국의 한 지역으로, 한반도 남쪽에 위치한 섬입니다. 제주특별자치도로도 불리며, 화산활동으로 형성된 다양한 지형과 풍부한 자연 자원을 가지고 있습니다. 제주도는 한라산이라는 대표적인 화산을 가지고 있으며, 맑은 바다와 아름다운 해변이 유명합니다. 또한, 제주도는 풍부한 역사와 문화를 갖고 있어 관광객들에게 매력적인 여행지로 손꼽힙니다.'), HumanMessage(content='2박3일 관광하려는 데 비용을 얼마나들까.'), AIMessage(content='제주도에서 2박3일 관광을 하려면 비용은 다양하게 변할 수 있습니다. 숙소, 식사, 교통, 관광지 입장료 등을 고려해야 합니다. 일반적으로 2박3일 관광 패키지는 50만 원부터 시작하여 200만 원 이상까지 다양합니다. 물론 숙박 시설의 등급과 위치, 식사의 종류, 활동의 종류에 따라 가격이 달라질 수 있습니다. 관광객 개개인의 취향과 예산에 맞게 계획을 세우는 것이 중요합니다.')]\n",
      "Human: 서울에서 가능 가장 빠른 방법은?\n",
      "AI:\u001b[0m\n",
      "\n",
      "\u001b[1m> Finished chain.\u001b[0m\n",
      "서울에서 제주도로 가장 빠른 방법은 비행기를 이용하는 것입니다. 서울과 제주도를 잇는 많은 항공편이 운영되고 있으며, 비행 시간은 약 1시간 정도 소요됩니다. 다양한 항공사와 항로를 통해 다양한 비행 옵션을 선택할 수 있습니다. 또한, 고속선으로 제주도까지 이동하는 방법도 있지만, 비행기를 이용하는 것이 더 빠르고 편리할 수 있습니다.\n"
     ]
    }
   ],
   "source": [
    "print(chat.predict(input=\"제주도에 대해서 설명해줘\"))\n",
    "print(chat.predict(input=\"2박3일 관광하려는 데 비용을 얼마나들까.\"))\n",
    "print(chat.predict(input=\"서울에서 가는 가장 빠른 방법은?\"))"
   ]
  },
  {
   "cell_type": "markdown",
   "metadata": {},
   "source": [
    "대화기록을 확인해 보면 **최근 2개** 의 메시지만 반환하는 것을 확인할 수 있습니다.\n"
   ]
  },
  {
   "cell_type": "code",
   "execution_count": 3,
   "metadata": {},
   "outputs": [
    {
     "name": "stdout",
     "output_type": "stream",
     "text": [
      "\n",
      "저장된 대화 기록:\n",
      "[HumanMessage(content='2박3일 관광하려는 데 비용을 얼마나들까.'), AIMessage(content='제주도에서 2박3일 관광을 하려면 비용은 다양하게 변할 수 있습니다. 숙소, 식사, 교통, 관광지 입장료 등을 고려해야 합니다. 일반적으로 2박3일 관광 패키지는 50만 원부터 시작하여 200만 원 이상까지 다양합니다. 물론 숙박 시설의 등급과 위치, 식사의 종류, 활동의 종류에 따라 가격이 달라질 수 있습니다. 관광객 개개인의 취향과 예산에 맞게 계획을 세우는 것이 중요합니다.'), HumanMessage(content='서울에서 가능 가장 빠른 방법은?'), AIMessage(content='서울에서 제주도로 가장 빠른 방법은 비행기를 이용하는 것입니다. 서울과 제주도를 잇는 많은 항공편이 운영되고 있으며, 비행 시간은 약 1시간 정도 소요됩니다. 다양한 항공사와 항로를 통해 다양한 비행 옵션을 선택할 수 있습니다. 또한, 고속선으로 제주도까지 이동하는 방법도 있지만, 비행기를 이용하는 것이 더 빠르고 편리할 수 있습니다.')]\n"
     ]
    }
   ],
   "source": [
    "# 저장된 메모리 출력\n",
    "print(\"\\n저장된 대화 기록:\")\n",
    "print(memory.buffer)"
   ]
  },
  {
   "cell_type": "code",
   "execution_count": null,
   "metadata": {},
   "outputs": [],
   "source": []
  }
 ],
 "metadata": {
  "kernelspec": {
   "display_name": "py-test",
   "language": "python",
   "name": "python3"
  },
  "language_info": {
   "codemirror_mode": {
    "name": "ipython",
    "version": 3
   },
   "file_extension": ".py",
   "mimetype": "text/x-python",
   "name": "python",
   "nbconvert_exporter": "python",
   "pygments_lexer": "ipython3",
   "version": "3.11.9"
  }
 },
 "nbformat": 4,
 "nbformat_minor": 2
}
