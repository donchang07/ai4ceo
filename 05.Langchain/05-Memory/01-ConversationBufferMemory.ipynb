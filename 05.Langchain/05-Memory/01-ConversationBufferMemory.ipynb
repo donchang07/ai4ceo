{
 "cells": [
  {
   "cell_type": "markdown",
   "metadata": {},
   "source": [
    "# ConversationBufferMemory\n",
    "\n",
    "이 메모리는 메시지를 저장한 다음 변수에 메시지를 추출할 수 있게 해줍니다.\n",
    "\n",
    "먼저 문자열로 추출할 수 있습니다.\n"
   ]
  },
  {
   "cell_type": "code",
   "execution_count": 1,
   "metadata": {},
   "outputs": [],
   "source": [
    "from langchain.memory import ConversationBufferMemory\n",
    "from langchain_openai import ChatOpenAI\n",
    "from langchain.chains import ConversationChain"
   ]
  },
  {
   "cell_type": "code",
   "execution_count": 2,
   "metadata": {},
   "outputs": [],
   "source": [
    "chat_model = ChatOpenAI(temperature=0.7)\n",
    "memory = ConversationBufferMemory()\n",
    "# 대화 체인 생성\n",
    "chat = ConversationChain(\n",
    "    llm=chat_model, \n",
    "    memory=memory,\n",
    "    verbose=True\n",
    ")\n"
   ]
  },
  {
   "cell_type": "code",
   "execution_count": 3,
   "metadata": {},
   "outputs": [
    {
     "name": "stdout",
     "output_type": "stream",
     "text": [
      "\n",
      "\n",
      "\u001b[1m> Entering new ConversationChain chain...\u001b[0m\n",
      "Prompt after formatting:\n",
      "\u001b[32;1m\u001b[1;3mThe following is a friendly conversation between a human and an AI. The AI is talkative and provides lots of specific details from its context. If the AI does not know the answer to a question, it truthfully says it does not know.\n",
      "\n",
      "Current conversation:\n",
      "\n",
      "Human: 제주도에 대해서 설명해줘\n",
      "AI:\u001b[0m\n",
      "\n",
      "\u001b[1m> Finished chain.\u001b[0m\n",
      "제주도는 대한민국의 도로, 바다에 둘러싸인 섬으로, 남해와 동해를 잇는 해협인 \"제주해협\"에 위치하고 있습니다. 제주도는 화산섬으로 알려져 있으며 한라산이라는 화산이 있어 제주도의 중심지로 알려져 있습니다. 또한, 제주도는 우리나라에서 가장 큰 섬이기도 합니다. 제주도는 자연경관과 문화유산이 풍부하여 많은 관광객들이 방문하는 인기있는 여행지입니다.\n",
      "\n",
      "\n",
      "\u001b[1m> Entering new ConversationChain chain...\u001b[0m\n",
      "Prompt after formatting:\n",
      "\u001b[32;1m\u001b[1;3mThe following is a friendly conversation between a human and an AI. The AI is talkative and provides lots of specific details from its context. If the AI does not know the answer to a question, it truthfully says it does not know.\n",
      "\n",
      "Current conversation:\n",
      "Human: 제주도에 대해서 설명해줘\n",
      "AI: 제주도는 대한민국의 도로, 바다에 둘러싸인 섬으로, 남해와 동해를 잇는 해협인 \"제주해협\"에 위치하고 있습니다. 제주도는 화산섬으로 알려져 있으며 한라산이라는 화산이 있어 제주도의 중심지로 알려져 있습니다. 또한, 제주도는 우리나라에서 가장 큰 섬이기도 합니다. 제주도는 자연경관과 문화유산이 풍부하여 많은 관광객들이 방문하는 인기있는 여행지입니다.\n",
      "Human: 2박3일 관광하려는 데 비용을 얼마나들까.\n",
      "AI:\u001b[0m\n",
      "\n",
      "\u001b[1m> Finished chain.\u001b[0m\n",
      "2박3일 제주도 관광을 하려면 숙소, 식사, 교통 등을 고려해야 합니다. 숙박 시설에 따라 가격이 다르지만 평균적으로 1박에 5만 원부터 20만 원까지 비용이 들 수 있습니다. 음식은 식당가에서 한끼 식사로 1만 원부터 3만 원 정도가 소요될 수 있습니다. 교통은 렌터카를 이용하거나 대중교통을 이용할 수 있으며 이에 따라 비용이 달라질 수 있습니다. 총적으로 2박3일 제주도 여행은 50만 원부터 200만 원 이상이 소요될 수 있습니다.\n",
      "\n",
      "\n",
      "\u001b[1m> Entering new ConversationChain chain...\u001b[0m\n",
      "Prompt after formatting:\n",
      "\u001b[32;1m\u001b[1;3mThe following is a friendly conversation between a human and an AI. The AI is talkative and provides lots of specific details from its context. If the AI does not know the answer to a question, it truthfully says it does not know.\n",
      "\n",
      "Current conversation:\n",
      "Human: 제주도에 대해서 설명해줘\n",
      "AI: 제주도는 대한민국의 도로, 바다에 둘러싸인 섬으로, 남해와 동해를 잇는 해협인 \"제주해협\"에 위치하고 있습니다. 제주도는 화산섬으로 알려져 있으며 한라산이라는 화산이 있어 제주도의 중심지로 알려져 있습니다. 또한, 제주도는 우리나라에서 가장 큰 섬이기도 합니다. 제주도는 자연경관과 문화유산이 풍부하여 많은 관광객들이 방문하는 인기있는 여행지입니다.\n",
      "Human: 2박3일 관광하려는 데 비용을 얼마나들까.\n",
      "AI: 2박3일 제주도 관광을 하려면 숙소, 식사, 교통 등을 고려해야 합니다. 숙박 시설에 따라 가격이 다르지만 평균적으로 1박에 5만 원부터 20만 원까지 비용이 들 수 있습니다. 음식은 식당가에서 한끼 식사로 1만 원부터 3만 원 정도가 소요될 수 있습니다. 교통은 렌터카를 이용하거나 대중교통을 이용할 수 있으며 이에 따라 비용이 달라질 수 있습니다. 총적으로 2박3일 제주도 여행은 50만 원부터 200만 원 이상이 소요될 수 있습니다.\n",
      "Human: 서울에서 가능 가장 빠른 방법은?\n",
      "AI:\u001b[0m\n",
      "\n",
      "\u001b[1m> Finished chain.\u001b[0m\n",
      "서울에서 제주도로 가장 빠른 방법은 비행기를 이용하는 것입니다. 서울에서 제주도로 직항하는 항공편이 많이 운영되고 있으며, 비행기를 이용하면 약 1시간 정도만에 제주도에 도착할 수 있습니다. 또한, 비행기를 이용하면 편리하고 빠르게 이동할 수 있어 인기 있는 이동 수단 중 하나입니다.\n"
     ]
    }
   ],
   "source": [
    "print(chat.predict(input=\"제주도에 대해서 설명해줘\"))\n",
    "print(chat.predict(input=\"2박3일 관광하려는 데 비용을 얼마나들까.\"))\n",
    "print(chat.predict(input=\"서울에서 가능 가장 빠른 방법은?\"))"
   ]
  },
  {
   "cell_type": "code",
   "execution_count": 4,
   "metadata": {},
   "outputs": [
    {
     "name": "stdout",
     "output_type": "stream",
     "text": [
      "\n",
      "저장된 대화 기록:\n",
      "Human: 제주도에 대해서 설명해줘\n",
      "AI: 제주도는 대한민국의 도로, 바다에 둘러싸인 섬으로, 남해와 동해를 잇는 해협인 \"제주해협\"에 위치하고 있습니다. 제주도는 화산섬으로 알려져 있으며 한라산이라는 화산이 있어 제주도의 중심지로 알려져 있습니다. 또한, 제주도는 우리나라에서 가장 큰 섬이기도 합니다. 제주도는 자연경관과 문화유산이 풍부하여 많은 관광객들이 방문하는 인기있는 여행지입니다.\n",
      "Human: 2박3일 관광하려는 데 비용을 얼마나들까.\n",
      "AI: 2박3일 제주도 관광을 하려면 숙소, 식사, 교통 등을 고려해야 합니다. 숙박 시설에 따라 가격이 다르지만 평균적으로 1박에 5만 원부터 20만 원까지 비용이 들 수 있습니다. 음식은 식당가에서 한끼 식사로 1만 원부터 3만 원 정도가 소요될 수 있습니다. 교통은 렌터카를 이용하거나 대중교통을 이용할 수 있으며 이에 따라 비용이 달라질 수 있습니다. 총적으로 2박3일 제주도 여행은 50만 원부터 200만 원 이상이 소요될 수 있습니다.\n",
      "Human: 서울에서 가능 가장 빠른 방법은?\n",
      "AI: 서울에서 제주도로 가장 빠른 방법은 비행기를 이용하는 것입니다. 서울에서 제주도로 직항하는 항공편이 많이 운영되고 있으며, 비행기를 이용하면 약 1시간 정도만에 제주도에 도착할 수 있습니다. 또한, 비행기를 이용하면 편리하고 빠르게 이동할 수 있어 인기 있는 이동 수단 중 하나입니다.\n"
     ]
    }
   ],
   "source": [
    "# 저장된 메모리 출력\n",
    "print(\"\\n저장된 대화 기록:\")\n",
    "print(memory.buffer)"
   ]
  },
  {
   "cell_type": "code",
   "execution_count": null,
   "metadata": {},
   "outputs": [],
   "source": []
  },
  {
   "cell_type": "code",
   "execution_count": null,
   "metadata": {},
   "outputs": [],
   "source": []
  }
 ],
 "metadata": {
  "kernelspec": {
   "display_name": "py-test",
   "language": "python",
   "name": "python3"
  },
  "language_info": {
   "codemirror_mode": {
    "name": "ipython",
    "version": 3
   },
   "file_extension": ".py",
   "mimetype": "text/x-python",
   "name": "python",
   "nbconvert_exporter": "python",
   "pygments_lexer": "ipython3",
   "version": "3.11.9"
  }
 },
 "nbformat": 4,
 "nbformat_minor": 2
}
