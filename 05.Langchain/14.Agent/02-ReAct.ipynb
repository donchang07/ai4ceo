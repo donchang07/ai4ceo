{
 "cells": [
  {
   "cell_type": "code",
   "execution_count": 28,
   "metadata": {},
   "outputs": [
    {
     "data": {
      "text/plain": [
       "True"
      ]
     },
     "execution_count": 28,
     "metadata": {},
     "output_type": "execute_result"
    }
   ],
   "source": [
    "# API KEY를 환경변수로 관리하기 위한 설정 파일\n",
    "from dotenv import load_dotenv\n",
    "\n",
    "# API KEY 정보로드\n",
    "load_dotenv()"
   ]
  },
  {
   "cell_type": "markdown",
   "metadata": {},
   "source": [
    "### ReAct Agent\n",
    "\n",
    "ReAct (Reasoning and Acting)에 대해 \n",
    "### 의미:\n",
    "\n",
    "Reasoning: 주어진 정보를 바탕으로 추론하는 과정\n",
    "Acting: 추론을 바탕으로 행동을 취하는 과정\n",
    "\n",
    "\n",
    "### 목적:\n",
    "\n",
    "언어 모델이 추론과 행동을 결합하여 더 효과적으로 문제를 해결하도록 하는 것입니다.\n",
    "\n",
    "\n",
    "### 프로세스:\n",
    "\n",
    "- 추론 (Reasoning): 문제를 분석하고 필요한 정보를 파악합니다.\n",
    "- 행동 (Acting): Wikipedia 도구를 사용하여 정보를 검색합니다.\n",
    "- 관찰 (Observing): 검색 결과를 관찰하고 새로운 정보를 얻습니다.\n",
    "- 반복: 모든 필요한 정보를 얻을 때까지 이 과정을 반복합니다.\n",
    "- 최종 답변: 수집한 모든 정보를 종합하여 최종 답변을 제시합니다.\n",
    "\n",
    "이러한 ReAct 방식은 복잡한 질문을 단계별로 해결하고, 각 단계에서의 추론 과정을 명확히 보여줌으로써 더 투명하고 효과적인 문제 해결을 가능하게 합니다.\n",
    "\n",
    "이 과정은 문제가 해결될 때까지 반복됩니다.\n"
   ]
  },
  {
   "cell_type": "markdown",
   "metadata": {},
   "source": [
    "### 검색: TavilySearchResults\n"
   ]
  },
  {
   "cell_type": "code",
   "execution_count": 30,
   "metadata": {},
   "outputs": [],
   "source": [
    "from langchain_openai import ChatOpenAI\n",
    "\n",
    "llm = ChatOpenAI(model=\"gpt-4o\", temperature=0)"
   ]
  },
  {
   "cell_type": "code",
   "execution_count": 31,
   "metadata": {},
   "outputs": [
    {
     "data": {
      "text/plain": [
       "[SystemMessagePromptTemplate(prompt=PromptTemplate(input_variables=[], template='You are a helpful assistant')),\n",
       " MessagesPlaceholder(variable_name='chat_history', optional=True),\n",
       " HumanMessagePromptTemplate(prompt=PromptTemplate(input_variables=['input'], template='{input}')),\n",
       " MessagesPlaceholder(variable_name='agent_scratchpad')]"
      ]
     },
     "execution_count": 31,
     "metadata": {},
     "output_type": "execute_result"
    }
   ],
   "source": [
    "from langchain import hub\n",
    "\n",
    "# Get the prompt to use - you can modify this!\n",
    "prompt = hub.pull(\"hwchase17/openai-functions-agent\")\n",
    "prompt.messages"
   ]
  },
  {
   "cell_type": "code",
   "execution_count": 32,
   "metadata": {},
   "outputs": [],
   "source": [
    "from langchain.agents import create_openai_functions_agent, tool\n",
    "\n",
    "agent_tools = [TavilySearchResults()]\n",
    "agent = create_openai_functions_agent(llm, agent_tools, prompt)"
   ]
  },
  {
   "cell_type": "code",
   "execution_count": 33,
   "metadata": {},
   "outputs": [],
   "source": [
    "from langchain.agents import AgentExecutor\n",
    "\n",
    "agent_executor = AgentExecutor(agent=agent, tools=agent_tools, verbose=True)"
   ]
  },
  {
   "cell_type": "code",
   "execution_count": 34,
   "metadata": {},
   "outputs": [
    {
     "name": "stdout",
     "output_type": "stream",
     "text": [
      "\n",
      "\n",
      "\u001b[1m> Entering new AgentExecutor chain...\u001b[0m\n",
      "\u001b[32;1m\u001b[1;3m\n",
      "Invoking: `tavily_search_results_json` with `{'query': '장동인 교수'}`\n",
      "\n",
      "\n",
      "\u001b[0m\u001b[36;1m\u001b[1;3m[{'url': 'https://aisummit.co.kr/장동인/', 'content': '황성주 교수 i 카이스트 & 딥오토 대표 황성주 교수는 머신러닝/딥러닝 분야에서 세계적인 연구 성과를 내고 있는 석학이다. 미국 텍사스 대학교(Texas University)에서 컴퓨터 공학박사를 취득했으며, 디즈니 리서치에서 박사후연구원으로 근무했고 UNIST 조교수를 ...'}, {'url': 'https://gsai.kaist.ac.kr/people-2/?lang=ko', 'content': '부서 및 직급: 소아청소년종양혈액과 교수 방문기간 : 2020.09.01~2021.02.28 34141 대전광역시 유성구 대학로 291 한국과학기술원(KAIST) 김재철AI대학원'}, {'url': 'https://www.aitimes.kr/news/articleView.html?idxno=23789', 'content': '저자 장동인. 이책의 저자 장동인은 서울대학교 공과대학 원자핵공학과를 졸업하고 미국 남가주대학교에서 컴퓨터공학 석사를 마쳤으며, 서울과학종합대학원에서 경영학 박사를 취득했다. 미국 비자카드, EDS, 아메리칸 항공, 독일 아마데우스(Amadeus), 오라클 ...'}, {'url': 'https://product.kyobobook.co.kr/detail/S000208488067', 'content': '황성주 (KAIST 지정석좌교수) 이 책은 ChatGPT에 대한 기본 설명의 차원을 넘어 인공 지능 시대에 기업이 어떤 식으로 이를 활용하며 생존해야 하는지에 대한 장동인 교수님의 깊은 통찰이 함께 들어 있습니다. 인공지능의 기술과 비즈니스 각각의 분야별 전문가는 ...'}, {'url': 'https://www.etnews.com/20231023000187', 'content': \"EU CBAM 및 배터리 규제 대응 솔루션 실제 구축 사례\\nFPT의 Cockpit Domain Controller(CDC)로소프트웨어 정의 차량 시대로의 전환 가속화\\nBRAND NEWSROOM\\n많이 본 뉴스\\n홈플러스, 단독 세일 '홈플런' 2주차 돌입…“9990원 특가 상품 판매”\\n10분 내 완충되는 전기차 배터리 등장 예고…“2027년 리튬황 상용화”\\n삼성스토어 “'비스포크 AI 콤보' 체험 고객으로 문전성시”\\n삼성, 美반도체 투자 비상…건설비 급증\\n현대차그룹, 자체 개발 '초급속 충전기' 본격 보급\\nBIZPLUS\\nEU CBAM 및 배터리 규제 대응 솔루션 실제 구축 사례\\nFPT의 소프트웨어 정의 차량 시대로의 전환 가속화, 3월 14일 생방송\\nCopyright © Electronic Times Internet. 내부적으로 논리적인 추론을 하는 기능이 있어 컴퓨터 비전이나 자연어처리 등 지금까지 나온 AI와는 전혀 다른 AI이다.”\\n장동인 KAIST AI대학원 교수는 27일 역삼 포스코타워에서 열리는 '기업의 LLM 도입 전략 및 사례' 세미나에 앞서 가진 인터뷰에서 ”LLM은 기존 AI와 다르기 때문에 기업에서 LLM을 도입한다면 사람의 지도하에 매우 많은 일을 대신해줄 수 있을 것”이라고 전망했다.\\n 그는 “LLM 구현 업체의 답은 뻔하기 때문”이라면서 “먼저 사용자요구사항과 그에 해당하는 답변들이 준비가 되어 있어야 LLM 구현하는 업체를 판단할 수도 있고, 진행이 빠르게 된다”고 덧붙였다.\\n 요소…장동인 KAIST AI대학원 교수 “LLM 구현 위해 전산팀 나서야”\\n“대규모 언어모델(LLM)은 단순히 질문답변이나 번역, 요약만을 해주는 인공지능(AI)이 아니다. 장동인 교수는 “현재 나와 있는 LLM의 멀티모달 기능은 초기 형태이지만 사람과 같이 보고, 듣고, 읽고 말할 수 있어 인간이 지각하고 논리적인 생각을 하는 것과 매우 유사하다”면서 “사람이 하는 일을 AI에게 시킬 수 있다”고 말했다.\"}]\u001b[0m\u001b[32;1m\u001b[1;3m장동인 교수에 대한 정보를 요약해드리겠습니다.\n",
      "\n",
      "1. **학력 및 경력**:\n",
      "   - 서울대학교 공과대학 원자핵공학과 졸업\n",
      "   - 미국 남가주대학교에서 컴퓨터공학 석사\n",
      "   - 서울과학종합대학원에서 경영학 박사\n",
      "\n",
      "2. **경력**:\n",
      "   - 미국 비자카드, EDS, 아메리칸 항공, 독일 아마데우스(Amadeus), 오라클 등에서 근무\n",
      "\n",
      "3. **현재 직위**:\n",
      "   - KAIST AI대학원 교수\n",
      "\n",
      "4. **연구 및 활동**:\n",
      "   - 인공지능(AI) 분야에서 활발한 연구 활동을 하고 있으며, 특히 대규모 언어모델(LLM)과 관련된 연구를 진행 중\n",
      "   - LLM의 멀티모달 기능에 대해 연구하며, 이를 통해 AI가 사람처럼 보고, 듣고, 읽고 말할 수 있는 능력을 갖추도록 하는 데 중점을 두고 있음\n",
      "\n",
      "5. **기타 활동**:\n",
      "   - 기업의 LLM 도입 전략 및 사례에 대한 세미나에서 발표\n",
      "   - 인공지능 기술과 비즈니스 분야에서 깊은 통찰을 제공\n",
      "\n",
      "장동인 교수는 인공지능과 관련된 다양한 연구와 활동을 통해 학계와 산업계에서 중요한 역할을 하고 있습니다.\u001b[0m\n",
      "\n",
      "\u001b[1m> Finished chain.\u001b[0m\n"
     ]
    },
    {
     "data": {
      "text/plain": [
       "{'input': '장동인교수에 대해서 알아봐줘',\n",
       " 'output': '장동인 교수에 대한 정보를 요약해드리겠습니다.\\n\\n1. **학력 및 경력**:\\n   - 서울대학교 공과대학 원자핵공학과 졸업\\n   - 미국 남가주대학교에서 컴퓨터공학 석사\\n   - 서울과학종합대학원에서 경영학 박사\\n\\n2. **경력**:\\n   - 미국 비자카드, EDS, 아메리칸 항공, 독일 아마데우스(Amadeus), 오라클 등에서 근무\\n\\n3. **현재 직위**:\\n   - KAIST AI대학원 교수\\n\\n4. **연구 및 활동**:\\n   - 인공지능(AI) 분야에서 활발한 연구 활동을 하고 있으며, 특히 대규모 언어모델(LLM)과 관련된 연구를 진행 중\\n   - LLM의 멀티모달 기능에 대해 연구하며, 이를 통해 AI가 사람처럼 보고, 듣고, 읽고 말할 수 있는 능력을 갖추도록 하는 데 중점을 두고 있음\\n\\n5. **기타 활동**:\\n   - 기업의 LLM 도입 전략 및 사례에 대한 세미나에서 발표\\n   - 인공지능 기술과 비즈니스 분야에서 깊은 통찰을 제공\\n\\n장동인 교수는 인공지능과 관련된 다양한 연구와 활동을 통해 학계와 산업계에서 중요한 역할을 하고 있습니다.'}"
      ]
     },
     "execution_count": 34,
     "metadata": {},
     "output_type": "execute_result"
    }
   ],
   "source": [
    "agent_executor.invoke({\"input\": \"장동인교수에 대해서 알아봐줘\"})"
   ]
  },
  {
   "cell_type": "code",
   "execution_count": 35,
   "metadata": {},
   "outputs": [
    {
     "name": "stdout",
     "output_type": "stream",
     "text": [
      "\n",
      "\n",
      "\u001b[1m> Entering new AgentExecutor chain...\u001b[0m\n",
      "\u001b[32;1m\u001b[1;3m\n",
      "Invoking: `tavily_search_results_json` with `{'query': '장동인 교수 저서'}`\n",
      "\n",
      "\n",
      "\u001b[0m\u001b[36;1m\u001b[1;3m[{'url': 'https://ee.kaist.ac.kr/research-achieve/15973/', 'content': '2018.04.03. 984. 우리 학부의 장동의교수가 옥스포드대학의 Anthony L. Caterini와 함께 \"Deep Neural Networks in a Mathematical Framework\"라는 제목의 딥러닝에 관한 책을 Springer출판사를 통하여 출간하였습니다.책의 자세한 정보는 아래에 있습니다. 책의 eBook은 링크 https://doi.org ...'}, {'url': 'https://product.kyobobook.co.kr/detail/S000208488067', 'content': '황성주 (KAIST 지정석좌교수) 이 책은 ChatGPT에 대한 기본 설명의 차원을 넘어 인공 지능 시대에 기업이 어떤 식으로 이를 활용하며 생존해야 하는지에 대한 장동인 교수님의 깊은 통찰이 함께 들어 있습니다. 인공지능의 기술과 비즈니스 각각의 분야별 전문가는 ...'}, {'url': 'https://www.yes24.com/24/AuthorFile/Author/138230', 'content': '장동인. 서울대학교 공과대학 원자핵공학과를 졸업하고, 미국 남가주 대학교에서 컴퓨터공학 석사를 마쳤다. 미국 비자카드, EDS, 아메리칸 항공, 독일 아마데우스(Amadeus) 등에서 근무했으며, 1996년에 귀국하여 한국오라클 컨설팅본부 이사, 시벨코리아 지사장, SAS Korea 부사장, 언스트앤영 컨설팅 ...'}, {'url': 'https://ridibooks.com/author/74901', 'content': '장동인 서울대학교 공과대학 원자핵공학과를 졸업하고, 미국 서던캘리포니아대학교에서 컴퓨터공학 석사를 마쳤다. 미국 비자카드, EDS, 아메리칸 항공, 독일 아마데우스(Amadeus), 오라클 본사에서 근무했다. 1996년 귀국하여 한국오라클 컨설팅본부 이사, 시벨 ...'}, {'url': 'https://www.facebook.com/groups/eekaist/posts/443111759463681/', 'content': '[장동의 교수님 저서 \\'Deep Neural Networks in a Mathematical Framework\" 출판 안내] [Prof. Dong Eui, Chang has published his book] 저희 전자과 학부의 장동의 교수님께서 옥스포드대학의...'}]\u001b[0m\u001b[32;1m\u001b[1;3m장동인 교수의 저서에 대한 정보는 다음과 같습니다:\n",
      "\n",
      "1. **\"Deep Neural Networks in a Mathematical Framework\"**:\n",
      "   - 출판사: Springer\n",
      "   - 공동 저자: 옥스포드 대학의 Anthony L. Caterini\n",
      "   - 이 책은 딥러닝에 관한 내용을 수학적 틀에서 다루고 있습니다.\n",
      "   - [자세한 정보 보기](https://ee.kaist.ac.kr/research-achieve/15973/)\n",
      "\n",
      "2. **ChatGPT 관련 저서**:\n",
      "   - 이 책은 인공지능 시대에 기업이 어떻게 이를 활용하며 생존해야 하는지에 대한 깊은 통찰을 제공하고 있습니다.\n",
      "   - [자세한 정보 보기](https://product.kyobobook.co.kr/detail/S000208488067)\n",
      "\n",
      "장동인 교수는 서울대학교 공과대학 원자핵공학과를 졸업하고, 미국 남가주 대학교에서 컴퓨터공학 석사를 마쳤으며, 다양한 글로벌 기업에서 근무한 경력이 있습니다.\u001b[0m\n",
      "\n",
      "\u001b[1m> Finished chain.\u001b[0m\n"
     ]
    }
   ],
   "source": [
    "result = agent_executor.invoke(\n",
    "    {\"input\": \"장동인 교수가 쓴 저서에 대해서 알아봐줘\"}\n",
    ")"
   ]
  },
  {
   "cell_type": "code",
   "execution_count": 36,
   "metadata": {},
   "outputs": [
    {
     "name": "stdout",
     "output_type": "stream",
     "text": [
      "장동인 교수의 저서에 대한 정보는 다음과 같습니다:\n",
      "\n",
      "1. **\"Deep Neural Networks in a Mathematical Framework\"**:\n",
      "   - 출판사: Springer\n",
      "   - 공동 저자: 옥스포드 대학의 Anthony L. Caterini\n",
      "   - 이 책은 딥러닝에 관한 내용을 수학적 틀에서 다루고 있습니다.\n",
      "   - [자세한 정보 보기](https://ee.kaist.ac.kr/research-achieve/15973/)\n",
      "\n",
      "2. **ChatGPT 관련 저서**:\n",
      "   - 이 책은 인공지능 시대에 기업이 어떻게 이를 활용하며 생존해야 하는지에 대한 깊은 통찰을 제공하고 있습니다.\n",
      "   - [자세한 정보 보기](https://product.kyobobook.co.kr/detail/S000208488067)\n",
      "\n",
      "장동인 교수는 서울대학교 공과대학 원자핵공학과를 졸업하고, 미국 남가주 대학교에서 컴퓨터공학 석사를 마쳤으며, 다양한 글로벌 기업에서 근무한 경력이 있습니다.\n"
     ]
    }
   ],
   "source": [
    "print(result[\"output\"])"
   ]
  },
  {
   "cell_type": "code",
   "execution_count": 37,
   "metadata": {},
   "outputs": [
    {
     "name": "stdout",
     "output_type": "stream",
     "text": [
      "\n",
      "\n",
      "\u001b[1m> Entering new AgentExecutor chain...\u001b[0m\n",
      "\u001b[32;1m\u001b[1;3m\n",
      "Invoking: `tavily_search_results_json` with `{'query': '판교 몽중헌 전화번호'}`\n",
      "\n",
      "\n",
      "\u001b[0m\u001b[36;1m\u001b[1;3m[{'url': 'http://www.mongjungheon.co.kr/pangyo.jsp', 'content': '남기는 백주\\n500ml 75,000\\n농향형 34% 연태지방의 수수를 원료로 만든 향이 좋고 부드러운 백주\\n500ml 65,000\\n250ml 38,000\\n125ml 28,000\\nCHAMPAGNE · SPARKLING WINE\\n350,000\\n250,000\\n160,000\\n90,000\\n70,000\\nWHITE WINE\\n170,000\\n110,000\\n95,000\\n90,000\\n85,000\\n75,000\\nRED WINE\\n380,000\\n180,000\\n150,000\\n130,000\\n120,000\\n100,000\\n95,000\\n90,000\\n80,000\\n75,000\\n70,000\\nGLASS WINE\\n15,000\\n15,000\\nDISTILLED LIQUOR\\n375ml 35,000\\n375ml 35,000\\nBEER\\n320ml 11,000\\n640ml 14,000\\n580ml 11,000\\n600ml 12,000\\n610ml 12,000\\n330ml 8,000\\n330ml 8,000\\nSOFT DRINK\\n7,000\\n7,000\\n5,000\\n5,000\\n4,500\\n8,000\\nCOFFEE\\nhot 5,000\\nIced 6,000\\nhot 6,000\\nIced 7,000\\nhot 5,000\\nDim Sum Special Course\\nLUNCH - 70,000 (1人)\\nDINNER - 90,000 (1人)\\n Chef-Recommended\\nSpicy Dish\\n대만\\n금문향형 58% 최상의 수질과 기후를 가진 금문도에서 자란 수수를 엄선하여 제조한 술로, 부드럽고 감미로운 맛이 우수한 백주\\n600ml 180,000\\n300ml 100,000\\n貴州省\\n귀주성\\n장향형\\n53%\\n수수를 원료로 하여 8번의 발효와 9번의 증류를 거친 후 3년 이상 숙성시킨 술로, 자연 그대로의 발효공법을 통해 오직 좋은 원재료 만으로 빚어낸 중국의 대표 명주\\n500ml 1,500,000\\n농향형\\n33%\\n중국 명주를 만드는 강 ‘적수하’의 맑은 물과 엄선된 붉은 수수를 사용해 양조한 술로, 풍부한 향이 진한 여운을 남기고 깔끔한 목 넘김과 깊은 맛이 특징인 백주\\n450ml 100,000\\n四川省\\n사천성\\n농향형\\n52% 찹쌀, 수수, , 옥수수, 쌀 등 다섯 가지 곡물을 재료로 빚은 술로, 높은 도수에 비해 부드럽고 풍부한 맛이 일품인 중국의 대표 명주\\n500ml 750,000\\n농향형\\n52% *2인 이상 주문 시 가능합니다.\\n냉채류\\n탕류\\n잡품류\\n바닷가재·새우류\\n쇠고기류\\n돼지고기류\\n닭고기류\\n구이류\\n채소·두부류\\n면류\\n밥류\\nSteamed Dim Sum\\n조리에 사용되는 닭육수용 닭은 국내산만 사용합니다.\\n 맛과 맑고 그윽한 잔향이 특징인 백주\\n500ml 250,000\\n봉향형 45% 중국 양귀비의 최애술로 여왕의 술이라 불리며,\\n부드럽고 달콤한 맛과 깔끔하고 청아한 향의 조화가 일품인 백주\\n500ml 200,000\\n청향형\\n49% 불순물이 없고 깨끗한 맛으로 유명한 대중적인 술로, 편안하게 즐길 수 있는 부드러운 향의 백주\\n280ml 45,000\\n山東省\\n산동성\\n농향형 52% 공자의 약속이라는 뜻을 벨벳 같은 편안함과 부드러움이 느껴지는 균형감이 좋은 백주\\n480ml 150,000\\n농향형\\n38% 중국의 8대 명주이자 중국의 건륭제가 즐겨마시던 술로, 부드럽고 긴 여운이 특징인 백주\\n500ml 80,000\\n山西省 · 天津\\n산서성 · 천진\\n봉향형 45% 중국 4대 명주이자 중국 진시황이 즐겨 마시던 술로,\\n30년동안 숙성되어 깊고 묵직한'}, {'url': 'https://blog.naver.com/PostView.naver?blogId=pdi0903&logNo=222685325353&directAccess=false', 'content': \"ㅋㅋ\\n\\u200b\\n메인 메뉴판 보실게요\\n\\u200b\\n\\u200b\\n사진을 찍다가 지쳐하니까\\n앞에 일행이 메뉴판을 들어줬습니다\\nㅋㅋㅋㅋㅋ\\n민망..\\n\\u200b\\n저희 일행은\\n딤섬 4종류\\u200b\\n하교(통새우) ₩12,000\\n구채교(새우와 부추) ₩12,000\\n근채교(새우, 돼지고기, 샐러리, 칠리페퍼) ₩12,000\\n상하이소롱포(상하이식 돼지고기) ₩15,000\\n그리고\\n삼선짬뽕 ₩18,000\\n사천탕면 ₩18,000\\n게살볶음밥 ₩18,000\\n을 주문했습니다.\\n 왜 딤섬전문점인지 알겠다는 ㅎㅎ\\n\\u200b\\n이어서 나온\\n\\u200b\\n\\u200b\\n일행1의 XO소스 게살 볶음밥\\n\\u200b\\n\\u200b\\n일행2의 사천탕면\\n\\u200b\\n\\u200b\\n이건 제가 주문한 삼선짬뽕 입니다.\\n \\u200b\\n몽중헌 판교점\\n경기 성남시 분당구 분당내곡로 131, 판교테크원타워 2층\\n매장전화번호) 031-601-7574\\n영업시간) 11:30 ~ 22:00\\n(브레이크타임 15:00 ~ 17:30)\\n\\u200b\\n판교테크원타워는 판교역 1번출구로 나오면\\n바로 보이는 이곳\\n\\u200b\\n\\u200b\\n투썸플레이스가 있는 이 건물이 되겠습니다!!\\n \\u200b\\n딤섬으로 유명한 '몽중헌'은\\n판교역 바로앞에 있는\\n판교테크원타워 2층에 위치해있구요\\n몇주전부터 오픈예정 현수막을 보고\\n기대를 하고 있었습니다 ㅋㅋ\\n\\u200b\\n안녕하세요 오늘은 신규오픈한지 3일밖에 안된 따끈따끈한 신상맛집 소개해드립니다 ㅎ 이미 방송으로 유명...\\nm.blog.naver.com\\n판교테크원타워 정보는 위 포스팅 참고해주시고\\n\\u200b\\n그럼 만나러 가보겠습니다.\\n \\u200b\\n기존에 알고있던 가격에서 다 조금씩 올랐더라구요\\n(2~3천원씩)\\n\\u200b\\n\\u200b\\n기본반찬이에요\\n(짜사이와 무, 땅콩)\\n\\u200b\\n\\u200b\\n딤섬 3가지(하교, 구채교, 근채교)는\\n각 1개씩\"}, {'url': 'https://m.blog.naver.com/soh_y_/223176564604', 'content': '\\u200b\\n\\u200b\\n짜사이, 땅콩볶음, 피클 기본찬 3종과\\n고추기름이 섞인 간장이 함께 나와요.\\n\\u200b\\n주문 메뉴\\n상하이 소롱포 / 15,000\\n백채교 / 12,000\\nXO소스의 소포 / 12,000\\n돼지고기 탕수육(소) / 40,000\\n한우 일품 자장면 / 14,000\\n\\u200b\\n상하이 소롱포\\n소롱포는 깊은 수저 위에 올리고\\n젓가락으로 피를 터뜨려 뜨거운 육즙을 맛봐요.\\n돼지고기 잡내가 느껴지지 않고 감칠맛 제대로였어요.\\n 주차 가능\\n\\u200b\\n• 전화번호 / 031-601-7574\\n\\u200b\\n• 운영시간 / 월~금 11:30~22:00\\n브레이크 타임 15:00~17:30\\n라스트 오더 21:00\\n토~일 11:30~21:30\\n브레이크 타임 15:00~17:30\\n라스트 오더 20:30\\n\\u200b\\n경기도 성남시 분당구 분당내곡로 131 판교 테크원 타워 2F\\n안녕하세요.\\n 8. 7. 6:00\\n\\u200b\\n\\u200b\\n몽중헌 판교점\\n다양한 딤섬을 즐길 수 있는 분위기 좋은 중식당\\n• 주소 / 경기 성남시 분당구 분당내곡로 131\\n판교 테크원타워 2층\\n\\u200b\\n• 주차 / \\u200b\\n고급진 분위기가 좋았던 몽중헌 판교점 후기에요:)\\n\\u200b\\n외부 모습\\n\\u200b\\n몽중헌 판교점은\\n랩 오브 파리바게트 옆 에스컬레이터를 이용해\\n2층으로 올라오면 좌측에 위치해요.\\n \\u200b\\n#몽중헌 #몽중헌메뉴 #몽중헌예약 #몽중헌룸예약\\n#몽중헌회식 #몽중헌데이트 #몽중헌판교점 #테크원맛집\\n#테크원주차 #판교역맛집 #판교맛집 #판교중식당\\n#분당중식당 #판교분위기좋은 #판교데이트 #판교회식\\n#판교소개팅 #내돈내먹\\n맛집, 일상을 공유해요_.\\n'}, {'url': 'https://m.blog.naver.com/shoodingstar/223282238040', 'content': '전화 | 031-601-7574. 영업시간 | 매일 11:30-22:00 (Break Time 15:00-17:30, Last Order 21:00) ... [분당/판교] 판교 테크원타워 맛집 중식당 몽중헌 CJ 라이프 스타일 스페셜 코스. 몽중헌 판교점 판교 테크원타워에 위치한 #몽중헌 판교점 분위기도 좋고 음식도 맛있어서 좋아하는 ...'}, {'url': 'https://www.siksinhot.com/P/1455887', 'content': '몽중헌 판교점입니다. 홍콩 본토의 맛을 재현한 중식레스토랑입니다. 경기, 분당-판교에 위치하고 있습니다. ... 경기 성남시 분당구 판교역로 146번 길 20 현대백화점 9층 지번 : 백현동 541 전화번호 : 050713521963 영업시간 : 10:30~ 오후 9:00 *출처 : ...'}]\u001b[0m\u001b[32;1m\u001b[1;3m판교 몽중헌의 전화번호는 다음과 같습니다:\n",
      "\n",
      "- **전화번호**: 031-601-7574\n",
      "\n",
      "주소는 경기 성남시 분당구 분당내곡로 131, 판교테크원타워 2층에 위치해 있습니다.\u001b[0m\n",
      "\n",
      "\u001b[1m> Finished chain.\u001b[0m\n"
     ]
    }
   ],
   "source": [
    "result = agent_executor.invoke({\"input\": \"강남 나이키매장의 전화번호를 알려줘\"})"
   ]
  },
  {
   "cell_type": "code",
   "execution_count": 13,
   "metadata": {},
   "outputs": [
    {
     "data": {
      "text/plain": [
       "'판교 몽중헌의 전화번호는 031-601-7574입니다. 영업시간은 월~금 11:30 ~ 22:00이며, 브레이크타임은 15:00 ~ 17:30입니다. 위치는 경기 성남시 분당구 분당내곡로 131 판교테크원타워 2층에 있습니다.'"
      ]
     },
     "execution_count": 13,
     "metadata": {},
     "output_type": "execute_result"
    }
   ],
   "source": [
    "result[\"output\"]"
   ]
  },
  {
   "cell_type": "code",
   "execution_count": null,
   "metadata": {},
   "outputs": [],
   "source": []
  },
  {
   "cell_type": "code",
   "execution_count": null,
   "metadata": {},
   "outputs": [],
   "source": []
  },
  {
   "cell_type": "code",
   "execution_count": null,
   "metadata": {},
   "outputs": [],
   "source": []
  }
 ],
 "metadata": {
  "kernelspec": {
   "display_name": "py-test",
   "language": "python",
   "name": "python3"
  },
  "language_info": {
   "codemirror_mode": {
    "name": "ipython",
    "version": 3
   },
   "file_extension": ".py",
   "mimetype": "text/x-python",
   "name": "python",
   "nbconvert_exporter": "python",
   "pygments_lexer": "ipython3",
   "version": "3.11.9"
  }
 },
 "nbformat": 4,
 "nbformat_minor": 2
}
