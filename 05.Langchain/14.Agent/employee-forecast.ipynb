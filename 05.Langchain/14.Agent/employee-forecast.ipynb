{
 "cells": [
  {
   "cell_type": "code",
   "execution_count": 1,
   "metadata": {},
   "outputs": [
    {
     "name": "stdout",
     "output_type": "stream",
     "text": [
      "Requirement already satisfied: faker in c:\\users\\donchang\\anaconda3\\lib\\site-packages (25.8.0)\n",
      "Requirement already satisfied: python-dateutil>=2.4 in c:\\users\\donchang\\anaconda3\\lib\\site-packages (from faker) (2.9.0.post0)\n",
      "Requirement already satisfied: six>=1.5 in c:\\users\\donchang\\anaconda3\\lib\\site-packages (from python-dateutil>=2.4->faker) (1.16.0)\n"
     ]
    },
    {
     "name": "stderr",
     "output_type": "stream",
     "text": [
      "WARNING: Skipping C:\\Users\\donchang\\anaconda3\\Lib\\site-packages\\pillow-10.3.0.dist-info due to invalid metadata entry 'name'\n",
      "WARNING: Skipping C:\\Users\\donchang\\anaconda3\\Lib\\site-packages\\pillow-10.3.0.dist-info due to invalid metadata entry 'name'\n",
      "WARNING: Skipping C:\\Users\\donchang\\anaconda3\\Lib\\site-packages\\pillow-10.3.0.dist-info due to invalid metadata entry 'name'\n",
      "WARNING: Skipping C:\\Users\\donchang\\anaconda3\\Lib\\site-packages\\pillow-10.3.0.dist-info due to invalid metadata entry 'name'\n",
      "WARNING: Skipping C:\\Users\\donchang\\anaconda3\\Lib\\site-packages\\pillow-10.3.0.dist-info due to invalid metadata entry 'name'\n"
     ]
    }
   ],
   "source": [
    "!pip install faker"
   ]
  },
  {
   "cell_type": "code",
   "execution_count": 2,
   "metadata": {},
   "outputs": [
    {
     "name": "stdout",
     "output_type": "stream",
     "text": [
      "employees.csv 파일이 생성되었습니다.\n"
     ]
    }
   ],
   "source": [
    "import pandas as pd\n",
    "import numpy as np\n",
    "from faker import Faker\n",
    "\n",
    "# Faker 인스턴스 생성\n",
    "fake = Faker()\n",
    "\n",
    "# fake 직원 데이터 생성\n",
    "num_employees = 100\n",
    "data = {\n",
    "    'EmployeeID': np.arange(1, num_employees + 1),\n",
    "    'FirstName': [fake.first_name() for _ in range(num_employees)],\n",
    "    'LastName': [fake.last_name() for _ in range(num_employees)],\n",
    "    'Salary': [round(fake.random_number(digits=5), 2) for _ in range(num_employees)],\n",
    "    'YearsAtCompany': [fake.random_int(min=1, max=20) for _ in range(num_employees)]\n",
    "}\n",
    "\n",
    "# DataFrame 생성\n",
    "df = pd.DataFrame(data)\n",
    "\n",
    "# CSV 파일로 저장\n",
    "csv_path = 'employees.csv'\n",
    "df.to_csv(csv_path, index=False)\n",
    "\n",
    "print(f'{csv_path} 파일이 생성되었습니다.')\n"
   ]
  },
  {
   "cell_type": "code",
   "execution_count": 4,
   "metadata": {},
   "outputs": [
    {
     "data": {
      "text/html": [
       "<div>\n",
       "<style scoped>\n",
       "    .dataframe tbody tr th:only-of-type {\n",
       "        vertical-align: middle;\n",
       "    }\n",
       "\n",
       "    .dataframe tbody tr th {\n",
       "        vertical-align: top;\n",
       "    }\n",
       "\n",
       "    .dataframe thead th {\n",
       "        text-align: right;\n",
       "    }\n",
       "</style>\n",
       "<table border=\"1\" class=\"dataframe\">\n",
       "  <thead>\n",
       "    <tr style=\"text-align: right;\">\n",
       "      <th></th>\n",
       "      <th>EmployeeID</th>\n",
       "      <th>FirstName</th>\n",
       "      <th>LastName</th>\n",
       "      <th>Salary</th>\n",
       "      <th>YearsAtCompany</th>\n",
       "    </tr>\n",
       "  </thead>\n",
       "  <tbody>\n",
       "    <tr>\n",
       "      <th>95</th>\n",
       "      <td>96</td>\n",
       "      <td>Kevin</td>\n",
       "      <td>Villegas</td>\n",
       "      <td>68963</td>\n",
       "      <td>1</td>\n",
       "    </tr>\n",
       "    <tr>\n",
       "      <th>96</th>\n",
       "      <td>97</td>\n",
       "      <td>David</td>\n",
       "      <td>Nelson</td>\n",
       "      <td>64883</td>\n",
       "      <td>13</td>\n",
       "    </tr>\n",
       "    <tr>\n",
       "      <th>97</th>\n",
       "      <td>98</td>\n",
       "      <td>Jason</td>\n",
       "      <td>Ashley</td>\n",
       "      <td>4353</td>\n",
       "      <td>13</td>\n",
       "    </tr>\n",
       "    <tr>\n",
       "      <th>98</th>\n",
       "      <td>99</td>\n",
       "      <td>Shannon</td>\n",
       "      <td>Chang</td>\n",
       "      <td>10506</td>\n",
       "      <td>12</td>\n",
       "    </tr>\n",
       "    <tr>\n",
       "      <th>99</th>\n",
       "      <td>100</td>\n",
       "      <td>Tyler</td>\n",
       "      <td>Warner</td>\n",
       "      <td>63257</td>\n",
       "      <td>20</td>\n",
       "    </tr>\n",
       "  </tbody>\n",
       "</table>\n",
       "</div>"
      ],
      "text/plain": [
       "    EmployeeID FirstName  LastName  Salary  YearsAtCompany\n",
       "95          96     Kevin  Villegas   68963               1\n",
       "96          97     David    Nelson   64883              13\n",
       "97          98     Jason    Ashley    4353              13\n",
       "98          99   Shannon     Chang   10506              12\n",
       "99         100     Tyler    Warner   63257              20"
      ]
     },
     "execution_count": 4,
     "metadata": {},
     "output_type": "execute_result"
    }
   ],
   "source": [
    "df.tail()"
   ]
  },
  {
   "cell_type": "code",
   "execution_count": 5,
   "metadata": {},
   "outputs": [
    {
     "data": {
      "text/plain": [
       "True"
      ]
     },
     "execution_count": 5,
     "metadata": {},
     "output_type": "execute_result"
    }
   ],
   "source": [
    "from dotenv import load_dotenv\n",
    "load_dotenv()"
   ]
  },
  {
   "cell_type": "code",
   "execution_count": 6,
   "metadata": {},
   "outputs": [],
   "source": [
    "import pandas as pd\n",
    "import numpy as np\n",
    "import sqlite3\n",
    "from faker import Faker\n",
    "from langchain.agents.agent_types import AgentType\n",
    "from langchain_experimental.agents.agent_toolkits import create_csv_agent\n",
    "from langchain_openai import ChatOpenAI, OpenAI\n",
    "from langchain.agents.agent_types import AgentType\n",
    "\n",
    "from langchain_community.utilities import SQLDatabase\n",
    "from langchain_community.agent_toolkits import create_sql_agent\n",
    "from sklearn.linear_model import LinearRegression\n",
    "from sklearn.model_selection import train_test_split\n",
    "import os"
   ]
  },
  {
   "cell_type": "code",
   "execution_count": 11,
   "metadata": {},
   "outputs": [],
   "source": [
    "# SQLite 데이터베이스로 로드\n",
    "db_path = 'employees.db'\n",
    "\n",
    "def load_csv_to_db(csv_path, db_path):\n",
    "    df = pd.read_csv(csv_path)\n",
    "    conn = sqlite3.connect(db_path)\n",
    "    df.to_sql('data', conn, if_exists='replace', index=False)\n",
    "    conn.close()\n",
    "\n",
    "load_csv_to_db(csv_path, db_path)\n",
    "\n",
    "# OpenAI LLM 인스턴스 생성\n",
    "llm = ChatOpenAI(model=\"gpt-4o\", temperature=0)\n",
    "\n",
    "# SQLite 데이터베이스 연결 설정\n",
    "db = sqlite3.connect(db_path)"
   ]
  },
  {
   "cell_type": "code",
   "execution_count": 10,
   "metadata": {},
   "outputs": [
    {
     "ename": "ValidationError",
     "evalue": "1 validation error for SQLDatabaseToolkit\ndb\n  instance of SQLDatabase expected (type=type_error.arbitrary_type; expected_arbitrary_type=SQLDatabase)",
     "output_type": "error",
     "traceback": [
      "\u001b[1;31m---------------------------------------------------------------------------\u001b[0m",
      "\u001b[1;31mValidationError\u001b[0m                           Traceback (most recent call last)",
      "Cell \u001b[1;32mIn[10], line 2\u001b[0m\n\u001b[0;32m      1\u001b[0m \u001b[38;5;66;03m# SQL 에이전트 생성\u001b[39;00m\n\u001b[1;32m----> 2\u001b[0m agent_executor \u001b[38;5;241m=\u001b[39m \u001b[43mcreate_sql_agent\u001b[49m\u001b[43m(\u001b[49m\n\u001b[0;32m      3\u001b[0m \u001b[43m    \u001b[49m\u001b[43mllm\u001b[49m\u001b[38;5;241;43m=\u001b[39;49m\u001b[43mllm\u001b[49m\u001b[43m,\u001b[49m\n\u001b[0;32m      4\u001b[0m \u001b[43m    \u001b[49m\u001b[43mdb\u001b[49m\u001b[38;5;241;43m=\u001b[39;49m\u001b[43mdb\u001b[49m\u001b[43m,\u001b[49m\n\u001b[0;32m      5\u001b[0m \u001b[43m    \u001b[49m\u001b[43magent_type\u001b[49m\u001b[38;5;241;43m=\u001b[39;49m\u001b[38;5;124;43m\"\u001b[39;49m\u001b[38;5;124;43mopenai-tools\u001b[39;49m\u001b[38;5;124;43m\"\u001b[39;49m\u001b[43m,\u001b[49m\n\u001b[0;32m      6\u001b[0m \u001b[43m    \u001b[49m\u001b[43mverbose\u001b[49m\u001b[38;5;241;43m=\u001b[39;49m\u001b[38;5;28;43;01mTrue\u001b[39;49;00m\n\u001b[0;32m      7\u001b[0m \u001b[43m)\u001b[49m\n",
      "File \u001b[1;32mc:\\Users\\donchang\\anaconda3\\Lib\\site-packages\\langchain_community\\agent_toolkits\\sql\\base.py:140\u001b[0m, in \u001b[0;36mcreate_sql_agent\u001b[1;34m(llm, toolkit, agent_type, callback_manager, prefix, suffix, format_instructions, input_variables, top_k, max_iterations, max_execution_time, early_stopping_method, verbose, agent_executor_kwargs, extra_tools, db, prompt, **kwargs)\u001b[0m\n\u001b[0;32m    135\u001b[0m \u001b[38;5;28;01mif\u001b[39;00m toolkit \u001b[38;5;129;01mand\u001b[39;00m db:\n\u001b[0;32m    136\u001b[0m     \u001b[38;5;28;01mraise\u001b[39;00m \u001b[38;5;167;01mValueError\u001b[39;00m(\n\u001b[0;32m    137\u001b[0m         \u001b[38;5;124m\"\u001b[39m\u001b[38;5;124mMust provide exactly one of \u001b[39m\u001b[38;5;124m'\u001b[39m\u001b[38;5;124mtoolkit\u001b[39m\u001b[38;5;124m'\u001b[39m\u001b[38;5;124m or \u001b[39m\u001b[38;5;124m'\u001b[39m\u001b[38;5;124mdb\u001b[39m\u001b[38;5;124m'\u001b[39m\u001b[38;5;124m. Received both.\u001b[39m\u001b[38;5;124m\"\u001b[39m\n\u001b[0;32m    138\u001b[0m     )\n\u001b[1;32m--> 140\u001b[0m toolkit \u001b[38;5;241m=\u001b[39m toolkit \u001b[38;5;129;01mor\u001b[39;00m \u001b[43mSQLDatabaseToolkit\u001b[49m\u001b[43m(\u001b[49m\u001b[43mllm\u001b[49m\u001b[38;5;241;43m=\u001b[39;49m\u001b[43mllm\u001b[49m\u001b[43m,\u001b[49m\u001b[43m \u001b[49m\u001b[43mdb\u001b[49m\u001b[38;5;241;43m=\u001b[39;49m\u001b[43mdb\u001b[49m\u001b[43m)\u001b[49m  \u001b[38;5;66;03m# type: ignore[arg-type]\u001b[39;00m\n\u001b[0;32m    141\u001b[0m agent_type \u001b[38;5;241m=\u001b[39m agent_type \u001b[38;5;129;01mor\u001b[39;00m AgentType\u001b[38;5;241m.\u001b[39mZERO_SHOT_REACT_DESCRIPTION\n\u001b[0;32m    142\u001b[0m tools \u001b[38;5;241m=\u001b[39m toolkit\u001b[38;5;241m.\u001b[39mget_tools() \u001b[38;5;241m+\u001b[39m \u001b[38;5;28mlist\u001b[39m(extra_tools)\n",
      "File \u001b[1;32mc:\\Users\\donchang\\anaconda3\\Lib\\site-packages\\pydantic\\v1\\main.py:341\u001b[0m, in \u001b[0;36mBaseModel.__init__\u001b[1;34m(__pydantic_self__, **data)\u001b[0m\n\u001b[0;32m    339\u001b[0m values, fields_set, validation_error \u001b[38;5;241m=\u001b[39m validate_model(__pydantic_self__\u001b[38;5;241m.\u001b[39m\u001b[38;5;18m__class__\u001b[39m, data)\n\u001b[0;32m    340\u001b[0m \u001b[38;5;28;01mif\u001b[39;00m validation_error:\n\u001b[1;32m--> 341\u001b[0m     \u001b[38;5;28;01mraise\u001b[39;00m validation_error\n\u001b[0;32m    342\u001b[0m \u001b[38;5;28;01mtry\u001b[39;00m:\n\u001b[0;32m    343\u001b[0m     object_setattr(__pydantic_self__, \u001b[38;5;124m'\u001b[39m\u001b[38;5;124m__dict__\u001b[39m\u001b[38;5;124m'\u001b[39m, values)\n",
      "\u001b[1;31mValidationError\u001b[0m: 1 validation error for SQLDatabaseToolkit\ndb\n  instance of SQLDatabase expected (type=type_error.arbitrary_type; expected_arbitrary_type=SQLDatabase)"
     ]
    }
   ],
   "source": [
    "# SQL 에이전트 생성\n",
    "agent_executor = create_sql_agent(\n",
    "    llm=llm,\n",
    "    db=db,\n",
    "    agent_type=\"openai-tools\",\n",
    "    verbose=True\n",
    ")"
   ]
  },
  {
   "cell_type": "code",
   "execution_count": null,
   "metadata": {},
   "outputs": [],
   "source": [
    "\n",
    "\n",
    "\n",
    "\n",
    "# 사용자 정의 회귀 분석 함수\n",
    "def perform_regression(inputs):\n",
    "    # SQLite 데이터베이스에서 데이터 로드\n",
    "    df = pd.read_sql_query(inputs['query'], conn)\n",
    "    \n",
    "    # 데이터 전처리\n",
    "    features = df[['Salary', 'YearsAtCompany']].values  # 모델 입력 피처\n",
    "    target = df['YearsAtCompany'].values  # 모델 출력 피처\n",
    "    \n",
    "    # 데이터 분리\n",
    "    X_train, X_test, y_train, y_test = train_test_split(features, target, test_size=0.2, random_state=42)\n",
    "    \n",
    "    # 회귀 모델 생성 및 학습\n",
    "    model = LinearRegression()\n",
    "    model.fit(X_train, y_train)\n",
    "    \n",
    "    # 모델 평가 및 예측\n",
    "    score = model.score(X_test, y_test)\n",
    "    predictions = model.predict(X_test)\n",
    "    \n",
    "    return {\n",
    "        'score': score,\n",
    "        'predictions': predictions.tolist()\n",
    "    }\n",
    "\n",
    "# LangChain 에이전트 실행기 설정\n",
    "class CustomAgent:\n",
    "    def __init__(self, llm, sql_agent, regression_func):\n",
    "        self.llm = llm\n",
    "        self.sql_agent = sql_agent\n",
    "        self.regression_func = regression_func\n",
    "\n",
    "    def run(self, inputs):\n",
    "        # SQL 쿼리 생성\n",
    "        sql_query_response = self.sql_agent.run({\"input\": inputs[\"input\"]})\n",
    "        sql_query = sql_query_response[\"sql_query\"]\n",
    "\n",
    "        # 회귀 분석 수행\n",
    "        regression_results = self.regression_func({\"query\": sql_query})\n",
    "\n",
    "        return {\n",
    "            \"sql_query\": sql_query,\n",
    "            \"regression_results\": regression_results\n",
    "        }\n",
    "\n",
    "# 사용자 정의 에이전트 인스턴스 생성\n",
    "custom_agent = CustomAgent(llm, sql_agent, perform_regression)\n",
    "\n",
    "# 자연어 입력을 통해 에이전트 실행\n",
    "response = custom_agent.run({\"input\": \"급여와 근무 기간을 바탕으로 회귀 분석을 수행해 주세요.\"})\n",
    "\n",
    "# 결과 출력\n",
    "print(response)\n"
   ]
  },
  {
   "cell_type": "code",
   "execution_count": null,
   "metadata": {},
   "outputs": [],
   "source": []
  }
 ],
 "metadata": {
  "kernelspec": {
   "display_name": "base",
   "language": "python",
   "name": "python3"
  },
  "language_info": {
   "codemirror_mode": {
    "name": "ipython",
    "version": 3
   },
   "file_extension": ".py",
   "mimetype": "text/x-python",
   "name": "python",
   "nbconvert_exporter": "python",
   "pygments_lexer": "ipython3",
   "version": "3.11.9"
  }
 },
 "nbformat": 4,
 "nbformat_minor": 2
}
