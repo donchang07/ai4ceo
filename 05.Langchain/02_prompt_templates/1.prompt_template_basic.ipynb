{
 "cells": [
  {
   "cell_type": "markdown",
   "metadata": {},
   "source": [
    "# 프롬프트 템플릿(Prompt Template)\n",
    "- 같은 질문을 여러개의 항목에 따라 바꾸어 질문하고 싶을 때\n",
    "- 같은 형식의 문서를 매번 반복해서 작성할 때 (보고서) \n",
    "- 여기에 들어가는 {문서명}, {날짜}, {보고자}, {보고받는사람}, {내용} 등을 미리 정해놓고 나중에 그런 요건이 생길 때마다, 같은 형식의 문서를 만들 수 있다."
   ]
  },
  {
   "cell_type": "code",
   "execution_count": 1,
   "metadata": {},
   "outputs": [],
   "source": [
    "# Prompt Template Docs:\n",
    "#   https://python.langchain.com/v0.2/docs/concepts/#prompt-templateshttps://python.langchain.com/v0.2/docs/concepts/#prompt-templates\n",
    "\n",
    "from langchain.prompts import ChatPromptTemplate\n",
    "from langchain_core.messages import HumanMessage"
   ]
  },
  {
   "cell_type": "code",
   "execution_count": 2,
   "metadata": {},
   "outputs": [
    {
     "data": {
      "text/plain": [
       "True"
      ]
     },
     "execution_count": 2,
     "metadata": {},
     "output_type": "execute_result"
    }
   ],
   "source": [
    "from dotenv import load_dotenv\n",
    "from langchain_openai import ChatOpenAI\n",
    "\n",
    "# Load environment variables from .env\n",
    "load_dotenv()"
   ]
  },
  {
   "cell_type": "code",
   "execution_count": 3,
   "metadata": {},
   "outputs": [
    {
     "name": "stdout",
     "output_type": "stream",
     "text": [
      "-----Prompt from Template-----\n",
      "messages=[HumanMessage(content='\\n문서명: 주간보고서\\n일시: 2024-07-01 10:00\\n보고자: 김철수\\n보고대상: 이영희\\n보고내용: 최근 미국의 대북정책변화\\n')]\n"
     ]
    }
   ],
   "source": [
    "from langchain.prompts import ChatPromptTemplate\n",
    "\n",
    "# PART 1: Create a ChatPromptTemplate using a template string\n",
    "template = \"\"\"\n",
    "문서명: {report}\n",
    "일시: {date} {time}\n",
    "보고자: {reporter}\n",
    "보고대상: {target}\n",
    "보고내용: {content}\n",
    "\"\"\"\n",
    "prompt_template = ChatPromptTemplate.from_template(template)\n",
    "\n",
    "print(\"-----Prompt from Template-----\")\n",
    "prompt = prompt_template.invoke({\n",
    "    \"report\": \"주간보고서\",\n",
    "    \"date\": \"2024-07-01\",\n",
    "    \"time\": \"10:00\",\n",
    "    \"reporter\": \"김철수\",\n",
    "    \"target\": \"이영희\",\n",
    "    \"content\": \"최근 미국의 대북정책변화\"\n",
    "})\n",
    "print(prompt)"
   ]
  },
  {
   "cell_type": "code",
   "execution_count": 4,
   "metadata": {},
   "outputs": [
    {
     "name": "stdout",
     "output_type": "stream",
     "text": [
      "안녕하세요 이영희님,\n",
      "\n",
      "저는 김철수로서 최근 미국의 대북정책 변화에 대해 주간 보고드리겠습니다.\n",
      "\n",
      "최근 미국은 대북정책을 조정하고 있습니다. 바이든 행정부는 북한과의 대화를 강조하며, 이를 통해 비핵화를 촉진하고자 노력하고 있습니다. 이에 따라 북한과의 협상이 재개될 수 있는 가능성이 높아지고 있습니다.\n",
      "\n",
      "또한, 미국은 북한에 대한 인도적 지원을 확대하고 있으며, 이를 통해 북한과의 신뢰 구축을 모색하고 있습니다. 이러한 노력들이 향후 북핵문제의 해결에 긍정적인 영향을 미칠 것으로 기대됩니다.\n",
      "\n",
      "이상으로 최근 미국의 대북정책 변화에 대해 보고드렸습니다. 추가적인 질문이나 의견이 있으시면 언제든지 말씀해주시기 바랍니다.\n",
      "\n",
      "감사합니다.\n",
      "\n",
      "김철수 드림.\n"
     ]
    }
   ],
   "source": [
    "from langchain_openai import ChatOpenAI\n",
    "\n",
    "# Create a ChatOpenAI model\n",
    "model = ChatOpenAI(model=\"gpt-3.5-turbo\",)\n",
    "weekly_report = model.invoke(prompt)\n",
    "print(weekly_report.content)"
   ]
  },
  {
   "cell_type": "code",
   "execution_count": 5,
   "metadata": {},
   "outputs": [
    {
     "name": "stdout",
     "output_type": "stream",
     "text": [
      "### 주간보고서\n",
      "\n",
      "**일시:** 2024-07-01 10:00  \n",
      "**보고자:** 김철수  \n",
      "**보고대상:** 이영희  \n",
      "\n",
      "**보고내용:** 최근 미국의 대북정책변화\n",
      "\n",
      "---\n",
      "\n",
      "#### 1. 서론\n",
      "최근 미국의 대북정책은 여러 가지 요인에 의해 변화를 겪고 있습니다. 본 보고서는 이러한 변화의 주요 내용과 그에 따른 영향 및 시사점을 다룹니다.\n",
      "\n",
      "#### 2. 주요 정책 변화\n",
      "\n",
      "1. **대화 재개 및 협상 강화**\n",
      "    - **지난 회담 결과**: 최근 미국과 북한 간의 고위급 회담이 다시 재개되었으며, 이를 통해 비핵화와 관련된 협상이 강화되었습니다.\n",
      "    - **새로운 협상 전략**: 미국은 유연한 접근 방식을 채택하여 북한의 단계적 비핵화 조치를 유도하고, 이에 상응하는 경제적 지원을 제공하기로 했습니다.\n",
      "\n",
      "2. **제재 완화**\n",
      "    - **부분적 제재 완화**: 미국은 북한이 초기 비핵화 조치를 이행할 경우, 일부 경제 제재를 완화하는 방안을 검토 중입니다.\n",
      "    - **인도적 지원 확대**: 인도적 지원을 중심으로 한 제재 완화가 이루어질 예정입니다. 이는 북한 주민의 생활 여건을 개선하는 데 중점을 둡니다.\n",
      "\n",
      "3. **동맹국과의 협력 강화**\n",
      "    - **한미일 공조 강화**: 미국은 한국 및 일본과의 협력을 더욱 강화하여 대북정책의 일관성을 유지하고 있습니다.\n",
      "    - **국제사회와의 협력**: 유엔을 비롯한 국제기구와의 공조를 통해 대북정책을 다변화하고 있습니다.\n",
      "\n",
      "#### 3. 영향 및 시사점\n",
      "\n",
      "1. **한반도 정세 안정화**\n",
      "    - 미국의 유연한 접근은 한반도 정세의 안정화에 긍정적인 영향을 미칠 것으로 예상됩니다.\n",
      "    - 남북 대화의 재개 가능성이 높아질 수 있습니다.\n",
      "\n",
      "2. **경제적 이익 증대**\n",
      "    - 제재 완화 및 경제적 지원은 북한 경제의 회복에 기여할 수 있습니다.\n",
      "    - 이는 장기적으로 한반도 전체의 경제적 이익으로 이어질 수 있습니다.\n",
      "\n",
      "3. **국제 관계 변화**\n",
      "    - 미국의 대북정책 변화는 중국 및 러시아와의 관계에도 영향을 미칠 수 있습니다.\n",
      "    - 일본과의 협력이 강화됨에 따라 동북아시아 지역의 안보 협력 구조가 재편될 가능성이 있습니다.\n",
      "\n",
      "#### 4. 결론\n",
      "최근 미국의 대북정책 변화는 한반도 및 국제사회에 여러 가지 영향을 미치고 있습니다. 이를 통해 한반도 평화와 안정, 경제적 번영을 추구하는 노력이 계속될 것입니다. 앞으로도 이러한 정책 변화에 주목하며, 적절한 대응 방안을 마련해야 할 것입니다.\n",
      "\n",
      "---\n",
      "\n",
      "**보고자:** 김철수  \n",
      "**일시:** 2024-07-01 10:00\n"
     ]
    }
   ],
   "source": [
    "# Create a ChatOpenAI model\n",
    "model = ChatOpenAI(model=\"gpt-4o\",)\n",
    "weekly_report = model.invoke(prompt)\n",
    "print(weekly_report.content)"
   ]
  },
  {
   "cell_type": "code",
   "execution_count": 7,
   "metadata": {},
   "outputs": [],
   "source": [
    "from datetime import datetime\n",
    "\n",
    "# 현재 날짜와 시간 가져오기\n",
    "current_datetime = datetime.now()\n",
    "\n",
    "# 날짜만 yyyy-mm-dd 형식으로 포맷팅\n",
    "formatted_date = current_datetime.strftime(\"%Y-%m-%d\")\n",
    "\n",
    "# 시간만 hh:mm 형식으로 포맷팅\n",
    "formatted_time = current_datetime.strftime(\"%H:%M\")"
   ]
  },
  {
   "cell_type": "code",
   "execution_count": 8,
   "metadata": {},
   "outputs": [
    {
     "name": "stdout",
     "output_type": "stream",
     "text": [
      "-----Prompt from Template-----\n",
      "**주간보고서**\n",
      "\n",
      "- **일시**: 2024-07-10 16:51\n",
      "- **보고자**: 김철수\n",
      "- **보고대상**: 이영희\n",
      "\n",
      "---\n",
      "\n",
      "**보고내용: 최근 미국의 대북정책변화**\n",
      "\n",
      "1. **정책 배경**\n",
      "   - 최근 미국 정부는 북한의 핵 및 미사일 프로그램에 대한 우려가 커짐에 따라 대북정책에 변화를 주고 있습니다.\n",
      "   - 이전의 '최대 압박과 관여' 전략에서 벗어나 더 강경한 제재와 외교적 고립을 강화하는 방향으로 선회하고 있습니다.\n",
      "\n",
      "2. **주요 변화**\n",
      "   - **제재 강화**: 미국은 북한과 거래하는 제3국의 기업 및 개인에 대한 제재를 강화하고 있습니다. 특히, 북한과의 금융 거래와 관련된 제재가 대폭 강화되었습니다.\n",
      "   - **군사적 압박**: 한반도 주변에 대한 군사적 압박이 증가하고 있습니다. 미군의 한반도 주변 해역에서의 군사 훈련이 빈번해지고 있으며, 한미 연합훈련의 규모와 빈도도 증가하고 있습니다.\n",
      "   - **외교적 고립**: 미국은 동맹국 및 국제사회를 대상으로 북한과의 외교적 관계를 축소하고, 북한의 인권 문제를 국제 무대에서 적극 제기하고 있습니다.\n",
      "\n",
      "3. **국내외 반응**\n",
      "   - **한국**: 한국 정부는 미국의 대북정책 변화에 대해 신중한 입장을 취하고 있으며, 남북 대화의 중요성을 강조하고 있습니다. 그러나 대북 제재와 관련하여 미국과의 협력은 지속되고 있습니다.\n",
      "   - **중국**: 중국은 미국의 대북 제재 강화에 대해 반대 입장을 표명하고 있으며, 한반도의 평화와 안정이 중요하다는 입장을 견지하고 있습니다. 중국은 대화를 통한 문제 해결을 주장하고 있습니다.\n",
      "   - **국제사회**: 국제사회는 미국의 대북정책 변화에 대해 다양한 반응을 보이고 있습니다. 유럽연합은 북한의 비핵화를 지지하며 제재 강화에 동참하고 있지만, 일부 국가는 인도적 지원의 필요성을 강조하고 있습니다.\n",
      "\n",
      "4. **전망**\n",
      "   - 미국의 대북정책 변화가 한반도 정세에 큰 영향을 미칠 것으로 예상됩니다. 제재 강화와 군사적 압박이 북한의 반발을 초래할 가능성이 있으며, 이에 따른 긴장 고조가 우려됩니다.\n",
      "   - 향후 한반도 정세가 어떻게 전개될지 주의 깊게 지켜봐야 하며, 한국 정부는 남북 대화와 국제 협력을 통해 평화적 해결 방안을 모색해야 할 것입니다.\n",
      "\n",
      "---\n",
      "\n",
      "**추가 보고사항**\n",
      "- 해당 사항 없음\n",
      "\n",
      "---\n",
      "\n",
      "**김철수**\n"
     ]
    }
   ],
   "source": [
    "print(\"-----Prompt from Template-----\")\n",
    "prompt = prompt_template.invoke({\n",
    "    \"report\": \"주간보고서\",\n",
    "    \"date\": formatted_date,\n",
    "    \"time\": formatted_time,\n",
    "    \"reporter\": \"김철수\",\n",
    "    \"target\": \"이영희\",\n",
    "    \"content\": \"최근 미국의 대북정책변화\"\n",
    "})\n",
    "\n",
    "model = ChatOpenAI(model=\"gpt-4o\",)\n",
    "weekly_report = model.invoke(prompt)\n",
    "print(weekly_report.content)"
   ]
  },
  {
   "cell_type": "code",
   "execution_count": null,
   "metadata": {},
   "outputs": [],
   "source": []
  }
 ],
 "metadata": {
  "kernelspec": {
   "display_name": "base",
   "language": "python",
   "name": "python3"
  },
  "language_info": {
   "codemirror_mode": {
    "name": "ipython",
    "version": 3
   },
   "file_extension": ".py",
   "mimetype": "text/x-python",
   "name": "python",
   "nbconvert_exporter": "python",
   "pygments_lexer": "ipython3",
   "version": "3.11.9"
  }
 },
 "nbformat": 4,
 "nbformat_minor": 2
}
