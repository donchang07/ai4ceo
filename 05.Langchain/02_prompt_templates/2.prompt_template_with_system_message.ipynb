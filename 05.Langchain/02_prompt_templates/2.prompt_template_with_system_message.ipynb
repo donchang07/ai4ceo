{
 "cells": [
  {
   "cell_type": "markdown",
   "metadata": {},
   "source": [
    "# 프롬프트 템플릿을 사용해서 내가 원하는 형태로 다듬기\n",
    "- system message를 사용해서 내가 원하는 문서서술 형태 같은 것을 정할 수 있음\n",
    "- 관공서에서 사용하는 개조식과 같은 형태로도 주문할 수 있음."
   ]
  },
  {
   "cell_type": "code",
   "execution_count": 2,
   "metadata": {},
   "outputs": [],
   "source": [
    "from dotenv import load_dotenv\n",
    "from langchain.prompts import ChatPromptTemplate\n",
    "from langchain_openai import ChatOpenAI\n",
    "\n",
    "# Load environment variables from .env\n",
    "load_dotenv()\n",
    "\n",
    "# Create a ChatOpenAI model\n",
    "model = ChatOpenAI(model=\"gpt-4o\")"
   ]
  },
  {
   "cell_type": "code",
   "execution_count": 3,
   "metadata": {},
   "outputs": [
    {
     "name": "stdout",
     "output_type": "stream",
     "text": [
      "\n",
      "----- Prompt with System and Human Messages (Tuple) -----\n",
      "\n",
      "input_variables=['content', 'date', 'report', 'reporter', 'target', 'time'] messages=[SystemMessagePromptTemplate(prompt=PromptTemplate(input_variables=[], template='\\n     너는 지금부터 최고의 국세정세분석관이야. 다음 보고서를 작성하는데, 보고내용에는\\n     너의 이름이나, 안녕하십닊까? 같은 인사말은 넣지 않아야해. \\n     보고서는 간단명료하고, 전문적인 용어를 사용해야해. \\n     보고서의 말투는 개조식으로서, 공문서내용과 같아야해.\\n     예를 들면, 북한의 러시아와 군사협력이 점점 강해지고 있다. \\n     --> 북한과 러시아의 군사협력이 강화되고 있음.\\n     이런 식의 보고서를 작성해줘.\\n     ')), HumanMessagePromptTemplate(prompt=PromptTemplate(input_variables=['content', 'date', 'report', 'reporter', 'target', 'time'], template='\\n        문서명: {report}\\n        일시: {date} {time}\\n        보고자: {reporter}\\n        보고대상: {target}\\n        보고내용: {content}\\n     '))]\n"
     ]
    }
   ],
   "source": [
    "print(\"\\n----- Prompt with System and Human Messages (Tuple) -----\\n\")\n",
    "template = [\n",
    "    (\"system\", \"\"\"\n",
    "     너는 지금부터 최고의 국세정세분석관이야. 다음 보고서를 작성하는데, 보고내용에는\n",
    "     너의 이름이나, 안녕하십닊까? 같은 인사말은 넣지 않아야해. \n",
    "     보고서는 간단명료하고, 전문적인 용어를 사용해야해. \n",
    "     보고서의 말투는 개조식으로서, 공문서내용과 같아야해.\n",
    "     예를 들면, 북한의 러시아와 군사협력이 점점 강해지고 있다. \n",
    "     --> 북한과 러시아의 군사협력이 강화되고 있음.\n",
    "     이런 식의 보고서를 작성해줘.\n",
    "     \"\"\"),\n",
    "     \n",
    "    (\"human\", \"\"\"\n",
    "        문서명: {report}\n",
    "        일시: {date} {time}\n",
    "        보고자: {reporter}\n",
    "        보고대상: {target}\n",
    "        보고내용: {content}\n",
    "     \"\"\"),\n",
    "]\n",
    "prompt_template = ChatPromptTemplate.from_messages(template)\n",
    "print(prompt_template)\n"
   ]
  },
  {
   "cell_type": "code",
   "execution_count": 4,
   "metadata": {},
   "outputs": [],
   "source": [
    "from datetime import datetime\n",
    "\n",
    "# 현재 날짜와 시간 가져오기\n",
    "current_datetime = datetime.now()\n",
    "\n",
    "# 날짜만 yyyy-mm-dd 형식으로 포맷팅\n",
    "formatted_date = current_datetime.strftime(\"%Y-%m-%d\")\n",
    "\n",
    "# 시간만 hh:mm 형식으로 포맷팅\n",
    "formatted_time = current_datetime.strftime(\"%H:%M\")"
   ]
  },
  {
   "cell_type": "code",
   "execution_count": 5,
   "metadata": {},
   "outputs": [
    {
     "name": "stdout",
     "output_type": "stream",
     "text": [
      "문서명: 주간보고서\n",
      "일시: 2024-07-10 17:06\n",
      "보고자: 김철수\n",
      "보고대상: 이영희\n",
      "\n",
      "보고내용: 최근 미국의 대북정책 변화\n",
      "\n",
      "1. 주요 변화사항\n",
      "   - 미국의 대북정책 기조 변화 감지\n",
      "   - 기존의 강경 대응에서 대화와 협상으로 기조 전환\n",
      "   - 인도적 지원 확대 가능성 시사\n",
      "\n",
      "2. 대북제재 완화 가능성\n",
      "   - 경제 제재 일부 완화 검토 중\n",
      "   - 북한의 비핵화 조치에 따른 단계적 제재 완화 계획 논의\n",
      "\n",
      "3. 외교적 접근 강화\n",
      "   - 미국-북한 간 직접 대화 채널 복원\n",
      "   - 다자간 협상 테이블 마련 추진\n",
      "   - 동맹국들과의 협력 강화\n",
      "\n",
      "4. 북한의 대응\n",
      "   - 미국의 대화 제안에 긍정적 반응\n",
      "   - 비핵화 협상 재개 의지 표명\n",
      "   - 국제사회와의 협력 의지 강화\n",
      "\n",
      "5. 전망 및 시사점\n",
      "   - 북미 관계 개선 가능성 증대\n",
      "   - 한반도 평화 프로세스 재개 기대\n",
      "   - 지역 안보 및 경제적 안정에 긍정적 영향 예상\n",
      "\n",
      "결론: 미국의 대북정책 변화는 한반도 정세에 중요한 전환점을 제공하며, 이에 따른 북한의 대응과 국제사회의 협력이 긴밀히 이루어질 필요가 있음.\n"
     ]
    }
   ],
   "source": [
    "\n",
    "prompt = prompt_template.invoke({\n",
    "    \"report\": \"주간보고서\",\n",
    "    \"date\": formatted_date,\n",
    "    \"time\": formatted_time,\n",
    "    \"reporter\": \"김철수\",\n",
    "    \"target\": \"이영희\",\n",
    "    \"content\": \"최근 미국의 대북정책변화\"\n",
    "})\n",
    "\n",
    "\n",
    "weekly_report = model.invoke(prompt)\n",
    "print(weekly_report.content)"
   ]
  },
  {
   "cell_type": "code",
   "execution_count": null,
   "metadata": {},
   "outputs": [],
   "source": []
  }
 ],
 "metadata": {
  "kernelspec": {
   "display_name": "base",
   "language": "python",
   "name": "python3"
  },
  "language_info": {
   "codemirror_mode": {
    "name": "ipython",
    "version": 3
   },
   "file_extension": ".py",
   "mimetype": "text/x-python",
   "name": "python",
   "nbconvert_exporter": "python",
   "pygments_lexer": "ipython3",
   "version": "3.11.9"
  }
 },
 "nbformat": 4,
 "nbformat_minor": 2
}
