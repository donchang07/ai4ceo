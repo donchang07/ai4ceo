{
 "cells": [
  {
   "cell_type": "code",
   "execution_count": null,
   "metadata": {},
   "outputs": [],
   "source": [
    "# 토큰 정보로드를 위한 라이브러리\n",
    "# 설치: pip install python-dotenv\n",
    "from dotenv import load_dotenv\n",
    "\n",
    "# 토큰 정보로드\n",
    "load_dotenv()"
   ]
  },
  {
   "cell_type": "markdown",
   "metadata": {},
   "source": [
    "## 🌱 DALL-E\n",
    "\n",
    "- 웹사이트: [DALL-E](https://labs.openai.com/)\n",
    "- 웹사이트에서 이미지를 업로드 하거나, 이미지를 생성하는 기능 구현이 잘 되어 있습니다.\n",
    "- in-painting, out-painting 도구도 함께 제공합니다.\n"
   ]
  },
  {
   "cell_type": "markdown",
   "metadata": {},
   "source": [
    "## Client 생성\n",
    "\n",
    "- `client` 는 OpenAI 모듈로 생성된 인스턴스 입니다.\n",
    "\n",
    "[주의] 아래의 코드에서 오류가 난다면 API 키의 오류일 가능성이 높습니다.\n"
   ]
  },
  {
   "cell_type": "markdown",
   "metadata": {},
   "source": [
    "설치된 openai 버전 확인\n"
   ]
  },
  {
   "cell_type": "code",
   "execution_count": null,
   "metadata": {},
   "outputs": [],
   "source": [
    "import openai\n",
    "\n",
    "print(f\"설치된 버전: {openai.__version__}\")"
   ]
  },
  {
   "cell_type": "code",
   "execution_count": null,
   "metadata": {},
   "outputs": [],
   "source": [
    "from openai import OpenAI\n",
    "\n",
    "client = OpenAI()"
   ]
  },
  {
   "cell_type": "markdown",
   "metadata": {},
   "source": [
    "## 1. 이미지 생성(image.generate)\n",
    "\n",
    "- Reference: https://platform.openai.com/docs/guides/images/introduction?context=node\n",
    "- `model`\n",
    "  - 생성: 사용 가능한 모델은 `dall-e-3` 및 `dall-e-2`\n",
    "  - 편집(edit): `dall-e-2`\n",
    "  - 기준 이미지에 대한 다양화(variation): `dall-e-2`\n",
    "\n",
    "**이미지 크기**\n",
    "\n",
    "- `dall-e-2`\n",
    "  - `256x256`, `512x512`, `1024x1024`\n",
    "- `dall-e-3`\n",
    "  - `1024x1024`, `1792x1024`, `1024x1792`\n",
    "\n",
    "기본적으로 이미지는 표준 화질로 생성되지만, DALL-E 3을 사용할 때는 화질을 설정할 수 있습니다. \"HD\"로 설정하면 디테일이 향상됩니다. 정사각형의 표준 화질 이미지가 가장 빠르게 생성됩니다.\n",
    "\n",
    "**사진요청 개수**\n",
    "\n",
    "- DALL-E 3을 사용하면 **한 번에 1개의 이미지를 요청** 할 수 있고(병렬 요청을 통해 더 많은 이미지를 요청할 수 있음)\n",
    "- DALL-E 2를 사용하면 n 매개변수와 함께 **한 번에 최대 10개의 이미지를 요청** 할 수 있습니다.\n"
   ]
  },
  {
   "cell_type": "markdown",
   "metadata": {},
   "source": [
    "- 이미지 프롬프트는 이제현 님이 가장 많이 쓴 것 같습니다. 작가상도 받았어요. \n",
    "- 참고: https://jehyunlee.github.io/2024/03/20/General-46-dalle3styles3/\n",
    "- 참고: https://news.kbs.co.kr/news/pc/view/view.do?ncd=7961598\n"
   ]
  },
  {
   "cell_type": "code",
   "execution_count": null,
   "metadata": {},
   "outputs": [],
   "source": [
    "korean_prompt = \"한여름 바닷가 카페의 장면입니다. 한 사람이 책상 없이 리랙스한 소파에 앉아 아이스 아메리카노를 마시며 시원한 바다 경치를 즐기고 있습니다. 카페 내부는 아늑하고 스타일리시하며, 현대적인 디자인을 가지고 있습니다. 큰 유리창이 장면을 지배하며, 맑은 파란 하늘과 넓은 바다, 잔잔한 파도가 보입니다. 초점은 아름다운 바다 경치에 맞춰져 있습니다. 그 사람은 시원한 음료를 음미하며 편안하고 만족스러운 모습입니다.\"\n",
    "image_prompt = \"A scene at a seaside cafe in midsummer. A person is sitting on a relaxed sofa without a desk, enjoying a refreshing view of the sea while drinking an iced Americano. The cafe interior is cozy and stylish, with a modern design. The large window dominates the scene, showing a clear blue sky and expansive sea with gentle waves. The focus is on the beautiful ocean view. The person is relaxed and content, savoring the cool drink\""
   ]
  },
  {
   "cell_type": "code",
   "execution_count": null,
   "metadata": {},
   "outputs": [],
   "source": [
    "# DALL-E 3 모델을 사용하여 이미지를 생성합니다.\n",
    "response = client.images.generate(\n",
    "    model=\"dall-e-3\",\n",
    "    prompt=image_prompt,\n",
    "    size=\"1024x1024\",\n",
    "    quality=\"standard\",\n",
    "    n=1,\n",
    ")\n",
    "\n",
    "# 생성된 이미지의 URL을 저장합니다.\n",
    "image_url = response.data[0].url"
   ]
  },
  {
   "cell_type": "markdown",
   "metadata": {},
   "source": [
    "다운로드 받을 수 있는 이미지의 URL을 출력합니다.\n"
   ]
  },
  {
   "cell_type": "code",
   "execution_count": null,
   "metadata": {},
   "outputs": [],
   "source": [
    "# 생성된 이미지의 URL을 출력합니다.\n",
    "print(image_url)"
   ]
  },
  {
   "cell_type": "markdown",
   "metadata": {},
   "source": [
    "Jupyter Notebook 에서 출력하기 위하여 Image 를 사용합니다.\n"
   ]
  },
  {
   "cell_type": "code",
   "execution_count": null,
   "metadata": {},
   "outputs": [],
   "source": [
    "from IPython.display import Image\n",
    "\n",
    "# 생성된 이미지를 출력합니다.\n",
    "Image(url=image_url, width=500)"
   ]
  },
  {
   "cell_type": "markdown",
   "metadata": {},
   "source": [
    "`urllib` 라이브러리를 사용하여 이미지를 다운로드합니다.\n"
   ]
  },
  {
   "cell_type": "code",
   "execution_count": null,
   "metadata": {},
   "outputs": [],
   "source": [
    "import urllib\n",
    "\n",
    "# 생성된 이미지를 URL로부터 다운로드하여 저장합니다.\n",
    "urllib.request.urlretrieve(image_url, \"generated_image.jpg\")"
   ]
  },
  {
   "cell_type": "markdown",
   "metadata": {},
   "source": [
    "## 2. 이미지 수정(image.edit)\n",
    "\n",
    "- 도큐먼트: https://platform.openai.com/docs/api-reference/images/createEdit\n",
    "\n",
    "**주요 파라미터**\n",
    "\n",
    "- `mask`:\n",
    "  - 마스킹 영역은 완전히 투명한 영역(예: 알파가 0인 곳)이 이미지를 편집할 위치를 나타내는 추가 이미지입니다.\n",
    "  - 4MB 미만의 유효한 PNG 파일이어야 하며 이미지와 크기가 같아야 합니다.\n",
    "  - 마스킹한 영역에 대하여 다양한 버전의 이미지를 생성합니다.\n",
    "- `model`: 이미지 생성에 사용할 모델입니다. 현재 `dall-e-2` 만 지원됩니다.\n",
    "- `n`: 생성할 이미지의 개수입니다.\n",
    "- `size`: `256x256`, `512x512`, or `1024x1024`. 기본값은 `1024x1024` 입니다.\n"
   ]
  },
  {
   "cell_type": "code",
   "execution_count": null,
   "metadata": {},
   "outputs": [],
   "source": [
    "from openai import OpenAI\n",
    "from PIL import Image\n",
    "import matplotlib.pyplot as plt\n",
    "import requests\n",
    "from io import BytesIO\n",
    "\n",
    "def display_images(original_path, mask_path):\n",
    "    # OpenAI 클라이언트 초기화\n",
    "    client = OpenAI()\n",
    "\n",
    "    # 원본 이미지와 마스크 이미지 열기\n",
    "    original_img = Image.open(original_path)\n",
    "    mask_img = Image.open(mask_path)\n",
    "\n",
    "    # DALL-E 2 API를 사용하여 이미지 편집\n",
    "    \n",
    "    response = client.images.edit(\n",
    "        model=\"dall-e-2\",\n",
    "        image=open(original_path, \"rb\"),\n",
    "        mask=open(mask_path, \"rb\"),\n",
    "        prompt=\"Teletubbies doll for the masked section.\",\n",
    "        n=1,\n",
    "        size=\"1024x1024\",\n",
    "    )\n",
    "    edited_url = response.data[0].url\n",
    "\n",
    "    # 편집된 이미지 다운로드\n",
    "    response = requests.get(edited_url)\n",
    "    edited_img = Image.open(BytesIO(response.content))\n",
    "\n",
    "    # 이미지 표시\n",
    "    fig, axs = plt.subplots(1, 3, figsize=(15, 5))\n",
    "    \n",
    "    axs[0].imshow(original_img)\n",
    "    axs[0].set_title('Original Image')\n",
    "    axs[0].axis('off')\n",
    "    \n",
    "    axs[1].imshow(mask_img)\n",
    "    axs[1].set_title('Mask Image')\n",
    "    axs[1].axis('off')\n",
    "    \n",
    "    axs[2].imshow(edited_img)\n",
    "    axs[2].set_title('Edited Image')\n",
    "    axs[2].axis('off')\n",
    "    \n",
    "    plt.tight_layout()\n",
    "    plt.show()\n",
    "\n",
    "\n",
    "# 사용 예시\n",
    "original_path = \"data/sample.png\"\n",
    "mask_path = \"data/sample-mask.png\"\n",
    "\n",
    "display_images(original_path, mask_path)"
   ]
  },
  {
   "cell_type": "markdown",
   "metadata": {},
   "source": [
    "## 3. 이미지 변형(image.create_variation)\n",
    "\n",
    "주어진 이미지의 변형을 생성합니다.\n",
    "\n",
    "- 도큐먼트: https://platform.openai.com/docs/api-reference/images/createVariation\n",
    "\n",
    "주요 파라미터\n",
    "\n",
    "- `image`: 변형의 기준으로 사용할 이미지입니다. 4MB 미만의 유효한 `PNG` 파일이어야 하며 `정사각형` 이어야 합니다.\n",
    "- `model`: 이미지 생성에 사용할 모델입니다. 현재 `dall-e-2` 만 지원됩니다.\n",
    "- `n`: 생성할 이미지의 개수입니다.\n",
    "- `size`: `256x256`, `512x512`, or `1024x1024`. 기본값은 `1024x1024` 입니다.\n"
   ]
  },
  {
   "cell_type": "code",
   "execution_count": null,
   "metadata": {},
   "outputs": [],
   "source": [
    "def image_variation(original_path):\n",
    "    # OpenAI 클라이언트 초기화\n",
    "    client = OpenAI()\n",
    "\n",
    "    # 변형 횟수와 이미지 크기 설정\n",
    "    number_of_variations = 2\n",
    "    image_size = \"512x512\"\n",
    "\n",
    "    # 원본 이미지 열기\n",
    "    original_img = Image.open(original_path)\n",
    "\n",
    "    # DALL-E 2 API를 사용하여 이미지 변형 생성\n",
    "    response = client.images.create_variation(\n",
    "        image=open(original_path, \"rb\"),\n",
    "        n=number_of_variations,\n",
    "        size=image_size,\n",
    "    )\n",
    "\n",
    "    # 변형된 이미지 URL 가져오기\n",
    "    variation_urls = [data.url for data in response.data]\n",
    "\n",
    "    # 이미지 표시를 위한 준비\n",
    "    fig, axs = plt.subplots(1, number_of_variations + 1, figsize=(15, 5))\n",
    "\n",
    "    # 원본 이미지 표시\n",
    "    axs[0].imshow(original_img)\n",
    "    axs[0].set_title('Original Image')\n",
    "    axs[0].axis('off')\n",
    "\n",
    "    # 변형된 이미지들 표시\n",
    "    for i, url in enumerate(variation_urls, start=1):\n",
    "        response = requests.get(url)\n",
    "        img = Image.open(BytesIO(response.content))\n",
    "        axs[i].imshow(img)\n",
    "        axs[i].set_title(f'Variation {i}')\n",
    "        axs[i].axis('off')\n",
    "\n",
    "    plt.tight_layout()\n",
    "    plt.show()\n",
    "\n",
    "# 사용 예시\n",
    "original_path = \"data/doll.png\"\n",
    "image_variation(original_path)"
   ]
  },
  {
   "cell_type": "code",
   "execution_count": null,
   "metadata": {},
   "outputs": [],
   "source": []
  }
 ],
 "metadata": {
  "kernelspec": {
   "display_name": "base",
   "language": "python",
   "name": "python3"
  },
  "language_info": {
   "codemirror_mode": {
    "name": "ipython",
    "version": 3
   },
   "file_extension": ".py",
   "mimetype": "text/x-python",
   "name": "python",
   "nbconvert_exporter": "python",
   "pygments_lexer": "ipython3",
   "version": "3.11.9"
  }
 },
 "nbformat": 4,
 "nbformat_minor": 2
}
