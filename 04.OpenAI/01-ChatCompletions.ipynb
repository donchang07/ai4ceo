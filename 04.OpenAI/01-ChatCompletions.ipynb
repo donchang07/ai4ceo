{
 "cells": [
  {
   "cell_type": "markdown",
   "metadata": {},
   "source": [
    "## OpenAI 의 chat.completions.create \n",
    "- chat.completions.create 는 단순하게 메시지를 받아서 답변을 주는 것 보다 훨씬 더 많은 것을 할 수 있음.\n",
    "- API Reference: https://platform.openai.com/docs/api-reference/chat\n"
   ]
  },
  {
   "cell_type": "code",
   "execution_count": 1,
   "metadata": {},
   "outputs": [
    {
     "data": {
      "text/plain": [
       "True"
      ]
     },
     "execution_count": 1,
     "metadata": {},
     "output_type": "execute_result"
    }
   ],
   "source": [
    "# 토큰 정보로드를 위한 라이브러리\n",
    "# 설치: pip install python-dotenv\n",
    "from dotenv import load_dotenv\n",
    "load_dotenv()"
   ]
  },
  {
   "cell_type": "code",
   "execution_count": 2,
   "metadata": {},
   "outputs": [
    {
     "data": {
      "text/plain": [
       "'1.45.0'"
      ]
     },
     "execution_count": 2,
     "metadata": {},
     "output_type": "execute_result"
    }
   ],
   "source": [
    "import openai\n",
    "\n",
    "openai.__version__"
   ]
  },
  {
   "cell_type": "markdown",
   "metadata": {},
   "source": [
    "## Client 생성\n",
    "\n",
    "- `client` 는 OpenAI 모듈로 생성된 인스턴스 입니다.\n"
   ]
  },
  {
   "cell_type": "code",
   "execution_count": 3,
   "metadata": {},
   "outputs": [],
   "source": [
    "from openai import OpenAI\n",
    "\n",
    "client = OpenAI()"
   ]
  },
  {
   "cell_type": "markdown",
   "metadata": {},
   "source": [
    "## chat.completions.create \n",
    "\n",
    "\n",
    "\n",
    "**주요 파라미터**\n",
    "\n",
    "- `messages`: 지금까지의 대화를 구성하는 메시지 목록입니다.(mandatory)\n",
    "- `model`: 모델id. \"gpt-4o\", \"gpt-4-turbo\", gpt-3.5-turbo\" (mandatory)\n",
    "- `frequency_penalty`: -2.0에서 2.0 사이의 숫자. 양수 값은 지금까지 텍스트에 나타난 기존 빈도에 따라 새로운 토큰에 불이익을 주어 모델이 같은 줄을 그대로 반복할 가능성을 낮춥니다.\n",
    "- `max_tokens`: 생성할 수 있는 최대 토큰 수입니다. 입력 토큰과 생성된 토큰의 총 길이는 모델의 컨텍스트 길이에 의해 제한됩니다.\n",
    "- `n`: 각 입력 메시지에 대해 생성할 선택지(choices) 수입니다. [주의] 모든 선택 항목에서 생성된 토큰 수에 따라 요금이 부과된다는 점에 유의하세요. 비용을 최소화하려면 n을 1로 유지하세요.\n",
    "- `presence_penalty`: -2.0에서 2.0 사이의 숫자. 값이 양수이면 지금까지 텍스트에 등장한 토큰에 따라 새로운 토큰에 불이익을 주므로 모델이 새로운 주제에 대해 이야기할 가능성이 높아집니다.\n",
    "- `response_format`: 모델이 출력해야 하는 형식을 지정하는 객체입니다.  `{ \"type\": \"json_object\" }` 로 설정하면 JSON 모드가 활성화되어 json 형태로 답변. 답변이 json 형태로 되면, pandas, excel, csv 파일형태로 쉽게 변형 가능해서, 추후에 유용하게 사용될 수 있음. \n",
    "- `seed`: 이 기능을 지정하면 시스템이 결정론적으로 샘플링하여 동일한 시드와 매개변수를 사용한 반복 요청이 동일한 결과를 반환하도록 최선을 다할 것입니다. 결정론은 보장되지 않으며, `system_fingerprint` 응답 매개변수를 참조하여 백엔드의 변경 사항을 모니터링해야 합니다.\n",
    "- `temperature`: 0에서 1 사이에서 사용할 샘플링 온도입니다. 0.8과 같이 값이 높으면 출력이 더 무작위적이고, 0.2와 같이 값이 낮으면 더 집중적이고 결정론적인 출력이 됩니다. 일반적으로 이 값이나 `top_p` 중 하나만 변경하는 것이 좋지만 둘 다 변경하지는 않는 것이 좋습니다.\n",
    "- `top_p`: `temperature` 를 이용한 샘플링의 대안으로, 핵 샘플링이라고 하며, 모델이 `top_p` 확률을 가진 토큰의 결과를 고려하는 방식입니다. 따라서 0.1은 상위 10% 확률을 구성하는 토큰만 고려한다는 의미입니다. 일반적으로 이 값이나 `temperature` 중 하나를 변경하는 것이 좋지만 둘 다 변경하는 것은 권장하지 않습니다.\n"
   ]
  },
  {
   "cell_type": "code",
   "execution_count": 4,
   "metadata": {},
   "outputs": [],
   "source": [
    "# chat.completions.create의 단순 챗봇 모드 \n",
    "\n",
    "def ask(question, content_only=True):\n",
    "    completion = client.chat.completions.create(\n",
    "        model=\"gpt-3.5-turbo\",\n",
    "        messages=[\n",
    "            {\n",
    "                \"role\": \"system\",\n",
    "                \"content\": \"당신은 친절한 AI Assistance 입니다.\",\n",
    "            },\n",
    "            {\n",
    "                \"role\": \"user\",\n",
    "                \"content\": question,\n",
    "            },\n",
    "        ],\n",
    "        temperature=0.5,\n",
    "    )\n",
    "    # return completion.choices[0].message.content\n",
    "    if content_only:\n",
    "        return completion.choices[0].message.content\n",
    "    else:\n",
    "        return completion"
   ]
  },
  {
   "cell_type": "markdown",
   "metadata": {},
   "source": [
    "## chat.completions.create 단순 챗봇 모드의 response format\n",
    "- response는 json format\n",
    "\n",
    "```json\n",
    "{\n",
    "  \"id\": \"chatcmpl-123\",\n",
    "  \"object\": \"chat.completion\",\n",
    "  \"created\": 1677652288,\n",
    "  \"model\": \"gpt-3.5-turbo-0125\",\n",
    "  \"system_fingerprint\": \"fp_44709d6fcb\",\n",
    "  \"choices\": [{\n",
    "    \"index\": 0,\n",
    "    \"message\": {\n",
    "      \"role\": \"assistant\",\n",
    "      \"content\": \"\\n\\nHello there, how may I assist you today?\",\n",
    "    },\n",
    "    \"logprobs\": null,\n",
    "    \"finish_reason\": \"stop\"\n",
    "  }],\n",
    "  \"usage\": {\n",
    "    \"prompt_tokens\": 9,\n",
    "    \"completion_tokens\": 12,\n",
    "    \"total_tokens\": 21\n",
    "  }\n",
    "}\n",
    "```"
   ]
  },
  {
   "cell_type": "code",
   "execution_count": 5,
   "metadata": {},
   "outputs": [
    {
     "name": "stdout",
     "output_type": "stream",
     "text": [
      "ChatCompletion(id='chatcmpl-A702w9B9AKuyeFakPUp1F68fKgQiD', choices=[Choice(finish_reason='stop', index=0, logprobs=None, message=ChatCompletionMessage(content='한국은 동아시아에 위치한 대한민국과 조선민주주의인민공화국으로 구성된 나라입니다. 대한민국은 수도가 서울에 위치하고, 조선민주주의인민공화국은 수도가 평양에 위치합니다. 한반도에 위치한 한국은 아름다운 자연 경관, 다양한 문화 유산, 맛있는 음식 등으로 유명합니다. 또한 한국은 K-pop, K-drama, 한류 등으로도 세계적으로 유명한 나라입니다.', refusal=None, role='assistant', function_call=None, tool_calls=None))], created=1726231838, model='gpt-3.5-turbo-0125', object='chat.completion', service_tier=None, system_fingerprint=None, usage=CompletionUsage(completion_tokens=168, prompt_tokens=39, total_tokens=207, completion_tokens_details=CompletionTokensDetails(reasoning_tokens=0)))\n"
     ]
    }
   ],
   "source": [
    "# chat.completions.create의 대화형 챗봇 모드의 결과를 모두 출력\n",
    "completion = ask(\"한국은 어떤 나라인가요?\", False)\n",
    "print(completion)"
   ]
  },
  {
   "cell_type": "code",
   "execution_count": 6,
   "metadata": {},
   "outputs": [
    {
     "name": "stdout",
     "output_type": "stream",
     "text": [
      "한국의 수도는 서울입니다.\n",
      "한국의 2021년 인구는 약 5,174만 명이며, 2020년 기준으로 한국의 GNP(Gross National Product)는 약 1조 6,000억 달러입니다. 다만, 이는 변동이 있을 수 있으므로 최신 데이터를 확인하는 것이 좋습니다.\n",
      "한국경제의 미래에 대해 정확하게 예측하는 것은 어렵지만 몇 가지 전망을 제시해 드릴 수 있습니다.\n",
      "\n",
      "1. 기술 혁신과 디지털 경제의 성장: 한국은 이미 선진국들과 경쟁하고 있는 기술 혁신과 디지털 경제 분야에서 높은 경쟁력을 갖고 있습니다. 미래에는 인공지능, 빅데이터, 사물인터넷 등의 기술을 더욱 발전시켜 경제 성장을 이끌 것으로 예상됩니다.\n",
      "\n",
      "2. 그린 에너지 및 친환경 산업의 성장: 환경 문제에 대한 인식이 높아지면서 그린 에너지 및 친환경 산업이 더욱 중요해지고 있습니다. 한국도 이러한 분야에 대한 투자와 연구개발을 강화하여 친환경 경제로의 전환을 이룰 것으로 전망됩니다.\n",
      "\n",
      "3. 노인 인구 증가와 노동력 감소: 한국은 고령화가 빠르게 진행되고 있습니다. 이로 인해 노동력이 감소하고 생산성이 저하될 수 있으며, 사회복지 및 의료비 부담이 늘어날 수 있습니다. 이에 대한 대책 마련이 필요할 것으로 예상됩니다.\n",
      "\n",
      "4. 글로벌 무역 환경 변화: 세계 경제의 불확실성과 무역 보호주의 강화로 인해 한국의 수출에 영향을 미칠 수 있습니다. 한국은 다양한 시장에 대한 수출 다각화와 무역 환경 변화에 대응할 수 있는 유연성을 확보해야 할 것으로 보입니다.\n",
      "\n",
      "이러한 요인들을 고려하여 한국은 미래에도 지속적인 경제 발전을 위해 혁신과 변화에 대한 노력을 계속해야 할 것으로 생각됩니다.\n"
     ]
    }
   ],
   "source": [
    "print(ask(\"한국의 수도는 어디인가요\"))\n",
    "print(ask(\"한국의 인구와 GNP는 얼마인가요\"))\n",
    "print(ask(\"한국경제의 미래에 대해서 이야기해주세요?\"))"
   ]
  },
  {
   "cell_type": "markdown",
   "metadata": {},
   "source": [
    "## 스트리밍(Streaming) 모드\n",
    "\n",
    "<span style=\"color: red;\"> 이때, create() 함수내에 stream=True 옵션을 지정하면 됩니다.</span>\n",
    "\n",
    "- 토큰 단위로 실시간 출력을 위해서는 `completion` 을 순회하면서, `choices.delta.content` 를 출력해야 합니다.\n",
    "\n",
    "- streaming mode의 response 형태\n",
    "```json\n",
    "{\"id\":\"chatcmpl-123\",\"object\":\"chat.completion.chunk\",\"created\":1694268190,\"model\":\"gpt-3.5-turbo-0125\", \"system_fingerprint\": \"fp_44709d6fcb\", \n",
    "    \"choices\":[{\"index\":0,\"delta\":{\"role\":\"assistant\",\"content\":\"\"},\"logprobs\":null,\"finish_reason\":null}]}\n",
    "{\"id\":\"chatcmpl-123\",\"object\":\"chat.completion.chunk\",\"created\":1694268190,\"model\":\"gpt-3.5-turbo-0125\", \"system_fingerprint\": \"fp_44709d6fcb\", \n",
    "    \"choices\":[{\"index\":0,\"delta\":{\"content\":\"Hello\"},\"logprobs\":null,\"finish_reason\":null}]}\n",
    "....\n",
    "{\"id\":\"chatcmpl-123\",\"object\":\"chat.completion.chunk\",\"created\":1694268190,\"model\":\"gpt-3.5-turbo-0125\", \"system_fingerprint\": \"fp_44709d6fcb\", \n",
    "    \"choices\":[{\"index\":0,\"delta\":{},\"logprobs\":null,\"finish_reason\":\"stop\"}]}\n",
    "```\n"
   ]
  },
  {
   "cell_type": "code",
   "execution_count": 7,
   "metadata": {},
   "outputs": [],
   "source": [
    "# chat.completions.create의 streaming mode\n",
    "\n",
    "from openai import OpenAI\n",
    "def ask_stream(question):\n",
    "    client = OpenAI()\n",
    "    completion = client.chat.completions.create(\n",
    "        model=\"gpt-3.5-turbo\",\n",
    "        messages=[\n",
    "            {\n",
    "                \"role\": \"system\",\n",
    "                \"content\": \"당신은 친절한 AI Assistance 입니다.\",\n",
    "            },\n",
    "            {\n",
    "                \"role\": \"user\",\n",
    "                \"content\": question,\n",
    "            },\n",
    "        ],\n",
    "        stream=True,  # 스트림 모드 활성화\n",
    "    )\n",
    "    return completion"
   ]
  },
  {
   "cell_type": "code",
   "execution_count": 8,
   "metadata": {},
   "outputs": [
    {
     "name": "stdout",
     "output_type": "stream",
     "text": [
      "<openai.Stream object at 0x0000027717418590>\n",
      "-----------------\n",
      "### 정치의 미래\n",
      "한국의 정치의 미래는 다양한 변화와 도전을 겪을 것으로 예상됩니다. 젊은 세대의 정치 참여가 증가하고 있으며, 정보기술의 발전으로 인해 시민들이 더 쉽게 정치에 참여할 수 있는 환경이 조성될 것입니다. 또한 다양성과 포용을 중시하는 정치 문화가 더 확대될 가능성이 있습니다. 그러나 여전히 정치적 갈등과 이념 대립이 존재할 것으로 예상되며, 정치의 미래에는 지속적인 혁신과 대화가 필요할 것입니다.\n",
      "\n",
      "### 경제의 미래\n",
      "한국의 경제의 미래는 글로벌 경제와의 접목과 이에 따른 변화에 크게 영향받을 것으로 예상됩니다. 제4차 산업혁명과 인공지능, 빅데이터, 로봇공학 등의 기술 발전이 경제 구조를 크게 변화시킬 것으로 전망됩니다. 또한 지속가능한 발전과 에너지 전환, 환경 보호에 대한 중요성이 더욱 부각될 것입니다. 경제의 미래는 혁신과 유연한 대응 능력이 중요할 것으로 예상됩니다.\n",
      "\n",
      "### 사회의 미래\n",
      "한국의 사회의 미래는 고령화와 저출산 문제, 인구구조 변화에 따른 사회 구조의 변화 등의 도전을 맞닥뜨릴 것으로 예상됩니다. 또한 다문화, 다양성 증가로 인한 사회적 갈등과 공존 문제도 해결해야 할 과제로 부각될 것입니다. 혁신적인 교육 제도와 사회 복지 시스템의 발전이 필요할 것으로 보입니다. 더불어 인간 중심적인 사회 구축이 중요시될 것입니다.\n",
      "\n",
      "### 종합 결론\n",
      "한국의 미래는 정치, 경제, 사회 각 영역에서 다양한 변화와 도전을 겪을 것으로 예상됩니다. 이러한 변화와 도전을 극복하기 위해서는 혁신, 다양성 존중, 지속가능성을 중시하는 정책과 시스템이 필요합니다. 또한 시민들 간의 소통과 협력이 더욱 강화되어야 합니다. 한국의 미래는 어렵고 복잡할 수 있겠지만, 새로운 가능성과 희망 역시 풍부하게 존재할 것입니다. 함께 미래를 준비하고 발전해 나가는 과정에서 서로를 돕고 배려하는 사회가 되기를 희망합니다."
     ]
    }
   ],
   "source": [
    "\n",
    "# 스트림 모드에서는 completion.choices 를 반복문으로 순회\n",
    "question = \"한국의 정치, 경재, 사회의 미래는 어떤가요. 각각 하나의 섹션으로 따로따로 이야기해주세요. 마지막에 결론을 이야기해주세요\"\n",
    "completion = ask_stream(question)\n",
    "print(completion)\n",
    "print(\"-----------------\")\n",
    "final_answer = []\n",
    "for chunk in completion:\n",
    "    # chunk 를 저장\n",
    "    chunk_content = chunk.choices[0].delta.content\n",
    "    # chunk 가 문자열이면 final_answer 에 추가\n",
    "    if isinstance(chunk_content, str):\n",
    "        final_answer.append(chunk_content)\n",
    "        # 토큰 단위로 실시간 답변 출력\n",
    "        print(chunk_content, end=\"\")"
   ]
  },
  {
   "cell_type": "code",
   "execution_count": 9,
   "metadata": {},
   "outputs": [
    {
     "name": "stdout",
     "output_type": "stream",
     "text": [
      "['', '###', ' 정', '치', '의', ' 미', '래', '\\n', '한', '국', '의', ' 정', '치', '의', ' 미', '래', '는', ' 다', '양', '한', ' 변', '화', '와', ' 도', '전', '을', ' 겪', '을', ' 것', '으로', ' 예', '상', '됩니다', '.', ' 젊', '은', ' 세', '대', '의', ' 정', '치', ' 참', '여', '가', ' 증', '가', '하', '고', ' 있', '으', '며', ',', ' 정보', '기', '술', '의', ' 발', '전', '으로', ' 인', '해', ' 시', '민', '들', '이', ' 더', ' 쉽', '게', ' 정', '치', '에', ' 참', '여', '할', ' 수', ' 있는', ' 환', '경', '이', ' 조', '성', '될', ' 것', '입니다', '.', ' 또', '한', ' 다', '양', '성', '과', ' 포', '용', '을', ' 중', '시', '하는', ' 정', '치', ' 문', '화', '가', ' 더', ' 확', '대', '될', ' 가능', '성', '이', ' 있', '습니다', '.', ' 그', '러', '나', ' 여', '전', '히', ' 정', '치', '적', ' 갈', '등', '과', ' 이', '념', ' 대', '립', '이', ' 존', '재', '할', ' 것', '으로', ' 예', '상', '되', '며', ',', ' 정', '치', '의', ' 미', '래', '에', '는', ' 지', '속', '적', '인', ' 혁', '신', '과', ' 대', '화', '가', ' 필', '요', '할', ' 것', '입니다', '.\\n\\n', '###', ' 경', '제', '의', ' 미', '래', '\\n', '한', '국', '의', ' 경', '제', '의', ' 미', '래', '는', ' 글', '로', '벌', ' 경', '제', '와', '의', ' 접', '목', '과', ' 이', '에', ' 따', '른', ' 변', '화', '에', ' 크', '게', ' 영', '향', '받', '을', ' 것', '으로', ' 예', '상', '됩니다', '.', ' 제', '4', '차', ' 산', '업', '혁', '명', '과', ' 인', '공', '지', '능', ',', ' 빅', '데이터', ',', ' 로', '봇', '공', '학', ' 등', '의', ' 기', '술', ' 발', '전', '이', ' 경', '제', ' 구', '조', '를', ' 크', '게', ' 변', '화', '시', '킬', ' 것', '으로', ' 전', '망', '됩니다', '.', ' 또', '한', ' 지', '속', '가', '능', '한', ' 발', '전', '과', ' 에', '너', '지', ' 전', '환', ',', ' 환', '경', ' 보', '호', '에', ' 대', '한', ' 중', '요', '성', '이', ' 더', '욱', ' 부', '각', '될', ' 것', '입니다', '.', ' 경', '제', '의', ' 미', '래', '는', ' 혁', '신', '과', ' 유', '연', '한', ' 대', '응', ' 능', '력', '이', ' 중', '요', '할', ' 것', '으로', ' 예', '상', '됩니다', '.\\n\\n', '###', ' 사', '회', '의', ' 미', '래', '\\n', '한', '국', '의', ' 사', '회', '의', ' 미', '래', '는', ' 고', '령', '화', '와', ' 저', '출', '산', ' 문', '제', ',', ' 인', '구', '구', '조', ' 변', '화', '에', ' 따', '른', ' 사', '회', ' 구', '조', '의', ' 변', '화', ' 등', '의', ' 도', '전', '을', ' 맞', '닥', '뜨', '릴', ' 것', '으로', ' 예', '상', '됩니다', '.', ' 또', '한', ' 다', '문', '화', ',', ' 다', '양', '성', ' 증', '가', '로', ' 인', '한', ' 사', '회', '적', ' 갈', '등', '과', ' 공', '존', ' 문', '제', '도', ' 해', '결', '해', '야', ' 할', ' 과', '제', '로', ' 부', '각', '될', ' 것', '입니다', '.', ' 혁', '신', '적', '인', ' 교', '육', ' 제', '도', '와', ' 사', '회', ' 복', '지', ' 시', '스', '템', '의', ' 발', '전', '이', ' 필', '요', '할', ' 것', '으로', ' 보', '입니다', '.', ' 더', '불', '어', ' 인', '간', ' 중', '심', '적', '인', ' 사', '회', ' 구', '축', '이', ' 중', '요', '시', '될', ' 것', '입니다', '.\\n\\n', '###', ' 종', '합', ' 결', '론', '\\n', '한', '국', '의', ' 미', '래', '는', ' 정', '치', ',', ' 경', '제', ',', ' 사', '회', ' 각', ' 영', '역', '에서', ' 다', '양', '한', ' 변', '화', '와', ' 도', '전', '을', ' 겪', '을', ' 것', '으로', ' 예', '상', '됩니다', '.', ' 이', '러', '한', ' 변', '화', '와', ' 도', '전', '을', ' 극', '복', '하기', ' 위', '해서', '는', ' 혁', '신', ',', ' 다', '양', '성', ' 존', '중', ',', ' 지', '속', '가', '능', '성', '을', ' 중', '시', '하는', ' 정', '책', '과', ' 시', '스', '템', '이', ' 필', '요', '합니다', '.', ' 또', '한', ' 시', '민', '들', ' 간', '의', ' 소', '통', '과', ' 협', '력', '이', ' 더', '욱', ' 강', '화', '되', '어', '야', ' 합니다', '.', ' 한', '국', '의', ' 미', '래', '는', ' 어', '렵', '고', ' 복', '잡', '할', ' 수', ' 있', '겠', '지', '만', ',', ' 새', '로', '운', ' 가능', '성', '과', ' 희', '망', ' 역', '시', ' 풍', '부', '하', '게', ' 존', '재', '할', ' 것', '입니다', '.', ' 함', '께', ' 미', '래', '를', ' 준', '비', '하', '고', ' 발', '전', '해', ' 나', '가', '는', ' 과', '정', '에서', ' 서', '로', '를', ' 돕', '고', ' 배', '려', '하는', ' 사', '회', '가', ' 되', '기', '를', ' 희', '망', '합니다', '.']\n"
     ]
    }
   ],
   "source": [
    "print(final_answer)"
   ]
  },
  {
   "cell_type": "code",
   "execution_count": 10,
   "metadata": {},
   "outputs": [
    {
     "name": "stdout",
     "output_type": "stream",
     "text": [
      "### 정치의 미래\n",
      "한국의 정치의 미래는 다양한 변화와 도전을 겪을 것으로 예상됩니다. 젊은 세대의 정치 참여가 증가하고 있으며, 정보기술의 발전으로 인해 시민들이 더 쉽게 정치에 참여할 수 있는 환경이 조성될 것입니다. 또한 다양성과 포용을 중시하는 정치 문화가 더 확대될 가능성이 있습니다. 그러나 여전히 정치적 갈등과 이념 대립이 존재할 것으로 예상되며, 정치의 미래에는 지속적인 혁신과 대화가 필요할 것입니다.\n",
      "\n",
      "### 경제의 미래\n",
      "한국의 경제의 미래는 글로벌 경제와의 접목과 이에 따른 변화에 크게 영향받을 것으로 예상됩니다. 제4차 산업혁명과 인공지능, 빅데이터, 로봇공학 등의 기술 발전이 경제 구조를 크게 변화시킬 것으로 전망됩니다. 또한 지속가능한 발전과 에너지 전환, 환경 보호에 대한 중요성이 더욱 부각될 것입니다. 경제의 미래는 혁신과 유연한 대응 능력이 중요할 것으로 예상됩니다.\n",
      "\n",
      "### 사회의 미래\n",
      "한국의 사회의 미래는 고령화와 저출산 문제, 인구구조 변화에 따른 사회 구조의 변화 등의 도전을 맞닥뜨릴 것으로 예상됩니다. 또한 다문화, 다양성 증가로 인한 사회적 갈등과 공존 문제도 해결해야 할 과제로 부각될 것입니다. 혁신적인 교육 제도와 사회 복지 시스템의 발전이 필요할 것으로 보입니다. 더불어 인간 중심적인 사회 구축이 중요시될 것입니다.\n",
      "\n",
      "### 종합 결론\n",
      "한국의 미래는 정치, 경제, 사회 각 영역에서 다양한 변화와 도전을 겪을 것으로 예상됩니다. 이러한 변화와 도전을 극복하기 위해서는 혁신, 다양성 존중, 지속가능성을 중시하는 정책과 시스템이 필요합니다. 또한 시민들 간의 소통과 협력이 더욱 강화되어야 합니다. 한국의 미래는 어렵고 복잡할 수 있겠지만, 새로운 가능성과 희망 역시 풍부하게 존재할 것입니다. 함께 미래를 준비하고 발전해 나가는 과정에서 서로를 돕고 배려하는 사회가 되기를 희망합니다.\n"
     ]
    }
   ],
   "source": [
    "# 전체 답변인 final_answer 를 문자열로 변환하여 출력\n",
    "final_answer = \"\".join(final_answer)\n",
    "print(final_answer)"
   ]
  },
  {
   "cell_type": "markdown",
   "metadata": {},
   "source": [
    "## 대화의 기억\n"
   ]
  },
  {
   "cell_type": "markdown",
   "metadata": {},
   "source": [
    "`client.chat.completions.create()` 함수는 자체적으로 대화를 저장하는 기능이 없다.\n",
    "\n",
    "따라서, 이전 문맥(context)을 기억하면서 대화를 이어나가기 위해서는(일반적인 ChatBot을 생각하시면 됩니다) 다음과 같이 `messages` 옵션에 메시지를 추가해야 함\n",
    "\n",
    "messages는 대화의 각 부분을 구성하는 데 사용되며, 각 메시지는 \"role\"과 \"content\"라는 두 가지 주요 요소를 포함하는 딕셔너리 형태로 되어 있음. \n",
    "\n",
    "각 \"role\"의 의미:\n",
    "\n",
    "- \"system\": 시스템 전역 설정. 예를 들어, 모델에 특정한 페르소나(persona)를 부여하거나, 대화의 맥락을 설정하는 데 사용. chatgot의 custom instruction과 같음\n",
    "- \"user\": 사용자의 입력. 이는 대화에서 사용자가 질문하거나 요청한 내용임.\n",
    "- \"assistant\": AI 모델(예: ChatGPT)의 응답. \n"
   ]
  },
  {
   "cell_type": "code",
   "execution_count": 11,
   "metadata": {},
   "outputs": [],
   "source": [
    "def ask(question):\n",
    "    completion = client.chat.completions.create(\n",
    "        model=\"gpt-3.5-turbo\",\n",
    "        messages=[\n",
    "            {\n",
    "                \"role\": \"system\",\n",
    "                \"content\": \"You are a helpful assistant. You must answer in Korean.\",\n",
    "            },\n",
    "            {\n",
    "                \"role\": \"user\",\n",
    "                \"content\": question,  # 사용자의 질문을 입력\n",
    "            },\n",
    "        ],\n",
    "    )\n",
    "    # 답변을 반환\n",
    "    return completion.choices[0].message.content"
   ]
  },
  {
   "cell_type": "code",
   "execution_count": 12,
   "metadata": {},
   "outputs": [
    {
     "data": {
      "text/plain": [
       "'제주도는 대한민국 남쪽에 위치한 섬이며, 우리 나라에서 가장 큰 섬입니다. 아름다운 자연 풍경으로 유명하며, 한라산이라는 화산 산봉우리가 자리하고 있습니다. 제주도는 해변이 아름다우며, 따듯한 기후와 다양한 식물과 동물이 서식하는 곳으로 유명합니다. 또한, 제주도는 다양한 역사적인 유적과 문화적인 명소가 많이 있어 관광객들에게 인기 있는 여행지입니다. 현지 음식도 매우 맛있어서 많은 이들에게 사랑을 받고 있습니다.'"
      ]
     },
     "execution_count": 12,
     "metadata": {},
     "output_type": "execute_result"
    }
   ],
   "source": [
    "# 첫 번째 질문\n",
    "ask(\"제주도에 대해서 설명해주세요\")"
   ]
  },
  {
   "cell_type": "code",
   "execution_count": 13,
   "metadata": {},
   "outputs": [
    {
     "data": {
      "text/plain": [
       "'가장 빠른 방법은 대중교통을 이용하는 것입니다. 지하철을 이용하거나 버스를 타거나 택시를 타면 상황에 따라 가장 빠르게 이동할 수 있습니다. 지하철이 가장 효율적이고 빠를 수 있어요.'"
      ]
     },
     "execution_count": 13,
     "metadata": {},
     "output_type": "execute_result"
    }
   ],
   "source": [
    "# 두 번째 질문\n",
    "ask(\"거기를 가장 빠르게 가는 방법은 무엇인가요?\")"
   ]
  },
  {
   "cell_type": "markdown",
   "metadata": {},
   "source": [
    "이전 질문을 기억하지 못함. \n",
    "이를 해결하기 위해, 대화의 각 부분(사용자의 질문과 AI의 응답)을 messages 리스트에 순차적으로 추가함"
   ]
  },
  {
   "cell_type": "markdown",
   "metadata": {},
   "source": [
    "좀 더 깔끔하게 함수화하여 구현해 보겠습니다.\n"
   ]
  },
  {
   "cell_type": "code",
   "execution_count": 14,
   "metadata": {},
   "outputs": [],
   "source": [
    "message_history=[]\n",
    "def ask(question):\n",
    "    if len(message_history) == 0:\n",
    "        # 최초 질문\n",
    "        message_history.append(\n",
    "            {\n",
    "                \"role\": \"system\",\n",
    "                \"content\": \"You are a helpful assistant. You must answer in Korean.\",\n",
    "            }\n",
    "        )\n",
    "\n",
    "    # 사용자 질문 추가\n",
    "    message_history.append(\n",
    "        {\n",
    "            \"role\": \"user\",\n",
    "            \"content\": question,\n",
    "        },\n",
    "    )\n",
    "\n",
    "    # GPT에 질문을 전달하여 답변을 생성\n",
    "    completion = client.chat.completions.create(\n",
    "        model=\"gpt-3.5-turbo\",\n",
    "        messages=message_history,\n",
    "    )\n",
    "\n",
    "    # 사용자 질문에 대한 답변을 추가\n",
    "    message_history.append(\n",
    "        {\"role\": \"assistant\", \n",
    "         \"content\": completion.choices[0].message.content}\n",
    "    )\n",
    "\n",
    "    return completion.choices[0].message.content"
   ]
  },
  {
   "cell_type": "code",
   "execution_count": 15,
   "metadata": {},
   "outputs": [
    {
     "name": "stdout",
     "output_type": "stream",
     "text": [
      "제주도는 대한민국의 남쪽에 위치한 섬으로, 아름다운 자연 풍경과 다양한 문화를 갖고 있습니다. 제주도는 한라산이란 화산을 중심으로 형성된 섬으로, 해변, 울창한 숲, 폭포, 돌담 마을 등 다양한 명소가 있습니다. 또한, 특이한 풍습과 전통문화가 유지되고 있어 관광객들에게 많은 매력을 끌고 있습니다. 특히 제주도는 해산물과 횟집이 유명하며, 오름이라 불리는 작은 산들도 많아 등산을 즐기기에 좋습니다. 아름다운 자연 경치와 푸른 바다, 따뜻한 문화로 많은 사람들이 여행을 즐기러 제주도를 방문하고 있습니다.\n"
     ]
    }
   ],
   "source": [
    "# 최초 질문\n",
    "print(ask(\"제주도에 대해서 설명해주세요\"))\n"
   ]
  },
  {
   "cell_type": "code",
   "execution_count": 16,
   "metadata": {},
   "outputs": [
    {
     "name": "stdout",
     "output_type": "stream",
     "text": [
      "제주도로 가는 가장 빠르고 편리한 방법은 비행기를 이용하는 것입니다. 대한민국 내의 다양한 공항에서 제주도로 직항 또는 환승편을 타고 이동할 수 있습니다. 또한, 제주국제공항은 제주도에 입도하는 주요 공항으로 다양한 항공사의 운항으로 인해 비교적 다양한 시간대에 비행기를 이용할 수 있습니다. 특히 대도시인 서울과 부산에서는 매일 다수의 항공편이 운행되어 있어서 접근성이 매우 좋습니다. 다른 교통 수단보다 상대적으로 시간을 단축할 수 있는 비행기를 이용하여 제주도로 빠르게 이동할 수 있습니다.\n"
     ]
    }
   ],
   "source": [
    "# 두 번째 질문\n",
    "print(ask(\"거기를 가장 빠르게 가는 방법은 무엇인가요?\"))\n"
   ]
  },
  {
   "cell_type": "code",
   "execution_count": 17,
   "metadata": {},
   "outputs": [
    {
     "data": {
      "text/plain": [
       "[{'role': 'system',\n",
       "  'content': 'You are a helpful assistant. You must answer in Korean.'},\n",
       " {'role': 'user', 'content': '제주도에 대해서 설명해주세요'},\n",
       " {'role': 'assistant',\n",
       "  'content': '제주도는 대한민국의 남쪽에 위치한 섬으로, 아름다운 자연 풍경과 다양한 문화를 갖고 있습니다. 제주도는 한라산이란 화산을 중심으로 형성된 섬으로, 해변, 울창한 숲, 폭포, 돌담 마을 등 다양한 명소가 있습니다. 또한, 특이한 풍습과 전통문화가 유지되고 있어 관광객들에게 많은 매력을 끌고 있습니다. 특히 제주도는 해산물과 횟집이 유명하며, 오름이라 불리는 작은 산들도 많아 등산을 즐기기에 좋습니다. 아름다운 자연 경치와 푸른 바다, 따뜻한 문화로 많은 사람들이 여행을 즐기러 제주도를 방문하고 있습니다.'},\n",
       " {'role': 'user', 'content': '거기를 가장 빠르게 가는 방법은 무엇인가요?'},\n",
       " {'role': 'assistant',\n",
       "  'content': '제주도로 가는 가장 빠르고 편리한 방법은 비행기를 이용하는 것입니다. 대한민국 내의 다양한 공항에서 제주도로 직항 또는 환승편을 타고 이동할 수 있습니다. 또한, 제주국제공항은 제주도에 입도하는 주요 공항으로 다양한 항공사의 운항으로 인해 비교적 다양한 시간대에 비행기를 이용할 수 있습니다. 특히 대도시인 서울과 부산에서는 매일 다수의 항공편이 운행되어 있어서 접근성이 매우 좋습니다. 다른 교통 수단보다 상대적으로 시간을 단축할 수 있는 비행기를 이용하여 제주도로 빠르게 이동할 수 있습니다.'}]"
      ]
     },
     "execution_count": 17,
     "metadata": {},
     "output_type": "execute_result"
    }
   ],
   "source": [
    "message_history"
   ]
  },
  {
   "cell_type": "code",
   "execution_count": 18,
   "metadata": {},
   "outputs": [
    {
     "name": "stdout",
     "output_type": "stream",
     "text": [
      "Jeju Island is a southern island of South Korea, known for its beautiful natural landscapes and diverse culture. The island is formed around a volcano called Hallasan, showcasing beaches, lush forests, waterfalls, stone wall villages, and various attractions. Jeju Island maintains unique customs and traditional culture that attract many tourists. The island is famous for its seafood and raw fish restaurants, and it offers many small mountains called \"oreums\" for hiking enthusiasts to explore. With its stunning natural scenery, blue seas, and warm culture, Jeju Island has become a popular destination for travelers seeking to enjoy a relaxing getaway. \n",
      "\n",
      "The fastest and most convenient way to reach Jeju Island is by taking a flight. There are direct or connecting flights available from various airports in South Korea to Jeju Island. Jeju International Airport serves as a major gateway to the island with flights operated by a variety of airlines, offering flights at various times throughout the day. Major cities like Seoul and Busan have numerous daily flights to Jeju Island, making it easily accessible. By opting for a flight, you can save time compared to other modes of transportation and reach Jeju Island quickly.\n"
     ]
    }
   ],
   "source": [
    "print(ask(\"이전의 내용을 영어로 답변해주세요\"))"
   ]
  },
  {
   "cell_type": "code",
   "execution_count": 19,
   "metadata": {},
   "outputs": [
    {
     "data": {
      "text/plain": [
       "[{'role': 'system',\n",
       "  'content': 'You are a helpful assistant. You must answer in Korean.'},\n",
       " {'role': 'user', 'content': '제주도에 대해서 설명해주세요'},\n",
       " {'role': 'assistant',\n",
       "  'content': '제주도는 대한민국의 남쪽에 위치한 섬으로, 아름다운 자연 풍경과 다양한 문화를 갖고 있습니다. 제주도는 한라산이란 화산을 중심으로 형성된 섬으로, 해변, 울창한 숲, 폭포, 돌담 마을 등 다양한 명소가 있습니다. 또한, 특이한 풍습과 전통문화가 유지되고 있어 관광객들에게 많은 매력을 끌고 있습니다. 특히 제주도는 해산물과 횟집이 유명하며, 오름이라 불리는 작은 산들도 많아 등산을 즐기기에 좋습니다. 아름다운 자연 경치와 푸른 바다, 따뜻한 문화로 많은 사람들이 여행을 즐기러 제주도를 방문하고 있습니다.'},\n",
       " {'role': 'user', 'content': '거기를 가장 빠르게 가는 방법은 무엇인가요?'},\n",
       " {'role': 'assistant',\n",
       "  'content': '제주도로 가는 가장 빠르고 편리한 방법은 비행기를 이용하는 것입니다. 대한민국 내의 다양한 공항에서 제주도로 직항 또는 환승편을 타고 이동할 수 있습니다. 또한, 제주국제공항은 제주도에 입도하는 주요 공항으로 다양한 항공사의 운항으로 인해 비교적 다양한 시간대에 비행기를 이용할 수 있습니다. 특히 대도시인 서울과 부산에서는 매일 다수의 항공편이 운행되어 있어서 접근성이 매우 좋습니다. 다른 교통 수단보다 상대적으로 시간을 단축할 수 있는 비행기를 이용하여 제주도로 빠르게 이동할 수 있습니다.'},\n",
       " {'role': 'user', 'content': '이전의 내용을 영어로 답변해주세요'},\n",
       " {'role': 'assistant',\n",
       "  'content': 'Jeju Island is a southern island of South Korea, known for its beautiful natural landscapes and diverse culture. The island is formed around a volcano called Hallasan, showcasing beaches, lush forests, waterfalls, stone wall villages, and various attractions. Jeju Island maintains unique customs and traditional culture that attract many tourists. The island is famous for its seafood and raw fish restaurants, and it offers many small mountains called \"oreums\" for hiking enthusiasts to explore. With its stunning natural scenery, blue seas, and warm culture, Jeju Island has become a popular destination for travelers seeking to enjoy a relaxing getaway. \\n\\nThe fastest and most convenient way to reach Jeju Island is by taking a flight. There are direct or connecting flights available from various airports in South Korea to Jeju Island. Jeju International Airport serves as a major gateway to the island with flights operated by a variety of airlines, offering flights at various times throughout the day. Major cities like Seoul and Busan have numerous daily flights to Jeju Island, making it easily accessible. By opting for a flight, you can save time compared to other modes of transportation and reach Jeju Island quickly.'}]"
      ]
     },
     "execution_count": 19,
     "metadata": {},
     "output_type": "execute_result"
    }
   ],
   "source": [
    "message_history"
   ]
  },
  {
   "cell_type": "code",
   "execution_count": 20,
   "metadata": {},
   "outputs": [
    {
     "name": "stdout",
     "output_type": "stream",
     "text": [
      "You      : 울릉도에 대해서 이야기해줘\n",
      "Assistant: 울릉도는 대한민국 동쪽에 위치한 섬으로, 독특한 자연환경과 역사적인 가치로 유명합니다. 울릉도는 울릉군과 독도로 구성되어 있으며, 울릉군은 울릉도와 이어진 동도, 서도, 소동도 등 다양한 섬들로 이루어져 있습니다. \n",
      "\n",
      "울릉도는 아름다운 해안선과 청정한 바다로 유명하며, 다양한 해안 경관과 해양 생물이 풍부합니다. 또한, 울릉도는 1,500년 이상의 군사 역사를 지니고 있어, 다양한 유적과 문화유산이 보존되어 있습니다. 특히 울릉도는 독도와 관련된 역사적 이슈로 유명하며, 많은 사람들이 관심을 가지고 있습니다.\n",
      "\n",
      "울릉도로 여행을 계획하는 경우, 아름다운 자연 풍경과 역사적 가치를 경험할 수 있을 뿐만 아니라 신선한 해산물 요리를 맛보거나 휴양을 즐길 수 있습니다. 울릉도는 한국의 자연과 문화를 동시에 경험할 수 있는 멋진 여행지로 손꼽히고 있습니다.\n",
      " \n",
      "You      : ㅂ\n",
      "Assistant: 질문이나 도움이 필요하신 점이 있으시면 언제든지 말씀해주세요. 도와드릴 수 있는 일이 있으면 기꺼이 도와드리겠습니다. 감사합니다.\n",
      " \n",
      "You      : \n",
      "Assistant: 도움이 필요한 내용이 있으시면 언제든지 말씀해주세요. 제가 도와드릴 수 있는 모든 것들에 관해 도와드리겠습니다. 부담가지지 마시고 언제든지 물어보세요. 함께 해결해나갈 수 있도록 최선을 다하겠습니다. 감사합니다.\n",
      " \n"
     ]
    }
   ],
   "source": [
    "# 이 코드는 위의 것을 종합해서 대화 내용을 기억을 하는 챗봇을 만든 것임.  \n",
    "from openai import OpenAI\n",
    "\n",
    "class Chatbot:\n",
    "    def __init__(self):\n",
    "        self.client = OpenAI()\n",
    "        self.message_history = [\n",
    "            {\n",
    "                \"role\": \"system\",\n",
    "                \"content\": \"You are a helpful assistant. You must answer in Korean.\",\n",
    "            }\n",
    "        ]\n",
    "\n",
    "    def ask(self, question):\n",
    "        # 사용자 질문 추가\n",
    "        self.message_history.append(\n",
    "            {\n",
    "                \"role\": \"user\",\n",
    "                \"content\": question,\n",
    "            }\n",
    "        )\n",
    "\n",
    "        # GPT에 질문을 전달하여 답변을 생성\n",
    "        completion = self.client.chat.completions.create(\n",
    "            model=\"gpt-3.5-turbo\",\n",
    "            messages=self.message_history,\n",
    "        )\n",
    "\n",
    "        # 사용자 질문에 대한 답변을 추가\n",
    "        assistant_response = completion.choices[0].message.content\n",
    "        self.message_history.append(\n",
    "            {\n",
    "                \"role\": \"assistant\", \n",
    "                \"content\": assistant_response\n",
    "            }\n",
    "        )\n",
    "\n",
    "        return assistant_response\n",
    "\n",
    "chatbot = Chatbot()\n",
    "    \n",
    "while True:\n",
    "    user_input = input(\"질문을 입력하세요 (종료하려면 'q' 입력): \")\n",
    "    if user_input.lower() == 'q':\n",
    "        print(\"챗봇을 종료합니다. 감사합니다.\")\n",
    "        break\n",
    "    \n",
    "    response = chatbot.ask(user_input)\n",
    "    print(\"You      :\", user_input)\n",
    "    print(\"Assistant:\", response)\n",
    "    print(\" \")"
   ]
  },
  {
   "cell_type": "markdown",
   "metadata": {},
   "source": [
    "## json_object 답변형식\n",
    "\n",
    "이번에는 GPT 의 출력 형식을 지정하는 방법을 살펴보겠습니다. 다음의 예시는 프롬프트를 활용하여 답변을 JSON 형식으로 받는 예제 입니다.\n"
   ]
  },
  {
   "cell_type": "code",
   "execution_count": null,
   "metadata": {},
   "outputs": [
    {
     "name": "stdout",
     "output_type": "stream",
     "text": [
      "{\n",
      "  \"AI란?\": \"AI(인공지능, Artificial Intelligence)는 기계가 인간의 지능을 모방하여 학습, 추론, 문제 해결, 언어 이해 등의 작업을 수행할 수 있도록 하는 기술입니다.\",\n",
      "  \"종류\": {\n",
      "    \"약한 인공지능(ANI)\": \"특정 작업이나 문제를 해결하는 데 특화된 인공지능으로, 예를 들어 음성 인식 시스템이나 추천 알고리즘이 있습니다.\",\n",
      "    \"강한 인공지능(AGI)\": \"인간과 유사한 수준의 지능을 가지며 다양한 작업을 수행할 수 있는 인공지능입니다.\",\n",
      "    \"초지능(Superintelligence)\": \"인간의 지능을 훨씬 뛰어넘는 인공지능으로, 이론적으로는 모든 인간 활동을 능가할 수 있습니다.\"\n",
      "  },\n",
      "  \"응용 분야\": [\n",
      "    \"의료: 질병 진단 및 치료 계획 수립\",\n",
      "    \"금융: 사기 탐지 및 투자 분석\",\n",
      "    \"자동차: 자율 주행 차량\",\n",
      "    \"고객 서비스: 챗봇 및 가상 비서\",\n",
      "    \"제조: 로봇 공정을 통한 자동화\"\n",
      "  ],\n",
      "  \"기술\": {\n",
      "    \"머신러닝\": \"데이터로부터 패턴을 학습하고 예측하는 기술입니다.\",\n",
      "    \"딥러닝\": \"인공신경망을 활용하여 이미지, 음성, 텍스트 등의 데이터를 분석하고 학습하는 기술입니다.\",\n",
      "    \"자연어 처리(NLP)\": \"언어를 이해하고 생성하는 기술로, 번역, 요약, 감정 분석 등이 포함됩니다.\"\n",
      "  }\n",
      "}\n"
     ]
    }
   ],
   "source": [
    "completion = client.chat.completions.create(\n",
    "    model=\"gpt-4o\",\n",
    "    messages=[\n",
    "        {\n",
    "            \"role\": \"system\",\n",
    "            # 답변 형식을 JSON 으로 받기 위해 프롬프트에 JSON 형식을 지정\n",
    "            \"content\": \"You are a helpful assistant designed to output JSON. You must answer in Korean.\",\n",
    "        },\n",
    "        {\n",
    "            \"role\": \"user\",\n",
    "            \"content\": \"AI에 대해서 설명해주세요\",\n",
    "        },\n",
    "    ],\n",
    "    response_format={\"type\": \"json_object\"},  # 답변 형식을 JSON 으로 지정\n",
    ")\n",
    "\n",
    "print(completion.choices[0].message.content)"
   ]
  },
  {
   "cell_type": "code",
   "execution_count": null,
   "metadata": {},
   "outputs": [
    {
     "name": "stdout",
     "output_type": "stream",
     "text": [
      "{\n",
      "  \"question\": \"다음 중 인공지능(AI)의 한 분야가 아닌 것은?\",\n",
      "  \"options\": [\n",
      "    \"1. 기계 학습\",\n",
      "    \"2. 자연어 처리\",\n",
      "    \"3. 데이터베이스 관리\",\n",
      "    \"4. 컴퓨터 비전\"\n",
      "  ],\n",
      "  \"correct_answer\": 3\n",
      "}\n"
     ]
    }
   ],
   "source": [
    "response = client.chat.completions.create(\n",
    "    model=\"gpt-4o\",\n",
    "    response_format={\"type\": \"json_object\"},\n",
    "    messages=[\n",
    "        {\n",
    "            \"role\": \"system\",\n",
    "            \"content\": \"You are a helpful assistant designed to output JSON.\",\n",
    "        },\n",
    "        {\n",
    "            \"role\": \"user\",\n",
    "            \"content\": \"AI에 대해서 4지선다형 문제를 내주고, 정답 번호를 알려주세요.\",\n",
    "        },\n",
    "    ],\n",
    "    temperature=0.5,\n",
    "    max_tokens=2024,\n",
    ")\n",
    "print(response.choices[0].message.content)"
   ]
  },
  {
   "cell_type": "markdown",
   "metadata": {},
   "source": [
    "`response_format={\"type\": \"json_object\"}` 으로 출력시 json 형태로 출력되는 것을 확인할 수 있습니다.\n",
    "\n",
    "`json` 형식으로 출력 값을 받으면 데이터베이스에 저장하거나 파일형태로 저장하는데 용이합니다.\n"
   ]
  },
  {
   "cell_type": "code",
   "execution_count": null,
   "metadata": {},
   "outputs": [],
   "source": [
    "response = client.chat.completions.create(\n",
    "    model=\"gpt-4o\",\n",
    "    response_format={\"type\": \"json_object\"},\n",
    "    messages=[\n",
    "        {\n",
    "            \"role\": \"system\",\n",
    "            \"content\": \"You are a helpful assistant designed to output JSON.\",\n",
    "        },\n",
    "        {\n",
    "            \"role\": \"user\",\n",
    "            \"content\": \"\"\"\n",
    "                AI를 주제로 4지선다형 객관식 문제를 5개를 만들어주세요. \n",
    "                정답은 번호로 알려주세요. \n",
    "                난이도는 [상, 중, 하] 중 하나로 표기해 주세요.\n",
    "            \"\"\",\n",
    "        },\n",
    "    ],\n",
    "    temperature=0.5,\n",
    "    max_tokens=2048,\n",
    ")"
   ]
  },
  {
   "cell_type": "code",
   "execution_count": null,
   "metadata": {},
   "outputs": [
    {
     "name": "stdout",
     "output_type": "stream",
     "text": [
      "{\n",
      "  \"questions\": [\n",
      "    {\n",
      "      \"question\": \"다음 중 인공지능(AI)의 정의로 가장 적절한 것은 무엇인가요?\",\n",
      "      \"options\": [\n",
      "        \"1. 인간의 감정을 모방하는 기계\",\n",
      "        \"2. 데이터를 분석하여 패턴을 찾는 기계\",\n",
      "        \"3. 인간의 지능을 모방하거나 향상시키는 컴퓨터 시스템\",\n",
      "        \"4. 인간의 신체 활동을 모방하는 기계\"\n",
      "      ],\n",
      "      \"answer\": 3,\n",
      "      \"difficulty\": \"하\"\n",
      "    },\n",
      "    {\n",
      "      \"question\": \"다음 중 머신러닝(Machine Learning)의 주요 개념이 아닌 것은 무엇인가요?\",\n",
      "      \"options\": [\n",
      "        \"1. 데이터 수집\",\n",
      "        \"2. 모델 훈련\",\n",
      "        \"3. 알고리즘 선택\",\n",
      "        \"4. 전기 회로 설계\"\n",
      "      ],\n",
      "      \"answer\": 4,\n",
      "      \"difficulty\": \"중\"\n",
      "    },\n",
      "    {\n",
      "      \"question\": \"딥러닝(Deep Learning)에서 자주 사용되는 신경망 구조는 무엇인가요?\",\n",
      "      \"options\": [\n",
      "        \"1. CNN (Convolutional Neural Network)\",\n",
      "        \"2. RNN (Recurrent Neural Network)\",\n",
      "        \"3. DNN (Deep Neural Network)\",\n",
      "        \"4. 위의 모두\"\n",
      "      ],\n",
      "      \"answer\": 4,\n",
      "      \"difficulty\": \"중\"\n",
      "    },\n",
      "    {\n",
      "      \"question\": \"다음 중 자연어 처리(NLP)의 예시가 아닌 것은 무엇인가요?\",\n",
      "      \"options\": [\n",
      "        \"1. 음성 인식\",\n",
      "        \"2. 이미지 분류\",\n",
      "        \"3. 기계 번역\",\n",
      "        \"4. 감정 분석\"\n",
      "      ],\n",
      "      \"answer\": 2,\n",
      "      \"difficulty\": \"하\"\n",
      "    },\n",
      "    {\n",
      "      \"question\": \"강화 학습(Reinforcement Learning)에서 에이전트가 환경과 상호작용하여 학습하는 주된 방법은 무엇인가요?\",\n",
      "      \"options\": [\n",
      "        \"1. 지도 학습\",\n",
      "        \"2. 비지도 학습\",\n",
      "        \"3. 보상과 벌을 통한 학습\",\n",
      "        \"4. 군집 분석\"\n",
      "      ],\n",
      "      \"answer\": 3,\n",
      "      \"difficulty\": \"상\"\n",
      "    }\n",
      "  ]\n",
      "}\n"
     ]
    }
   ],
   "source": [
    "workbook = response.choices[0].message.content\n",
    "print(workbook)"
   ]
  },
  {
   "cell_type": "markdown",
   "metadata": {},
   "source": [
    "5개의 결과 값을 출력합니다.\n"
   ]
  },
  {
   "cell_type": "markdown",
   "metadata": {},
   "source": [
    "아래의 코드는 json 라이브러리를 사용하여 JSON 형식의 답변을 파이썬 객체로 변환하는 코드입니다.\n"
   ]
  },
  {
   "cell_type": "code",
   "execution_count": null,
   "metadata": {},
   "outputs": [],
   "source": [
    "import json\n",
    "import pandas as pd\n",
    "\n",
    "\n",
    "# JSON 문자열을 Python 딕셔너리로 변환\n",
    "answers = json.loads(workbook)\n",
    "\n",
    "# 데이터를 pandas DataFrame으로 변환\n",
    "df = pd.DataFrame(answers['questions'])\n",
    "\n",
    "# options 열을 개별 열로 분리\n",
    "df = pd.concat([df.drop(['options'], axis=1), df['options'].apply(pd.Series)], axis=1)\n",
    "\n",
    "# 열 이름 변경\n",
    "df.columns = ['question', '정답', '난이도', '옵션1', '옵션2', '옵션3', '옵션4']\n"
   ]
  },
  {
   "cell_type": "code",
   "execution_count": null,
   "metadata": {},
   "outputs": [
    {
     "data": {
      "text/html": [
       "<div>\n",
       "<style scoped>\n",
       "    .dataframe tbody tr th:only-of-type {\n",
       "        vertical-align: middle;\n",
       "    }\n",
       "\n",
       "    .dataframe tbody tr th {\n",
       "        vertical-align: top;\n",
       "    }\n",
       "\n",
       "    .dataframe thead th {\n",
       "        text-align: right;\n",
       "    }\n",
       "</style>\n",
       "<table border=\"1\" class=\"dataframe\">\n",
       "  <thead>\n",
       "    <tr style=\"text-align: right;\">\n",
       "      <th></th>\n",
       "      <th>question</th>\n",
       "      <th>정답</th>\n",
       "      <th>난이도</th>\n",
       "      <th>옵션1</th>\n",
       "      <th>옵션2</th>\n",
       "      <th>옵션3</th>\n",
       "      <th>옵션4</th>\n",
       "    </tr>\n",
       "  </thead>\n",
       "  <tbody>\n",
       "    <tr>\n",
       "      <th>0</th>\n",
       "      <td>다음 중 인공지능(AI)의 정의로 가장 적절한 것은 무엇인가요?</td>\n",
       "      <td>3</td>\n",
       "      <td>하</td>\n",
       "      <td>1. 인간의 감정을 모방하는 기계</td>\n",
       "      <td>2. 데이터를 분석하여 패턴을 찾는 기계</td>\n",
       "      <td>3. 인간의 지능을 모방하거나 향상시키는 컴퓨터 시스템</td>\n",
       "      <td>4. 인간의 신체 활동을 모방하는 기계</td>\n",
       "    </tr>\n",
       "    <tr>\n",
       "      <th>1</th>\n",
       "      <td>다음 중 머신러닝(Machine Learning)의 주요 개념이 아닌 것은 무엇인가요?</td>\n",
       "      <td>4</td>\n",
       "      <td>중</td>\n",
       "      <td>1. 데이터 수집</td>\n",
       "      <td>2. 모델 훈련</td>\n",
       "      <td>3. 알고리즘 선택</td>\n",
       "      <td>4. 전기 회로 설계</td>\n",
       "    </tr>\n",
       "    <tr>\n",
       "      <th>2</th>\n",
       "      <td>딥러닝(Deep Learning)에서 자주 사용되는 신경망 구조는 무엇인가요?</td>\n",
       "      <td>4</td>\n",
       "      <td>중</td>\n",
       "      <td>1. CNN (Convolutional Neural Network)</td>\n",
       "      <td>2. RNN (Recurrent Neural Network)</td>\n",
       "      <td>3. DNN (Deep Neural Network)</td>\n",
       "      <td>4. 위의 모두</td>\n",
       "    </tr>\n",
       "    <tr>\n",
       "      <th>3</th>\n",
       "      <td>다음 중 자연어 처리(NLP)의 예시가 아닌 것은 무엇인가요?</td>\n",
       "      <td>2</td>\n",
       "      <td>하</td>\n",
       "      <td>1. 음성 인식</td>\n",
       "      <td>2. 이미지 분류</td>\n",
       "      <td>3. 기계 번역</td>\n",
       "      <td>4. 감정 분석</td>\n",
       "    </tr>\n",
       "    <tr>\n",
       "      <th>4</th>\n",
       "      <td>강화 학습(Reinforcement Learning)에서 에이전트가 환경과 상호작용...</td>\n",
       "      <td>3</td>\n",
       "      <td>상</td>\n",
       "      <td>1. 지도 학습</td>\n",
       "      <td>2. 비지도 학습</td>\n",
       "      <td>3. 보상과 벌을 통한 학습</td>\n",
       "      <td>4. 군집 분석</td>\n",
       "    </tr>\n",
       "  </tbody>\n",
       "</table>\n",
       "</div>"
      ],
      "text/plain": [
       "                                            question  정답 난이도  \\\n",
       "0                다음 중 인공지능(AI)의 정의로 가장 적절한 것은 무엇인가요?   3   하   \n",
       "1   다음 중 머신러닝(Machine Learning)의 주요 개념이 아닌 것은 무엇인가요?   4   중   \n",
       "2        딥러닝(Deep Learning)에서 자주 사용되는 신경망 구조는 무엇인가요?   4   중   \n",
       "3                 다음 중 자연어 처리(NLP)의 예시가 아닌 것은 무엇인가요?   2   하   \n",
       "4  강화 학습(Reinforcement Learning)에서 에이전트가 환경과 상호작용...   3   상   \n",
       "\n",
       "                                     옵션1                                옵션2  \\\n",
       "0                     1. 인간의 감정을 모방하는 기계             2. 데이터를 분석하여 패턴을 찾는 기계   \n",
       "1                              1. 데이터 수집                           2. 모델 훈련   \n",
       "2  1. CNN (Convolutional Neural Network)  2. RNN (Recurrent Neural Network)   \n",
       "3                               1. 음성 인식                          2. 이미지 분류   \n",
       "4                               1. 지도 학습                          2. 비지도 학습   \n",
       "\n",
       "                              옵션3                    옵션4  \n",
       "0  3. 인간의 지능을 모방하거나 향상시키는 컴퓨터 시스템  4. 인간의 신체 활동을 모방하는 기계  \n",
       "1                      3. 알고리즘 선택            4. 전기 회로 설계  \n",
       "2    3. DNN (Deep Neural Network)               4. 위의 모두  \n",
       "3                        3. 기계 번역               4. 감정 분석  \n",
       "4                 3. 보상과 벌을 통한 학습               4. 군집 분석  "
      ]
     },
     "execution_count": 29,
     "metadata": {},
     "output_type": "execute_result"
    }
   ],
   "source": [
    "df.head()"
   ]
  },
  {
   "cell_type": "markdown",
   "metadata": {},
   "source": [
    "아래는 Pandas 라이브러리를 사용하여 Python dictionary를 데이터프레임으로 변환하는 코드입니다.\n"
   ]
  },
  {
   "cell_type": "code",
   "execution_count": null,
   "metadata": {},
   "outputs": [],
   "source": [
    "# 데이터프레임을 csv 파일로 저장\n",
    "df.to_csv(\"ai_quiz.csv\", index=False)"
   ]
  },
  {
   "cell_type": "code",
   "execution_count": null,
   "metadata": {},
   "outputs": [],
   "source": [
    "# 데이터프레임을 엑셀 파일로 저장\n",
    "df.to_excel(\"ai_quiz.xlsx\", index=False)"
   ]
  },
  {
   "cell_type": "markdown",
   "metadata": {},
   "source": [
    "## 이미지 모드\n",
    "\n",
    "- input format\n",
    "```\n",
    "from openai import OpenAI\n",
    "\n",
    "client = OpenAI()\n",
    "\n",
    "response = client.chat.completions.create(\n",
    "    model=\"gpt-4-turbo\",\n",
    "    messages=[\n",
    "        {\n",
    "            \"role\": \"user\",\n",
    "            \"content\": [\n",
    "                {\"type\": \"text\", \"text\": \"What's in this image?\"},\n",
    "                {\n",
    "                    \"type\": \"image_url\",\n",
    "                    \"image_url\": \"https://upload.wikimedia.org/wikipedia/commons/thumb/d/dd/Gfp-wisconsin-madison-the-nature-boardwalk.jpg/2560px-Gfp-wisconsin-madison-the-nature-boardwalk.jpg\",\n",
    "                },\n",
    "            ],\n",
    "        }\n",
    "    ],\n",
    "    max_tokens=300,\n",
    ")\n",
    "\n",
    "print(response.choices[0])\n",
    "```"
   ]
  },
  {
   "cell_type": "code",
   "execution_count": null,
   "metadata": {},
   "outputs": [],
   "source": [
    "import base64\n",
    "from openai import OpenAI\n",
    "\n",
    "def encode_image(image_path):\n",
    "    with open(image_path, \"rb\") as image_file:\n",
    "        return base64.b64encode(image_file.read()).decode('utf-8')\n",
    "\n",
    "def describe_image(image_path, token_count=False):\n",
    "    client = OpenAI()\n",
    "\n",
    "    # 이미지를 base64로 인코딩\n",
    "    base64_image = encode_image(image_path)\n",
    "\n",
    "    response = client.chat.completions.create(\n",
    "        model=\"gpt-4-turbo\",\n",
    "        messages=[\n",
    "            {\n",
    "                \"role\": \"user\",\n",
    "                \"content\": [\n",
    "                    {\"type\": \"text\", \"text\": \"이 이미지에 대해 자세히 설명해주세요.\"},\n",
    "                    {\n",
    "                        \"type\": \"image_url\",\n",
    "                        \"image_url\": {\n",
    "                            \"url\": f\"data:image/jpeg;base64,{base64_image}\"\n",
    "                        }\n",
    "                    }\n",
    "                ]\n",
    "            }\n",
    "        ],\n",
    "        max_tokens=2024\n",
    "    )\n",
    "    if token_count:\n",
    "        return (response.choices[0].message.content, response.usage.total_tokens)\n",
    "    return response.choices[0].message.content\n",
    "\n",
    "\n"
   ]
  },
  {
   "cell_type": "markdown",
   "metadata": {},
   "source": [
    "- 이미지는 저해상도(512*512이하)는 85토큰, 고해상도는 170토큰으로 계산한다고 합니다. \n",
    "- 그래서 전체 토큰수를 계산하면 다음과 같습니다. "
   ]
  },
  {
   "cell_type": "code",
   "execution_count": null,
   "metadata": {},
   "outputs": [
    {
     "name": "stdout",
     "output_type": "stream",
     "text": [
      "이 이미지에는 두 마리의 알록달록한 부리를 가진 아틀란틱 퍼핀(Atlantic puffin)이 나와 있습니다. 이 새들은 주로 대서양의 북부 해안 지역에 서식하는 조류로 알려져 있습니다. 사진에서 오른쪽에 있는 퍼핀은 바위에 착지하고 정면을 바라보고 있으며, 왼쪽의 퍼핀은 부리를 벌리고 있는 듯하며 시선은 올려져 있습니다. \n",
      "\n",
      "퍼핀들의 특징적인 오렌지색 부리와 발이 뚜렷하게 보이며, 그들의 몸은 대체로 검은색과 하얀색의 대조적인 무늬로 이루어져 있습니다. 그들의 눈 주위에는 밝은 회색의 패치가 있어서 시각적으로 눈에 띄는 외양을 가집니다. 배경은 하늘색으로 매우 맑은 날씨를 나타내고 있으며, 이 두 마리 퍼핀은 그런 환경에서 상당히 생기 있어 보입니다. \n",
      "total tokens :  1123\n"
     ]
    }
   ],
   "source": [
    "image_path = \"bird.png\"  \n",
    "(description, token_count) = describe_image(image_path, token_count=True)\n",
    "print(description, \"\\ntotal tokens : \", token_count)"
   ]
  },
  {
   "cell_type": "markdown",
   "metadata": {},
   "source": [
    "## 함수모드\n",
    "- 함수모드는 tool을 함수 이름과 함께, 함수가 무엇을 하는지 json으로 정의하고,\n",
    "- 해당 함수를 정의합니다\n",
    "- tool_choice = auto 로 하면 openai 모델이 알아서 tools을 사용할 것인지 아니면 일반 챗봇 모드가 될 것인지를 결정합니다.  \n",
    "- 여러개의 tools를 사용할 경우에는 function description이 아주 상세하게 설명을 해야 합니다. OpenAI 모델이 이 function description을 읽고 어떤 tool을 실제로 사용할지를 결정하기 때문입니다. "
   ]
  },
  {
   "cell_type": "code",
   "execution_count": null,
   "metadata": {},
   "outputs": [
    {
     "name": "stdout",
     "output_type": "stream",
     "text": [
      "None\n"
     ]
    }
   ],
   "source": [
    "from dotenv import load_dotenv\n",
    "load_dotenv()\n",
    "import random\n",
    "from openai import OpenAI\n",
    "\n",
    "def get_weather(location):\n",
    "    \"\"\"\n",
    "    특정 지역의 날씨를 반환하는 함수입니다.\n",
    "    실제로는 임의의 날씨 정보를 생성합니다.\n",
    "    \"\"\"\n",
    "    weather_conditions = [\"맑음\", \"흐림\", \"비\", \"눈\", \"안개\"]\n",
    "    temperature = random.randint(-10, 35)\n",
    "    condition = random.choice(weather_conditions)\n",
    "    return f\"{location}의 현재 날씨는 {condition}이며, 기온은 {temperature}도입니다.\"\n",
    "\n",
    "# 함수 정의\n",
    "tools = [\n",
    "    {\n",
    "        \"type\": \"function\",\n",
    "        \"function\": {\n",
    "            \"name\": \"get_weather\",\n",
    "            \"description\": \"특정 지역의 현재 날씨 정보를 얻습니다.\",\n",
    "            \"parameters\": {\n",
    "                \"type\": \"object\",\n",
    "                \"properties\": {\n",
    "                    \"location\": {\n",
    "                        \"type\": \"string\",\n",
    "                        \"description\": \"날씨 정보를 알고 싶은 도시 또는 지역 이름\"\n",
    "                    }\n",
    "                },\n",
    "                \"required\": [\"location\"]\n",
    "            }\n",
    "        }\n",
    "    }\n",
    "]\n",
    "\n",
    "# 사용자 메시지\n",
    "user_message = \"제주도의 날씨에 대해서 이야기해줘\"\n",
    "\n",
    "# ChatCompletion API 호출\n",
    "client = OpenAI()\n",
    "response = client.chat.completions.create(\n",
    "    model=\"gpt-3.5-turbo\",  # 최신 버전의 모델 사용\n",
    "    messages=[{\"role\": \"user\", \"content\": user_message}],\n",
    "    tools=tools,\n",
    "    tool_choice=\"auto\"  # 자동으로 툴 선택 (중요!)\n",
    ")\n",
    "\n",
    "# 응답 처리\n",
    "message = response.choices[0].message.content\n",
    "print(message)\n",
    "\n"
   ]
  },
  {
   "cell_type": "code",
   "execution_count": null,
   "metadata": {},
   "outputs": [],
   "source": [
    "# 일단 일반 챗봇모드. \n",
    "\n",
    "def chat_only(question):\n",
    "    completion = client.chat.completions.create(\n",
    "        model=\"gpt-3.5-turbo\",\n",
    "        messages=[\n",
    "            {\n",
    "                \"role\": \"system\",\n",
    "                \"content\": \"당신은 친절한 AI Assistance 입니다.\",\n",
    "            },\n",
    "            {\n",
    "                \"role\": \"user\",\n",
    "                \"content\": question,\n",
    "            },\n",
    "        ],\n",
    "        temperature=0,\n",
    "    )\n",
    "    return completion.choices[0].message.content\n",
    "\n"
   ]
  },
  {
   "cell_type": "code",
   "execution_count": null,
   "metadata": {},
   "outputs": [
    {
     "name": "stdout",
     "output_type": "stream",
     "text": [
      "current: 2024-07-11 13:20:39\n",
      "tool chat:  2024-07-11 13:20:39\n"
     ]
    }
   ],
   "source": [
    "# tools를 사용한 함수모드\n",
    "\n",
    "from openai import OpenAI\n",
    "import datetime\n",
    "from dotenv import load_dotenv\n",
    "load_dotenv()\n",
    "client = OpenAI()\n",
    "\n",
    "\n",
    "def get_current_datetime():\n",
    "    \"혅재 날짜와 시간을 반환하는 함수입니다.\"\n",
    "    \n",
    "    now = datetime.datetime.now()\n",
    "    current = now.strftime(\"%Y-%m-%d %H:%M:%S\")\n",
    "    print(\"current:\", current)\n",
    "    return current\n",
    "\n",
    "tools = [\n",
    "    {\n",
    "        \"type\": \"function\",\n",
    "        \"function\": {\n",
    "            \"name\": \"get_current_datetime\",\n",
    "            \"description\": \"현재 날짜와 시간을 반환하는 함수입니다.\",\n",
    "            \"parameters\": {\n",
    "                \"type\": \"object\",\n",
    "                \"properties\": {}, # 함수가 받을 수 있는 파라미터 정의\n",
    "                \"required\": []    # 필수 파라미터 정의\n",
    "            }\n",
    "        }\n",
    "    }\n",
    "]\n",
    "\n",
    "def chat_with_tool(user_input):\n",
    "    response = client.chat.completions.create(\n",
    "        model=\"gpt-3.5-turbo\",\n",
    "        messages=[{\"role\": \"user\", \"content\": user_input}],\n",
    "        tools=tools,\n",
    "        tool_choice=\"auto\"  # 자동으로 툴 선택 (중요!)\n",
    "    )\n",
    "\n",
    "    finished_reason = response.choices[0].finish_reason\n",
    "\n",
    "    if finished_reason == \"tool_calls\":\n",
    "        \n",
    "        # 사용 가능한 함수 정의\n",
    "        available_functions = {\n",
    "            \"get_current_datetime\": get_current_datetime,\n",
    "        }\n",
    "        # 도구 호출 함수 이름을 가져옵니다.\n",
    "        function_name = response.choices[0].message.tool_calls[0].function.name\n",
    "        function_to_call = available_functions[function_name]\n",
    "\n",
    "\n",
    "        # 함수를 호출하고 응답을 반환합니다.\n",
    "        function_response = function_to_call()\n",
    "        return function_response\n",
    "    else:\n",
    "        return response.choices[0].message.content\n",
    "        \n",
    "\n",
    "user_query = \"오늘이 몇일이지? 지금 몇시야?\"\n",
    "result = chat_with_tool(user_query)\n",
    "print(\"tool chat: \", result)"
   ]
  },
  {
   "cell_type": "code",
   "execution_count": null,
   "metadata": {},
   "outputs": [
    {
     "name": "stdout",
     "output_type": "stream",
     "text": [
      "2024-07-11 13:15:37\n",
      "simple chat:  지금은 2022년 1월 25일이며, 현재 시간은 사용자의 지역에 따라 다를 수 있습니다. 사용자의 현재 지역을 알려주시면 더 정확한 정보를 제공해 드릴 수 있습니다.\n",
      "current: 2024-07-11 13:15:40\n",
      "tool chat:  2024-07-11 13:15:40\n"
     ]
    }
   ],
   "source": [
    "# 샘플 \n",
    "now = datetime.datetime.now()\n",
    "print(now.strftime(\"%Y-%m-%d %H:%M:%S\"))\n",
    "user_query = \"오늘이 몇일이지? 지금 몇시야?\"\n",
    "result = chat_only(user_query)\n",
    "print(\"simple chat: \", result)\n",
    "result = chat_with_tool(user_query)\n",
    "print(\"tool chat: \", result)"
   ]
  },
  {
   "cell_type": "code",
   "execution_count": null,
   "metadata": {},
   "outputs": [
    {
     "name": "stdout",
     "output_type": "stream",
     "text": [
      "simple chat:  제주도는 대한민국의 제주특별자치도로, 한반도 남쪽에 위치한 섬입니다. 제주도는 아름다운 자연 풍경과 다양한 관광 명소로 유명하며, 맑은 바다와 푸른 하늘, 그리고 신비로운 화산암 바위들이 만드는 풍경이 아름다운 곳으로 알려져 있습니다.\n",
      "\n",
      "제주도에는 한라산이 위치해 있으며, 한라산은 한반도의 최고봉으로 대한민국의 국립공원으로 지정되어 있습니다. 또한, 제주도에는 세계자연유산으로 등재된 성산일출봉, 용두암, 우도, 성읍민속마을 등 다양한 관광 명소가 있습니다.\n",
      "\n",
      "제주도는 특히 해녀 문화와 제주 특산물인 감귤, 제주 흑돼지, 제주 바다소금 등이 유명하며, 맛있는 음식과 다양한 체험 프로그램을 즐길 수 있는 곳으로도 알려져 있습니다.\n",
      "\n",
      "또한, 제주도는 다양한 휴양지와 리조트가 있어 휴식을 취할 수 있는 곳으로도 인기가 많습니다. 제주도는 국내외 관광객들에게 인기 있는 여행지로 손꼽히고 있습니다.\n",
      "tool chat:  제주도는 대한민국의 한 지방 자치단체로, 한국의 최대 섬이며 가장 인기 있는 관광지 중 하나입니다. 제주도는 남해와 동해에 위치한 도이며, 아름다운 자연 풍경과 다채로운 문화를 자랑합니다.\n",
      "\n",
      "제주도는 화산섬으로, 한라산이라는 화산이 섬의 중심에 솟아있어 자연 경관이 아름다워 많은 관광객들을 끌어들입니다. 또한 제주도는 제주 마산과 함께 한라산 국립공원으로 지정되어 있어 다양한 야생 동물과 식물을 볼 수 있는 곳으로 유명합니다.\n",
      "\n",
      "제주도에는 제주 오름, 성산일출봉, 용두암 등의 아름다운 명소뿐만 아니라, 해녀들의 바다에서 수확한 해산물을 맛볼 수 있는 특색 있는 음식 문화도 있습니다. 또한 제주의 독특한 전통 건축물인 돌담, 풍차 등도 볼 수 있습니다.\n",
      "\n",
      "제주도는 전세계적으로도 유명한 관광지로, 자연 경관과 문화적 매력을 동시에 느낄 수 있는 곳입니다. 많은 관광객들이 제주도를 방문하여 휴식을 취하고 즐거운 경험을 즐기고 있습니다.\n"
     ]
    }
   ],
   "source": [
    "user_query = \"제주도에 대해서 설명해주세요\"\n",
    "result = chat_only(user_query)\n",
    "print(\"simple chat: \", result)\n",
    "result = chat_with_tool(user_query)\n",
    "print(\"tool chat: \", result)"
   ]
  },
  {
   "cell_type": "code",
   "execution_count": null,
   "metadata": {},
   "outputs": [
    {
     "name": "stdout",
     "output_type": "stream",
     "text": [
      "simple chat:  가장 빠르게 이동하는 방법은 상황에 따라 다를 수 있지만, 일반적으로는 비행기나 고속 기차, 고속 버스 등을 이용하는 것이 빠를 수 있습니다. 하지만 교통 상황, 거리, 비용 등을 고려하여 최적의 이동 수단을 선택하는 것이 중요합니다.\n",
      "current: 2024-07-11 13:21:07\n",
      "tool chat:  2024-07-11 13:21:07\n"
     ]
    }
   ],
   "source": [
    "user_query = \"가장 빠르게 가는 방법은 무엇인가요?\"\n",
    "result = chat_only(user_query)\n",
    "print(\"simple chat: \", result)\n",
    "result = chat_with_tool(user_query)\n",
    "print(\"tool chat: \", result)"
   ]
  },
  {
   "cell_type": "code",
   "execution_count": null,
   "metadata": {},
   "outputs": [],
   "source": []
  },
  {
   "cell_type": "code",
   "execution_count": null,
   "metadata": {},
   "outputs": [
    {
     "name": "stdout",
     "output_type": "stream",
     "text": [
      "## 제주도, 아름다운 자연과 매력적인 문화가 어우러진 섬!\n",
      "\n",
      "안녕하세요! 관광 안내원입니다. 오늘은 한국의 동쪽에 위치한 아름다운 섬, **제주도**에 대해 알려드리겠습니다. \n",
      "\n",
      "**1. 자연의 경이로움:**\n",
      "\n",
      "* **한라산:** 제주도를 둘러싼 웅장한 화산으로, 1986년 국립공원으로 지정되었습니다.  \n",
      "    * 다양한 등산 코스와 아름다운 전망을 자랑하며, 특히 정상인 성산일출봉은 멋진 일출 명소입니다.\n",
      "* **성산일출봉:** 한라산의 일부로, 화산 활동으로 형성된 독특한 모습을 가진 절벽입니다. \n",
      "    * 아름다운 해안선과 함께 제주도의 상징적인 풍경을 자랑합니다.\n",
      "* **협재 해수욕장:** 맑고 투명한 바닷물과 하얀 모래사장이 어우러진 아름다운 해변입니다. \n",
      "    * 서핑, 스노클링 등 다양한 해양 레저 활동을 즐길 수 있습니다.\n",
      "* **만장굴:** 세계에서 가장 큰 동굴 중 하나로, 화산 활동으로 형성된 웅장한 지하 세계입니다. \n",
      "    * 아름다운 석회암 용암 구조와 다양한 지질학적 특징을 관찰할 수 있습니다.\n",
      "\n",
      "**2. 독특한 문화:**\n",
      "\n",
      "* **제주어:** 제주도만 사용하는 독특한 언어로, 한국어와 다른 어휘와 문법을 가지고 있습니다.\n",
      "* **해녀:** 바다에서 해산물을 채집하는 전통적인 여성들의 활동으로, 제주도의 특별한 문화를 보여줍니다.\n",
      "* **제주민속촌:** 전통적인 제주도 건축 양식과 문화를 체험할 수 있는 곳입니다. \n",
      "    * 전통 가옥, 공예품, 민속놀이 등을 관"
     ]
    }
   ],
   "source": [
    "from dotenv import load_dotenv\n",
    "load_dotenv()\n",
    "# Example: reuse your existing OpenAI setup\n",
    "from openai import OpenAI\n",
    "\n",
    "# Point to the local server\n",
    "client = OpenAI(base_url=\"http://localhost:1234/v1\", api_key=\"lm-studio\")\n",
    "question = \"제주도에 대해서 알려줘\"\n",
    "completion = client.chat.completions.create(\n",
    "  model=\"bartowski/gemma-2-9b-it-GGUF\",\n",
    "  messages=[\n",
    "    {\"role\": \"system\", \"content\": \"너는 관광안내원이야. 관광지에 대해서 충분하게 설명해줘.\"},\n",
    "    {\"role\": \"user\", \"content\": question}\n",
    "  ],\n",
    "  temperature=0,\n",
    "  stream=True\n",
    ")\n",
    "\n",
    "final_answer = []\n",
    "for chunk in completion:\n",
    "    # chunk 를 저장\n",
    "    chunk_content = chunk.choices[0].delta.content\n",
    "    # chunk 가 문자열이면 final_answer 에 추가\n",
    "    if isinstance(chunk_content, str):\n",
    "        final_answer.append(chunk_content)\n",
    "        # 토큰 단위로 실시간 답변 출력\n",
    "        print(chunk_content, end=\"\")"
   ]
  },
  {
   "cell_type": "code",
   "execution_count": null,
   "metadata": {},
   "outputs": [
    {
     "name": "stdout",
     "output_type": "stream",
     "text": [
      "['##', ' 제', '주', '도', ',', ' 아', '름', '다', '운', ' 자', '연', '과', ' 매', '력', '적인', ' 문화', '가', ' 어', '우', '러', '진', ' ', '섬', '!', '\\n\\n', '안', '녕', '하세요', '!', ' 관', '광', ' 안', '내', '원', '입니다', '.', ' 오', '늘', '은', ' 한국', '의', ' 동', '쪽', '에', ' 위치', '한', ' 아', '름', '다', '운', ' ', '섬', ',', ' **', '제', '주', '도', '**', '에', ' 대해', ' 알', '려', '드', '리', '겠', '습니다', '.', ' ', '\\n\\n', '**', '1', '.', ' 자', '연', '의', ' 경', '이', '로', '움', ':**', '\\n\\n', '*', ' **', '한', '라', '산', ':**', ' 제', '주', '도', '를', ' ', '둘', '러', '싼', ' ', '웅', '장', '한', ' 화', '산', '으로', ',', ' ', '1', '9', '8', '6', '년', ' 국', '립', '공', '원', '으로', ' 지', '정', '되었습니다', '.', '  ', '\\n', '    ', '*', ' 다', '양', '한', ' 등', '산', ' 코', '스', '와', ' 아', '름', '다', '운', ' 전', '망', '을', ' 자', '랑', '하며', ',', ' 특', '히', ' 정', '상', '인', ' 성', '산', '일', '출', '봉', '은', ' ', '멋', '진', ' 일', '출', ' 명', '소', '입니다', '.', '\\n', '*', ' **', '성', '산', '일', '출', '봉', ':**', ' 한', '라', '산', '의', ' 일', '부', '로', ',', ' 화', '산', ' 활', '동', '으로', ' 형', '성', '된', ' 독', '특', '한', ' 모', '습', '을', ' 가', '진', ' 절', '벽', '입니다', '.', ' ', '\\n', '    ', '*', ' 아', '름', '다', '운', ' 해', '안', '선', '과', ' 함께', ' 제', '주', '도', '의', ' 상', '징', '적인', ' 풍', '경', '을', ' 자', '랑', '합니다', '.', '\\n', '*', ' **', '협', '재', ' 해', '수', '욕', '장', ':**', ' ', '맑', '고', ' 투', '명', '한', ' 바', '닷', '물', '과', ' 하', '얀', ' 모', '래', '사', '장', '이', ' 어', '우', '러', '진', ' 아', '름', '다', '운', ' 해', '변', '입니다', '.', ' ', '\\n', '    ', '*', ' 서', '핑', ',', ' 스', '노', '클', '링', ' 등', ' 다', '양', '한', ' 해', '양', ' 레', '저', ' 활', '동', '을', ' ', '즐', '길', ' 수', ' 있습니다', '.', '\\n', '*', ' **', '만', '장', '굴', ':**', ' 세계', '에서', ' 가장', ' 큰', ' 동', '굴', ' 중', ' 하나', '로', ',', ' 화', '산', ' 활', '동', '으로', ' 형', '성', '된', ' ', '웅', '장', '한', ' 지', '하', ' 세계', '입니다', '.', ' ', '\\n', '    ', '*', ' 아', '름', '다', '운', ' ', '석', '회', '암', ' 용', '암', ' 구', '조', '와', ' 다', '양', '한', ' 지', '질', '학', '적', ' 특', '징', '을', ' 관', '찰', '할', ' 수', ' 있습니다', '.', '\\n\\n', '**', '2', '.', ' 독', '특', '한', ' 문화', ':**', '\\n\\n', '*', ' **', '제', '주', '어', ':**', ' 제', '주', '도', '만', ' 사용', '하는', ' 독', '특', '한', ' 언', '어', '로', ',', ' 한국', '어', '와', ' 다른', ' 어', '휘', '와', ' 문', '법', '을', ' 가지', '고', ' 있습니다', '.', '\\n', '*', ' **', '해', '녀', ':**', ' 바', '다', '에서', ' 해', '산', '물', '을', ' 채', '집', '하는', ' 전', '통', '적인', ' 여성', '들의', ' 활', '동', '으로', ',', ' 제', '주', '도', '의', ' 특', '별', '한', ' 문화', '를', ' 보', '여', '줍', '니다', '.', '\\n', '*', ' **', '제', '주', '민', '속', '촌', ':**', ' 전', '통', '적인', ' 제', '주', '도', ' 건', '축', ' 양', '식', '과', ' 문화', '를', ' 체', '험', '할', ' 수', ' 있는', ' 곳', '입니다', '.', ' ', '\\n', '    ', '*', ' 전', '통', ' 가', '옥', ',', ' 공', '예', '품', ',', ' 민', '속', '놀', '이', ' 등', '을', ' 관']\n"
     ]
    }
   ],
   "source": [
    "print(final_answer)"
   ]
  }
 ],
 "metadata": {
  "kernelspec": {
   "display_name": "base",
   "language": "python",
   "name": "python3"
  },
  "language_info": {
   "codemirror_mode": {
    "name": "ipython",
    "version": 3
   },
   "file_extension": ".py",
   "mimetype": "text/x-python",
   "name": "python",
   "nbconvert_exporter": "python",
   "pygments_lexer": "ipython3",
   "version": "3.11.7"
  }
 },
 "nbformat": 4,
 "nbformat_minor": 2
}
