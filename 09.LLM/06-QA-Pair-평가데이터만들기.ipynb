{
 "cells": [
  {
   "cell_type": "code",
   "execution_count": 1,
   "metadata": {},
   "outputs": [
    {
     "data": {
      "text/plain": [
       "True"
      ]
     },
     "execution_count": 1,
     "metadata": {},
     "output_type": "execute_result"
    }
   ],
   "source": [
    "from dotenv import load_dotenv\n",
    "\n",
    "load_dotenv()"
   ]
  },
  {
   "cell_type": "markdown",
   "metadata": {},
   "source": [
    "## QA Pair 를 생성할 PDF 를 로드합니다.\n"
   ]
  },
  {
   "cell_type": "code",
   "execution_count": 2,
   "metadata": {},
   "outputs": [],
   "source": [
    "from unstructured.partition.pdf import partition_pdf\n",
    "\n",
    "\n",
    "def extract_pdf_elements(filepath):\n",
    "    \"\"\"\n",
    "    PDF 파일에서 이미지, 테이블, 그리고 텍스트 조각을 추출합니다.\n",
    "    path: 이미지(.jpg)를 저장할 파일 경로\n",
    "    fname: 파일 이름\n",
    "    \"\"\"\n",
    "    return partition_pdf(\n",
    "        filename=filepath,\n",
    "        extract_images_in_pdf=False,  # PDF 내 이미지 추출 활성화\n",
    "        infer_table_structure=False,  # 테이블 구조 추론 활성화\n",
    "        chunking_strategy=\"by_title\",  # 제목별로 텍스트 조각화\n",
    "        max_characters=4000,  # 최대 문자 수\n",
    "        new_after_n_chars=3800,  # 이 문자 수 이후에 새로운 조각 생성\n",
    "        combine_text_under_n_chars=2000,  # 이 문자 수 이하의 텍스트는 결합\n",
    "    )"
   ]
  },
  {
   "cell_type": "code",
   "execution_count": 3,
   "metadata": {},
   "outputs": [],
   "source": [
    "# PDF 파일 로드\n",
    "elements = extract_pdf_elements(\"data/SPRI_AI_Brief_2023년12월호_F.pdf\")"
   ]
  },
  {
   "cell_type": "code",
   "execution_count": 4,
   "metadata": {},
   "outputs": [
    {
     "data": {
      "text/plain": [
       "14"
      ]
     },
     "execution_count": 4,
     "metadata": {},
     "output_type": "execute_result"
    }
   ],
   "source": [
    "# 로드한 TEXT 청크 수\n",
    "len(elements)"
   ]
  },
  {
   "cell_type": "code",
   "execution_count": 5,
   "metadata": {},
   "outputs": [
    {
     "name": "stdout",
     "output_type": "stream",
     "text": [
      "위험 식별과 완화에 필요한 조치를 포함\n",
      "\n",
      "주요 7개국(G7)은 미국, 일본, 독일, 영국, 프랑스, 이탈리아, 캐나다를 의미\n",
      "\n",
      "** 5월 정상회의에는 한국, 호주, 베트남 등을 포함한 8개국이 초청을 받았으나, AI 국제 행동강령에는 우선 G7 국가만 포함하여 채택\n",
      "\n",
      "n G7은 행동강령을 통해 아래의 조치를 제시했으며, 빠르게 발전하는 기술에 대응할 수 있도록\n",
      "\n",
      "이해관계자 협의를 통해 필요에 따라 개정할 예정\n",
      "\n",
      "첨단 AI 시스템의 개발 과정에서 AI 수명주기 전반에 걸쳐 위험을 평가 및 완화하는 조치를 채택하고,\n",
      "\n",
      "첨단 AI 시스템의 출시와 배포 이후 취약점과 오용 사고, 오용 유형을 파악해 완화\n",
      "\n",
      "첨단 AI 시스템의 성능과 한계를 공개하고 적절하거나 부적절한 사용영역을 알리는 방법으로 투명성을\n",
      "\n",
      "보장하고 책임성을 강화\n",
      "\n",
      "산업계, 정부, 시민사회, 학계를 포함해 첨단 AI 시스템을 개발하는 조직 간 정보공유와 사고 발생 시\n",
      "\n",
      "신고를 위해 협력하고, 위험 기반 접근방식을 토대로 개인정보보호 정책과 위험 완화 조치를 포함하는\n",
      "\n",
      "AI 거버넌스와 위험 관리 정책을 마련\n",
      "\n",
      "AI 수명주기 전반에 걸쳐 물리보안, 사이버보안, 내부자 위협 보안을 포함한 강력한 보안 통제 구현\n",
      "\n",
      "사용자가 AI 생성 콘텐츠를 식별할 수 있도록 워터마크를 비롯하여 기술적으로 가능한 기법으로\n",
      "\n",
      "신뢰할 수 있는 콘텐츠 인증과 출처 확인 메커니즘을 개발 및 구축\n",
      "\n",
      "사회적 위험과 안전·보안 문제를 완화하는 연구와 효과적인 완화 대책에 우선 투자하고, 기후 위기\n",
      "\n",
      "대응, 세계 보건과 교육 등 세계적 난제 해결을 위한 첨단 AI 시스템을 우선 개발\n",
      "\n",
      "국제 기술 표준의 개발 및 채택을 가속화하고, 개인정보와 지식재산권 보호를 위해 데이터 입력과 수집\n",
      "\n",
      "시 적절한 보호 장치 구현\n",
      "\n",
      "☞ 출처: G7, Hiroshima Process International Code of Conduct for Advanced AI Systems, 2023.10.30.\n",
      "\n",
      "2\n",
      "\n",
      "1. 정책/법제\n",
      "\n",
      "2. 기업/산업\n",
      "\n",
      "3. 기술/연구\n",
      "\n",
      "4. 인력/교육\n",
      "\n",
      "영국 AI 안전성 정상회의에 참가한 28개국, AI 위험에 공동 대응 선언\n",
      "\n",
      "KEY Contents\n",
      "\n",
      "n 영국 블레츨리 파크에서 개최된 AI 안전성 정상회의에 참가한 28개국들이 AI 안전 보장을\n",
      "\n",
      "위한 협력 방안을 담은 블레츨리 선언을 발표\n",
      "\n",
      "n 첨단 AI를 개발하는 국가와 기업들은 AI 시스템에 대한 안전 테스트 계획에 합의했으며,\n",
      "\n",
      "영국의 AI 안전 연구소가 전 세계 국가와 협력해 테스트를 주도할 예정\n",
      "\n",
      "£ AI 안전성 정상회의 참가국들, 블레츨리 선언 통해 AI 안전 보장을 위한 협력에 합의\n",
      "\n",
      "n 2023년 11월 1~2일 영국 블레츨리 파크에서 열린 AI 안전성 정상회의(AI Safety Summit)에\n",
      "\n",
      "참가한 28개국 대표들이 AI 위험 관리를 위한 ‘블레츨리 선언’을 발표\n",
      "\n",
      "선언은 AI 안전 보장을 위해 국가, 국제기구, 기업, 시민사회, 학계를 포함한 모든 이해관계자의 협력이\n",
      "\n",
      "중요하다고 강조했으며, 특히 최첨단 AI 시스템 개발 기업은 안전 평가를 비롯한 적절한 조치를 취하여\n",
      "\n",
      "AI 시스템의 안전을 보장할 책임이 있다고 지적\n",
      "\n",
      "각국은 AI 안전 보장을 위해 첨단 AI 개발기업의 투명성 향상, 적절한 평가지표와 안전 테스트 도구\n",
      "\n",
      "개발, 공공부문 역량 구축과 과학 연구개발 등의 분야에서 협력하기로 합의\n",
      "\n",
      "£ 영국 총리, 정부 주도의 첨단 AI 시스템 안전 테스트 계획 발표\n",
      "\n",
      "n 리시 수낙 영국 총리는 AI 안전성 정상회의를 마무리하며 첨단 AI 모델에 대한 안전성 시험 계획\n",
      "\n",
      "수립과 테스트 수행을 주도할 영국 AI 안전 연구소의 출범을 발표\n",
      "\n",
      "첨단 AI 모델의 안전 테스트는 국가 안보와 안전, 사회적 피해를 포함한 여러 잠재적 유해 기능에 대한\n",
      "\n",
      "시험을 포함하며, 참석자들은 정부 주도의 외부 안전 테스트에 합의\n",
      "\n",
      "각국 정부는 테스트와 기타 안전 연구를 위한 공공부문 역량에 투자하고, 테스트 결과가 다른 국가와\n",
      "\n",
      "관련된 경우 해당 국가와 결과를 공유하며, 적절한 시기에 공동 표준 개발을 위해 노력하기로 합의\n",
      "\n",
      "n 참가국들은 튜링상을 수상한 AI 학자인 요슈아 벤지오 교수가 주도하는 ‘과학의 현황(State of\n",
      "\n",
      "the Science)’ 보고서 작성에도 합의했으며, 보고서를 통해 첨단 AI의 위험과 가능성에 관한\n"
     ]
    }
   ],
   "source": [
    "print(elements[2])"
   ]
  },
  {
   "cell_type": "markdown",
   "metadata": {},
   "source": [
    "## QA Pair 생성\n"
   ]
  },
  {
   "cell_type": "code",
   "execution_count": 6,
   "metadata": {},
   "outputs": [],
   "source": [
    "from langchain_core.pydantic_v1 import BaseModel, Field\n",
    "\n",
    "\n",
    "# 원하는 데이터 구조를 정의합니다.\n",
    "class QAPair(BaseModel):\n",
    "    question: str = Field(description=\"Question generated from the text\")\n",
    "    answer: str = Field(description=\"Answer related to the question\")"
   ]
  },
  {
   "cell_type": "code",
   "execution_count": 13,
   "metadata": {},
   "outputs": [],
   "source": [
    "from langchain_core.prompts import PromptTemplate\n",
    "\n",
    "prompt = PromptTemplate.from_template(\n",
    "    \"\"\"Context information is below. You are only aware of this context and nothing else.\n",
    "---------------------\n",
    "\n",
    "{context}\n",
    "\n",
    "---------------------\n",
    "Given this context, generate only questions based on the below query.\n",
    "You are an Teacher/Professor in {domain}. \n",
    "Your task is to provide exactly **{num_questions}** question(s) for an upcoming quiz/examination. \n",
    "You are not to provide more or less than this number of questions. \n",
    "The question(s) should be diverse in nature across the document. \n",
    "The purpose of question(s) is to test the understanding of the students on the context information provided.\n",
    "You must also provide the answer to each question. The answer should be based on the context information provided only.\n",
    "\n",
    "Restrict the question(s) to the context information provided only.\n",
    "QUESTION and ANSWER should be written in Korean. response in JSON format which contains the `question` and `answer`.\n",
    "ANSWER should be a complete sentence.\n",
    "\n",
    "#Format:\n",
    "```json\n",
    "{{\n",
    "    \"QUESTION\": \"바이든 대통령이 서명한 '안전하고 신뢰할 수 있는 AI 개발과 사용에 관한 행정명령'의 주요 목적 중 하나는 무엇입니까?\",\n",
    "    \"ANSWER\": \"바이든 대통령이 서명한 행정명령의 주요 목적은 AI의 안전 마련과 보안 기준 마련을 위함입니다.\"\n",
    "}},\n",
    "{{\n",
    "    \"QUESTION\": \"메타의 라마2가 오픈소스 모델 중에서 어떤 유형의 작업에서 가장 우수한 성능을 발휘했습니까?\",\n",
    "    \"ANSWER\": \"메타의 라마2는 RAG 없는 질문과 답변 및 긴 형식의 텍스트 생성에서 오픈소스 모델 중 가장 우수한 성능을 발휘했습니다.\"    \n",
    "}},\n",
    "{{\n",
    "    \"QUESTION\": \"IDC 예측에 따르면 2027년까지 생성 AI 플랫폼과 애플리케이션 시장의 매출은 얼마로 전망되나요?\",\n",
    "    \"ANSWER\": \"IDC 예측에 따르면 2027년까지 생성 AI 플랫폼과 애플리케이션 시장의 매출은 283억 달러로 전망됩니다.\"    \n",
    "}}\n",
    "```\n",
    "\"\"\"\n",
    ")"
   ]
  },
  {
   "cell_type": "code",
   "execution_count": 15,
   "metadata": {},
   "outputs": [
    {
     "name": "stdout",
     "output_type": "stream",
     "text": [
      "```json\n",
      "{\n",
      "    \"QUESTION\": \"바이든 대통령이 발표한 행정명령에서 AI 시스템의 안전성과 신뢰성을 확인하기 위해 어떤 조치를 추진하고 있습니까?\",\n",
      "    \"ANSWER\": \"바이든 대통령이 발표한 행정명령에서는 강력한 AI 시스템을 개발하는 기업에게 안전 테스트 결과와 시스템에 관한 주요 정보를 미국 정부와 공유할 것을 요구하고, AI 시스템의 안전성과 신뢰성 확인을 위한 표준 및 AI 생성 콘텐츠 표시를 위한 표준과 모범사례 확립을 추진하고 있습니다.\"\n",
      "},\n",
      "{\n",
      "    \"QUESTION\": \"G7이 합의한 '히로시마 AI 프로세스'를 통한 AI 국제 행동강령의 주요 내용은 무엇입니까?\",\n",
      "    \"ANSWER\": \"G7이 합의한 '히로시마 AI 프로세스'를 통한 AI 국제 행동강령의 주요 내용은 AI 위험 식별과 완화를 위한 자발적인 채택, AI 수명주기 전반에 걸친 위험 평가와 완화, 투명성과 책임성의 보장, 정보공유와 이해관계자 간 협력, 보안 통제, 콘텐츠 인증과 출처 확인 등의 조치를 요구하는 것입니다.\"\n",
      "},\n",
      "{\n",
      "    \"QUESTION\": \"바이든 대통령의 AI 행정명령에서 국제협력을 포함한 주요 목적 중 하나는 무엇입니까?\",\n",
      "    \"ANSWER\": \"바이든 대통령의 AI 행정명령에서 국제협력을 포함한 주요 목적은 안전하고 신뢰할 수 있는 AI 개발과 사용을 보장하기 위해 국제적인 협력과 정보공유를 촉진하는 것입니다.\"\n",
      "}\n",
      "``````json\n",
      "{\n",
      "    \"QUESTION\": \"G7 국가들이 채택한 AI 국제 행동강령에 따르면, 첨단 AI 시스템의 개발 과정에서 어떤 조치를 취해야 합니까?\",\n",
      "    \"ANSWER\": \"G7 국가들은 첨단 AI 시스템의 개발 과정에서 AI 수명주기 전반에 걸쳐 위험을 평가 및 완화하는 조치를 채택해야 합니다.\"\n",
      "},\n",
      "{\n",
      "    \"QUESTION\": \"블레츨리 선언에 따라 첨단 AI 시스템 개발 기업은 어떤 책임이 있습니까?\",\n",
      "    \"ANSWER\": \"블레츨리 선언에 따라 첨단 AI 시스템 개발 기업은 안전 평가를 비롯한 적절한 조치를 취하여 AI 시스템의 안전을 보장할 책임이 있습니다.\"\n",
      "},\n",
      "{\n",
      "    \"QUESTION\": \"영국 AI 안전성 정상회의에서 발표된 계획에 따르면, 어떤 기관이 첨단 AI 모델에 대한 안전성 시험을 주도할 예정입니까?\",\n",
      "    \"ANSWER\": \"영국의 AI 안전 연구소가 첨단 AI 모델에 대한 안전성 시험을 주도할 예정입니다.\"\n",
      "}\n",
      "``````json\n",
      "{\n",
      "    \"QUESTION\": \"한국과 영국 정부가 공동 개최하기로 합의한 AI 미니 정상회의는 언제 온라인으로 개최될 예정입니까?\",\n",
      "    \"ANSWER\": \"한국과 영국 정부는 6개월 뒤에 온라인으로 AI 미니 정상회의를 공동 개최하기로 합의했습니다.\"\n",
      "},\n",
      "{\n",
      "    \"QUESTION\": \"미국 캘리포니아 북부지방법원이 예술가들의 저작권 침해 소송을 기각한 주된 이유는 무엇입니까?\",\n",
      "    \"ANSWER\": \"미국 캘리포니아 북부지방법원은 상당수 작품이 저작권청에 등록되지 않았으며, AI로 생성된 이미지와 특정 작템 간 유사성을 입증하기 어렵다는 점을 기각 이유로 제시했습니다.\"\n",
      "},\n",
      "{\n",
      "    \"QUESTION\": \"미국 연방거래위원회(FTC)가 저작권청에 제출한 의견서에서 생성 AI와 관련하여 어떤 우려를 표시했습니까?\",\n",
      "    \"ANSWER\": \"미국 연방거래위원회(FTC)는 생성 AI로 인한 창작자와 소비자 피해의 가능성과 일부 빅테크가 막대한 재원을 활용해 시장 지배력을 더욱 강화할 수 있다는 우려를 표시했습니다.\"\n",
      "}\n",
      "``````json\n",
      "{\n",
      "    \"QUESTION\": \"FTC가 생성 AI와 관련하여 어떤 유형의 위험에 주목하고 있습니까?\",\n",
      "    \"ANSWER\": \"FTC는 생성 AI의 사용과 관련하여 소비자의 개인정보 침해, 차별과 편견의 자동화, 사기 범죄 등의 위험에 주목하고 있습니다.\"\n",
      "},\n",
      "{\n",
      "    \"QUESTION\": \"FTC가 '알렉사'와 '링'에 부과한 과징금의 액수는 얼마입니까?\",\n",
      "    \"ANSWER\": \"FTC는 '알렉사'와 '링'에 3,080만 달러의 과징금을 부과했습니다.\"\n",
      "},\n",
      "{\n",
      "    \"QUESTION\": \"독일, 프랑스, 이탈리아가 제안한 기반모델 규제 방식은 무엇입니까?\",\n",
      "    \"ANSWER\": \"독일, 프랑스, 이탈리아는 기반모델에 대한 '의무적 자율규제(Mandatory Self-regulation)' 방식을 제안했습니다.\"\n",
      "}\n",
      "``````json\n",
      "{\n",
      "    \"QUESTION\": \"프런티어 모델 포럼이 AI 안전 기금을 조성하는 주된 목적은 무엇입니까?\",\n",
      "    \"ANSWER\": \"프런티어 모델 포럼이 AI 안전 기금을 조성하는 주된 목적은 AI 모델의 취약점을 발견하고 검증하는 레드팀 활동을 지원하기 위함입니다.\"\n",
      "},\n",
      "{\n",
      "    \"QUESTION\": \"데이터 출처 탐색기 플랫폼을 출시한 코히어와 12개 기관의 목적은 무엇입니까?\",\n",
      "    \"ANSWER\": \"코히어와 12개 기관이 데이터 출처 탐색기 플랫폼을 출시한 목적은 광범위한 데이터셋에 대한 감사를 통해 원본 데이터 출처, 재라이선스 상태, 작성자 등 다양한 정보를 제공하기 위함입니다.\"\n",
      "},\n",
      "{\n",
      "    \"QUESTION\": \"AI 감독기관이 모델 카드를 토대로 확인하는 것은 무엇이며, 위반 시 어떤 절차를 따르기로 제안되었나요?\",\n",
      "    \"ANSWER\": \"AI 감독기관은 모델 카드를 토대로 기반모델 개발기업의 행동강령 준수 여부를 확인하며, 위반 시 곧바로 제재를 가하지 않고 위반행위 분석과 영향 평가를 시행한 후 제재하는 방안을 제안되었습니다.\"\n",
      "}\n",
      "``````json\n",
      "{\n",
      "    \"QUESTION\": \"데이터 출처 탐색기 플랫폼이 공개된 날짜는 언제입니까?\",\n",
      "    \"ANSWER\": \"데이터 출처 탐색기 플랫폼은 2023년 10월 25일에 공개되었습니다.\"\n",
      "},\n",
      "{\n",
      "    \"QUESTION\": \"알리바바 클라우드가 공개한 최신 LLM의 이름은 무엇입니까?\",\n",
      "    \"ANSWER\": \"알리바바 클라우드가 공개한 최신 LLM의 이름은 통이치엔원 2.0입니다.\"\n",
      "},\n",
      "{\n",
      "    \"QUESTION\": \"데이터 출처 탐색기 플랫폼의 주요 목적은 무엇입니까?\",\n",
      "    \"ANSWER\": \"데이터 출처 탐색기 플랫폼의 주요 목적은 데이터 투명성을 향상시키는 것입니다.\"\n",
      "}\n",
      "``````json\n",
      "{\n",
      "    \"QUESTION\": \"알리바바 클라우드가 오픈소스화할 계획인 AI 모델의 이름은 무엇입니까?\",\n",
      "    \"ANSWER\": \"알리바바 클라우드가 오픈소스화할 계획인 AI 모델의 이름은 통이치엔원입니다.\"\n",
      "},\n",
      "{\n",
      "    \"QUESTION\": \"삼성 가우스 AI 모델이 지원하는 세 가지 유형의 모델은 무엇입니까?\",\n",
      "    \"ANSWER\": \"삼성 가우스 AI 모델은 언어, 코드, 이미지의 세 가지 유형의 모델을 지원합니다.\"\n",
      "},\n",
      "{\n",
      "    \"QUESTION\": \"구글이 앤스로픽에 최대 몇 달러를 투자하기로 합의했습니까?\",\n",
      "    \"ANSWER\": \"구글이 앤스로픽에 최대 20억 달러를 투자하기로 합의했습니다.\"\n",
      "}\n",
      "``````json\n",
      "{\n",
      "    \"QUESTION\": \"앤스로픽이 구글의 클라우드 서비스를 사용하기 위해 체결한 계약의 규모와 기간은 얼마인가요?\",\n",
      "    \"ANSWER\": \"앤스로픽은 구글의 클라우드 서비스 사용을 위해 4년간 30억 달러 규모의 계약을 체결했습니다.\"\n",
      "},\n",
      "{\n",
      "    \"QUESTION\": \"마이크로소프트가 오픈AI에 추가로 투자한 금액과 이로 인해 확보한 지분 비율은 얼마인가요?\",\n",
      "    \"ANSWER\": \"마이크로소프트는 오픈AI에 추가로 100억 달러를 투자하여 오픈AI의 지분 49%를 확보했습니다.\"\n",
      "},\n",
      "{\n",
      "    \"QUESTION\": \"IDC의 예측에 따르면, 2027년 AI 소프트웨어 시장의 예상 매출액은 얼마이며, 이는 2022년 대비 얼마나 성장한 것인가요?\",\n",
      "    \"ANSWER\": \"IDC의 예측에 따르면, 2027년 AI 소프트웨어 시장의 예상 매출액은 2,510억 달러이며, 이는 2022년 640억 달러에서 연평균 성장률 31.4%로 급성장한 것입니다.\"\n",
      "}\n",
      "``````json\n",
      "{\n",
      "    \"QUESTION\": \"IDC 설문조사 결과, 향후 12개월 동안 기업들이 고려하는 AI 소프트웨어 도입 방식은 무엇인가요?\",\n",
      "    \"ANSWER\": \"향후 12개월 동안 응답자의 3분의 1은 기업이 특정 사용 사례나 응용 영역에서 외부 AI 소프트웨어의 구매를 고려하거나 외부 AI 소프트웨어와 내부 자원의 결합을 고려합니다.\"\n",
      "},\n",
      "{\n",
      "    \"QUESTION\": \"빌 게이츠가 예상하는 AI 에이전트의 보급으로 인한 컴퓨터 사용 방식의 변화는 무엇인가요?\",\n",
      "    \"ANSWER\": \"빌 게이츠는 5년 내 일상언어로 모든 작업을 처리할 수 있는 AI 에이전트가 보급되며 컴퓨터를 사용하는 방식이 완전히 바뀔 것으로 예상합니다.\"\n",
      "},\n",
      "{\n",
      "    \"QUESTION\": \"유튜브가 2024년부터 시행할 새로운 정책의 주요 내용은 무엇인가요?\",\n",
      "    \"ANSWER\": \"유튜브는 2024년부터 생성 AI를 사용한 콘텐츠에 AI 라벨 표시를 의무화하며, 이를 준수하지 않는 콘텐츠는 삭제하고 크리에이터에 대한 수익 배분도 중단할 수 있다고 합니다.\"\n",
      "}\n",
      "``````json\n",
      "{\n",
      "    \"QUESTION\": \"유튜브가 생성 AI 콘텐츠에 대해 새로 시행하는 규칙의 주요 내용은 무엇입니까?\",\n",
      "    \"ANSWER\": \"유튜브가 시행하는 새로운 규칙의 주요 내용은 생성 AI를 사용한 콘텐츠에 AI 라벨을 표시하는 것입니다.\"\n",
      "},\n",
      "{\n",
      "    \"QUESTION\": \"유튜브에서 AI 생성 콘텐츠 삭제 요청을 받을 계획인 경우, 어떤 요소를 고려하기로 했습니까?\",\n",
      "    \"ANSWER\": \"유튜브는 콘텐츠가 패러디나 풍자인지, 해당 영상에서 삭제 요청을 한 특정인을 식별할 수 있는지, 공직자나 유명인이 등장하는지 등 다양한 요소를 고려할 예정입니다.\"\n",
      "},\n",
      "{\n",
      "    \"QUESTION\": \"영국 과학혁신기술부가 설립한 AI 안전 연구소의 목표는 무엇입니까?\",\n",
      "    \"ANSWER\": \"AI 안전 연구소의 목표는 첨단 AI의 위험을 이해하고 거버넌스 마련에 필요한 사회·기술적 인프라 개발을 통해 영국을 AI 안전 연구의 글로벌 허브로 확립하는 것입니다.\"\n",
      "}\n",
      "``````json\n",
      "{\n",
      "    \"QUESTION\": \"구글 딥마인드가 발표한 범용 AI 모델의 분류 체계에서, 현재 범용 AI가 달성한 단계는 몇 단계입니까?\",\n",
      "    \"ANSWER\": \"현재 범용 AI는 1단계 수준에 머물러 있습니다.\"\n",
      "},\n",
      "{\n",
      "    \"QUESTION\": \"AI 안전성 정상회의에서 합의된 내용 중 하나는 무엇입니까?\",\n",
      "    \"ANSWER\": \"AI 안전성 정상회의에서는 첨단 AI 모델의 평가 후 해당 모델이 배포된 타국의 정부 및 연구소와 평가 결과를 공유하는 것에 합의했습니다.\"\n",
      "},\n",
      "{\n",
      "    \"QUESTION\": \"구글 딥마인드 연구진이 제시한 범용 AI의 개념 정의에 필요한 원칙 중 하나는 무엇입니까?\",\n",
      "    \"ANSWER\": \"구글 딥마인드 연구진이 제시한 원칙 중 하나는 '프로세스가 아닌 기능에 중점'으로, AI가 어떻게 작동하는지보다 무엇을 할 수 있는지가 더 중요하다는 것입니다.\"\n",
      "}\n",
      "``````json\n",
      "{\n",
      "    \"QUESTION\": \"갈릴레오가 발표한 'LLM 환각 지수'에서 GPT-4의 성능은 어떻게 평가되었습니까?\",\n",
      "    \"ANSWER\": \"갈릴레오가 발표한 'LLM 환각 지수'에서 GPT-4는 작업 유형과 관계없이 가장 우수한 성능을 보였습니다.\"\n",
      "},\n",
      "{\n",
      "    \"QUESTION\": \"환각 지수를 평가하는 데 사용된 3개의 작업 유형은 무엇입니까?\",\n",
      "    \"ANSWER\": \"환각 지수를 평가하는 데 사용된 3개의 작업 유형은 검색 증강 생성을 포함한 질문과 답변, RAG 없는 질문과 답변, 그리고 긴 형식의 텍스트 생성입니다.\"\n",
      "},\n",
      "{\n",
      "    \"QUESTION\": \"옥스퍼드 인터넷 연구소의 연구에 따르면, AI 기술을 가진 근로자는 평균적으로 얼마나 더 높은 임금을 받을 수 있습니까?\",\n",
      "    \"ANSWER\": \"옥스퍼드 인터넷 연구소의 연구에 따르면, AI 기술을 가진 근로자는 평균적으로 21% 더 높은 임금을 받을 수 있습니다.\"\n",
      "}\n",
      "``````json\n",
      "{\n",
      "    \"QUESTION\": \"CES 2024 전시회의 주제는 무엇이며, 어떤 산업을 포괄한다고 언급되었나요?\",\n",
      "    \"ANSWER\": \"CES 2024 전시회의 주제는 '올 온(All on)'이며, 모든 산업을 포괄한다고 언급되었습니다.\"\n",
      "},\n",
      "{\n",
      "    \"QUESTION\": \"AIMLA 2024 컨퍼런스는 어떤 분야의 지식과 최신 연구 결과를 공유하는 행사인가요?\",\n",
      "    \"ANSWER\": \"AIMLA 2024 컨퍼런스는 인공지능 및 머신러닝의 이론, 방법론 및 실용적 접근에 관한 지식과 최신 연구 결과를 공유하는 행사입니다.\"\n",
      "},\n",
      "{\n",
      "    \"QUESTION\": \"AAAI Conference on Artificial Intelligence에서는 어떤 활동들이 진행되나요?\",\n",
      "    \"ANSWER\": \"AAAI Conference on Artificial Intelligence에서는 AI 관련 기술 발표, 특별 트랙, 초청 연사, 워크숍, 튜토리얼, 포스터 세션, 주제 발표, 대회, 전시 프로그램 등이 진행됩니다.\"\n",
      "}\n",
      "```"
     ]
    }
   ],
   "source": [
    "from langchain_core.output_parsers import JsonOutputParser\n",
    "from langchain_openai import ChatOpenAI\n",
    "from langchain_core.callbacks import StreamingStdOutCallbackHandler\n",
    "\n",
    "\n",
    "# 파서를 설정하고 프롬프트 템플릿에 지시사항을 주입합니다.\n",
    "parser = JsonOutputParser(pydantic_object=QAPair)\n",
    "\n",
    "chain = (\n",
    "    prompt\n",
    "    | ChatOpenAI(\n",
    "        model=\"gpt-4o\",\n",
    "        temperature=0,\n",
    "        streaming=True,\n",
    "        callbacks=[StreamingStdOutCallbackHandler()],\n",
    "    )\n",
    "    | parser\n",
    ")  # 체인을 구성합니다.\n",
    "\n",
    "qa_pair = []\n",
    "\n",
    "for element in elements[1:]:\n",
    "    if element.text:\n",
    "        qa_pair.append(\n",
    "            chain.invoke(\n",
    "                {\"context\": element.text, \"domain\": \"AI\", \"num_questions\": \"3\"}\n",
    "            )\n",
    "        )"
   ]
  },
  {
   "cell_type": "code",
   "execution_count": 18,
   "metadata": {},
   "outputs": [
    {
     "data": {
      "text/plain": [
       "[{'QUESTION': '바이든 대통령이 발표한 행정명령에서 AI 시스템의 안전성과 신뢰성을 확인하기 위해 어떤 조치를 추진하고 있습니까?',\n",
       "  'ANSWER': '바이든 대통령이 발표한 행정명령에서는 강력한 AI 시스템을 개발하는 기업에게 안전 테스트 결과와 시스템에 관한 주요 정보를 미국 정부와 공유할 것을 요구하고, AI 시스템의 안전성과 신뢰성 확인을 위한 표준 및 AI 생성 콘텐츠 표시를 위한 표준과 모범사례 확립을 추진하고 있습니다.'},\n",
       " {'QUESTION': 'G7 국가들이 채택한 AI 국제 행동강령에 따르면, 첨단 AI 시스템의 개발 과정에서 어떤 조치를 취해야 합니까?',\n",
       "  'ANSWER': 'G7 국가들은 첨단 AI 시스템의 개발 과정에서 AI 수명주기 전반에 걸쳐 위험을 평가 및 완화하는 조치를 채택해야 합니다.'},\n",
       " {'QUESTION': '한국과 영국 정부가 공동 개최하기로 합의한 AI 미니 정상회의는 언제 온라인으로 개최될 예정입니까?',\n",
       "  'ANSWER': '한국과 영국 정부는 6개월 뒤에 온라인으로 AI 미니 정상회의를 공동 개최하기로 합의했습니다.'}]"
      ]
     },
     "execution_count": 18,
     "metadata": {},
     "output_type": "execute_result"
    }
   ],
   "source": [
    "qa_pair[:3]"
   ]
  },
  {
   "cell_type": "code",
   "execution_count": 20,
   "metadata": {},
   "outputs": [],
   "source": [
    "# 디버깅을 위한 데이터셋 추가\n",
    "additional_qa = [\n",
    "    {\n",
    "        \"QUESTION\": \"테디노트 유튜브 채널에 대해서 알려주세요.\",\n",
    "        \"ANSWER\": \"테디노트(TeddyNote)는 데이터 분석, 머신러닝, 딥러닝 등의 주제를 다루는 유튜브 채널입니다. 이 채널을 운영하는 이경록님은 데이터 분석과 인공지능에 대한 다양한 강의를 제공하며, 초보자도 쉽게 따라할 수 있도록 친절하게 설명합니다.\",\n",
    "    },\n",
    "    {\n",
    "        \"QUESTION\": \"랭체인 관련 튜토리얼은 어디서 찾을 수 있나요?\",\n",
    "        \"ANSWER\": \"테디노트의 위키독스 페이지에는 LangChain에 대한 다양한 한국어 튜토리얼이 제공됩니다. 링크: https://wikidocs.net/book/14314\",\n",
    "    },\n",
    "    {\n",
    "        \"QUESTION\": \"테디노트 운영자에 대해서 알려주세요\",\n",
    "        \"ANSWER\": \"테디노트(TeddyNote) 운영자는 이경록(Teddy Lee)입니다. 그는 데이터 분석, 머신러닝, 딥러닝 분야에서 활동하는 전문가로, 다양한 교육 및 강의를 통해 지식을 공유하고 있습니다. 이경록님은 여러 기업과 교육기관에서 파이썬, 데이터 분석, 텐서플로우 등 다양한 주제로 강의를 진행해 왔습니다\",\n",
    "    },\n",
    "]"
   ]
  },
  {
   "cell_type": "code",
   "execution_count": 27,
   "metadata": {},
   "outputs": [
    {
     "data": {
      "text/plain": [
       "[{'QUESTION': '바이든 대통령이 발표한 행정명령에서 AI 시스템의 안전성과 신뢰성을 확인하기 위해 어떤 조치를 추진하고 있습니까?',\n",
       "  'ANSWER': '바이든 대통령이 발표한 행정명령에서는 강력한 AI 시스템을 개발하는 기업에게 안전 테스트 결과와 시스템에 관한 주요 정보를 미국 정부와 공유할 것을 요구하고, AI 시스템의 안전성과 신뢰성 확인을 위한 표준 및 AI 생성 콘텐츠 표시를 위한 표준과 모범사례 확립을 추진하고 있습니다.'},\n",
       " {'QUESTION': 'G7 국가들이 채택한 AI 국제 행동강령에 따르면, 첨단 AI 시스템의 개발 과정에서 어떤 조치를 취해야 합니까?',\n",
       "  'ANSWER': 'G7 국가들은 첨단 AI 시스템의 개발 과정에서 AI 수명주기 전반에 걸쳐 위험을 평가 및 완화하는 조치를 채택해야 합니다.'},\n",
       " {'QUESTION': '한국과 영국 정부가 공동 개최하기로 합의한 AI 미니 정상회의는 언제 온라인으로 개최될 예정입니까?',\n",
       "  'ANSWER': '한국과 영국 정부는 6개월 뒤에 온라인으로 AI 미니 정상회의를 공동 개최하기로 합의했습니다.'},\n",
       " {'QUESTION': 'FTC가 생성 AI와 관련하여 어떤 유형의 위험에 주목하고 있습니까?',\n",
       "  'ANSWER': 'FTC는 생성 AI의 사용과 관련하여 소비자의 개인정보 침해, 차별과 편견의 자동화, 사기 범죄 등의 위험에 주목하고 있습니다.'},\n",
       " {'QUESTION': '프런티어 모델 포럼이 AI 안전 기금을 조성하는 주된 목적은 무엇입니까?',\n",
       "  'ANSWER': '프런티어 모델 포럼이 AI 안전 기금을 조성하는 주된 목적은 AI 모델의 취약점을 발견하고 검증하는 레드팀 활동을 지원하기 위함입니다.'},\n",
       " {'QUESTION': '데이터 출처 탐색기 플랫폼이 공개된 날짜는 언제입니까?',\n",
       "  'ANSWER': '데이터 출처 탐색기 플랫폼은 2023년 10월 25일에 공개되었습니다.'},\n",
       " {'QUESTION': '알리바바 클라우드가 오픈소스화할 계획인 AI 모델의 이름은 무엇입니까?',\n",
       "  'ANSWER': '알리바바 클라우드가 오픈소스화할 계획인 AI 모델의 이름은 통이치엔원입니다.'},\n",
       " {'QUESTION': '앤스로픽이 구글의 클라우드 서비스를 사용하기 위해 체결한 계약의 규모와 기간은 얼마인가요?',\n",
       "  'ANSWER': '앤스로픽은 구글의 클라우드 서비스 사용을 위해 4년간 30억 달러 규모의 계약을 체결했습니다.'},\n",
       " {'QUESTION': 'IDC 설문조사 결과, 향후 12개월 동안 기업들이 고려하는 AI 소프트웨어 도입 방식은 무엇인가요?',\n",
       "  'ANSWER': '향후 12개월 동안 응답자의 3분의 1은 기업이 특정 사용 사례나 응용 영역에서 외부 AI 소프트웨어의 구매를 고려하거나 외부 AI 소프트웨어와 내부 자원의 결합을 고려합니다.'},\n",
       " {'QUESTION': '유튜브가 생성 AI 콘텐츠에 대해 새로 시행하는 규칙의 주요 내용은 무엇입니까?',\n",
       "  'ANSWER': '유튜브가 시행하는 새로운 규칙의 주요 내용은 생성 AI를 사용한 콘텐츠에 AI 라벨을 표시하는 것입니다.'},\n",
       " {'QUESTION': '구글 딥마인드가 발표한 범용 AI 모델의 분류 체계에서, 현재 범용 AI가 달성한 단계는 몇 단계입니까?',\n",
       "  'ANSWER': '현재 범용 AI는 1단계 수준에 머물러 있습니다.'},\n",
       " {'QUESTION': \"갈릴레오가 발표한 'LLM 환각 지수'에서 GPT-4의 성능은 어떻게 평가되었습니까?\",\n",
       "  'ANSWER': \"갈릴레오가 발표한 'LLM 환각 지수'에서 GPT-4는 작업 유형과 관계없이 가장 우수한 성능을 보였습니다.\"},\n",
       " {'QUESTION': 'CES 2024 전시회의 주제는 무엇이며, 어떤 산업을 포괄한다고 언급되었나요?',\n",
       "  'ANSWER': \"CES 2024 전시회의 주제는 '올 온(All on)'이며, 모든 산업을 포괄한다고 언급되었습니다.\"},\n",
       " {'QUESTION': '테디노트 유튜브 채널에 대해서 알려주세요.',\n",
       "  'ANSWER': '테디노트(TeddyNote)는 데이터 분석, 머신러닝, 딥러닝 등의 주제를 다루는 유튜브 채널입니다. 이 채널을 운영하는 이경록님은 데이터 분석과 인공지능에 대한 다양한 강의를 제공하며, 초보자도 쉽게 따라할 수 있도록 친절하게 설명합니다.'},\n",
       " {'QUESTION': '랭체인 관련 튜토리얼은 어디서 찾을 수 있나요?',\n",
       "  'ANSWER': '테디노트의 위키독스 페이지에는 LangChain에 대한 다양한 한국어 튜토리얼이 제공됩니다. 링크: https://wikidocs.net/book/14314'},\n",
       " {'QUESTION': '테디노트 운영자에 대해서 알려주세요',\n",
       "  'ANSWER': '테디노트(TeddyNote) 운영자는 이경록(Teddy Lee)입니다. 그는 데이터 분석, 머신러닝, 딥러닝 분야에서 활동하는 전문가로, 다양한 교육 및 강의를 통해 지식을 공유하고 있습니다. 이경록님은 여러 기업과 교육기관에서 파이썬, 데이터 분석, 텐서플로우 등 다양한 주제로 강의를 진행해 왔습니다'}]"
      ]
     },
     "execution_count": 27,
     "metadata": {},
     "output_type": "execute_result"
    }
   ],
   "source": [
    "qa_pair.extend(additional_qa)\n",
    "qa_pair"
   ]
  },
  {
   "cell_type": "markdown",
   "metadata": {},
   "source": [
    "## jsonl 파일로 저장\n"
   ]
  },
  {
   "cell_type": "code",
   "execution_count": 34,
   "metadata": {},
   "outputs": [],
   "source": [
    "import json\n",
    "\n",
    "with open(\"qa_pair.jsonl\", \"w\", encoding=\"utf-8\") as f:\n",
    "    for qa in qa_pair:\n",
    "        qa_modified = {\n",
    "            \"instruction\": qa[\"QUESTION\"],\n",
    "            \"input\": \"\",\n",
    "            \"output\": qa[\"ANSWER\"],\n",
    "        }\n",
    "        f.write(json.dumps(qa_modified, ensure_ascii=False) + \"\\n\")"
   ]
  },
  {
   "cell_type": "markdown",
   "metadata": {},
   "source": [
    "HuggingFace datasets 라이브러리를 사용하여 데이터셋을 로드합니다.\n"
   ]
  },
  {
   "cell_type": "code",
   "execution_count": 35,
   "metadata": {},
   "outputs": [
    {
     "data": {
      "application/vnd.jupyter.widget-view+json": {
       "model_id": "b865ad2e148046b59786055a26b0c8c7",
       "version_major": 2,
       "version_minor": 0
      },
      "text/plain": [
       "Generating train split: 0 examples [00:00, ? examples/s]"
      ]
     },
     "metadata": {},
     "output_type": "display_data"
    }
   ],
   "source": [
    "from datasets import load_dataset\n",
    "\n",
    "# JSONL 파일 경로\n",
    "jsonl_file = \"qa_pair.jsonl\"\n",
    "\n",
    "# JSONL 파일을 Dataset으로 로드\n",
    "dataset = load_dataset(\"json\", data_files=jsonl_file)"
   ]
  },
  {
   "cell_type": "code",
   "execution_count": 36,
   "metadata": {},
   "outputs": [
    {
     "data": {
      "text/plain": [
       "DatasetDict({\n",
       "    train: Dataset({\n",
       "        features: ['instruction', 'input', 'output'],\n",
       "        num_rows: 16\n",
       "    })\n",
       "})"
      ]
     },
     "execution_count": 36,
     "metadata": {},
     "output_type": "execute_result"
    }
   ],
   "source": [
    "dataset"
   ]
  },
  {
   "cell_type": "code",
   "execution_count": 37,
   "metadata": {},
   "outputs": [
    {
     "data": {
      "application/vnd.jupyter.widget-view+json": {
       "model_id": "c10fdf6f415b4f5da9045d7bfb5f6215",
       "version_major": 2,
       "version_minor": 0
      },
      "text/plain": [
       "Uploading the dataset shards:   0%|          | 0/1 [00:00<?, ?it/s]"
      ]
     },
     "metadata": {},
     "output_type": "display_data"
    },
    {
     "data": {
      "application/vnd.jupyter.widget-view+json": {
       "model_id": "437867696c5e493e9e3352c329703349",
       "version_major": 2,
       "version_minor": 0
      },
      "text/plain": [
       "Creating parquet from Arrow format:   0%|          | 0/1 [00:00<?, ?ba/s]"
      ]
     },
     "metadata": {},
     "output_type": "display_data"
    },
    {
     "data": {
      "application/vnd.jupyter.widget-view+json": {
       "model_id": "eee8b9b6b6b24d5da9e9a65fa9239a8d",
       "version_major": 2,
       "version_minor": 0
      },
      "text/plain": [
       "README.md:   0%|          | 0.00/308 [00:00<?, ?B/s]"
      ]
     },
     "metadata": {},
     "output_type": "display_data"
    },
    {
     "data": {
      "text/plain": [
       "CommitInfo(commit_url='https://huggingface.co/datasets/teddylee777/QA-Dataset-mini/commit/112ac542e372b8793b793597bab233f8705c0dbe', commit_message='Upload dataset', commit_description='', oid='112ac542e372b8793b793597bab233f8705c0dbe', pr_url=None, pr_revision=None, pr_num=None)"
      ]
     },
     "execution_count": 37,
     "metadata": {},
     "output_type": "execute_result"
    }
   ],
   "source": [
    "from huggingface_hub import HfApi\n",
    "\n",
    "# HfApi 인스턴스 생성\n",
    "api = HfApi()\n",
    "\n",
    "# 데이터셋을 업로드할 리포지토리 이름\n",
    "repo_name = \"teddylee777/QA-Dataset-mini\"\n",
    "\n",
    "# 데이터셋을 허브에 푸시\n",
    "dataset.push_to_hub(repo_name, token=\"\")"
   ]
  }
 ],
 "metadata": {
  "kernelspec": {
   "display_name": "Python 3",
   "language": "python",
   "name": "python3"
  },
  "language_info": {
   "codemirror_mode": {
    "name": "ipython",
    "version": 3
   },
   "file_extension": ".py",
   "mimetype": "text/x-python",
   "name": "python",
   "nbconvert_exporter": "python",
   "pygments_lexer": "ipython3",
   "version": "3.10.14"
  }
 },
 "nbformat": 4,
 "nbformat_minor": 2
}
